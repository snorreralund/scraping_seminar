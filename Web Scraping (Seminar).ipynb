{
 "cells": [
  {
   "cell_type": "code",
   "execution_count": 28,
   "metadata": {
    "slideshow": {
     "slide_type": "skip"
    }
   },
   "outputs": [
    {
     "data": {
      "text/plain": [
       "{'height': 768, 'scroll': True, 'width': 1228}"
      ]
     },
     "execution_count": 28,
     "metadata": {},
     "output_type": "execute_result"
    }
   ],
   "source": [
    "from notebook.services.config import ConfigManager\n",
    "cm = ConfigManager()\n",
    "cm.update('livereveal', {\n",
    "        'width': int(1024*1.2),\n",
    "        'height': 768,\n",
    "        'scroll':True\n",
    "})"
   ]
  },
  {
   "cell_type": "code",
   "execution_count": null,
   "metadata": {
    "collapsed": true
   },
   "outputs": [],
   "source": []
  },
  {
   "cell_type": "markdown",
   "metadata": {
    "slideshow": {
     "slide_type": "slide"
    }
   },
   "source": [
    "**<center>Accessing data from the web</center>**\n",
    "***<center>Crawling, scraping, and APIs</center>***\n",
    "\n",
    "<center>Snorre Ralund</center>"
   ]
  },
  {
   "cell_type": "markdown",
   "metadata": {
    "slideshow": {
     "slide_type": "subslide"
    }
   },
   "source": [
    "** Todays message **\n",
    "* Utilize the datasources around you. (Job data and crime)\n",
    "* Knowing how to create your own custom datasets pulling information from many different sources.\n",
    "* You should know all the tricks, but use them with care. "
   ]
  },
  {
   "cell_type": "markdown",
   "metadata": {
    "slideshow": {
     "slide_type": "slide"
    }
   },
   "source": [
    "**Agenda**\n",
    "\n",
    "* The basics of webscraping\n",
    "    * Connecting, Crawling, Parsing, Storing, Logging.\n",
    "* Hacks: Backdoors, url construction, and analysis of a webpage.\n",
    "* Reliability of your datacollection.\n",
    "* Screen-scraping - Automated browsing\n",
    "    * Interactions:\n",
    "        * Login in, scrolling, pressing buttons.\n",
    "* APIs \n",
    "    * Authentication\n",
    "    * Building queries"
   ]
  },
  {
   "cell_type": "markdown",
   "metadata": {
    "slideshow": {
     "slide_type": "slide"
    }
   },
   "source": [
    "## Ethics / Legal Issues\n",
    "* If a regular user can’t access it, we shouldn’t try to get it (That is considered hacking)https://www.dr.dk/nyheder/penge/gjorde-opmaerksom-paa-cpr-hul-nu-bliver-han-politianmeldt-hacking. \n",
    "* Don't hit it to fast: Essentially a DENIAL OF SERVICE attack (DOS). [Again considered hacking](https://www.dr.dk/nyheder/indland/folketingets-hjemmeside-ramt-af-hacker-angreb). \n",
    "* Add headers stating your name and email with your requests to ensure transparency. \n",
    "* Be careful with copyrighted material.\n",
    "* Fair use (don't take everything)\n",
    "* If monetizing on the data, be careful not to be in direct competition with whom you are taking the data from."
   ]
  },
  {
   "cell_type": "markdown",
   "metadata": {
    "slideshow": {
     "slide_type": "subslide"
    }
   },
   "source": [
    "<img src=\"https://github.com/snorreralund/images/raw/master/Sk%C3%A6rmbillede%202017-08-03%2014.46.32.png\"/>"
   ]
  },
  {
   "cell_type": "markdown",
   "metadata": {
    "slideshow": {
     "slide_type": "slide"
    }
   },
   "source": [
    "## Setting up the essentials:\n",
    "Good practices:\n",
    "* Transparency\n",
    "* Ratelimiting\n",
    "* Reliability"
   ]
  },
  {
   "cell_type": "code",
   "execution_count": 2,
   "metadata": {
    "slideshow": {
     "slide_type": "subslide"
    }
   },
   "outputs": [
    {
     "data": {
      "text/plain": [
       "{'User-Agent': 'python-requests/2.18.4', 'Accept-Encoding': 'gzip, deflate', 'Accept': '*/*', 'Connection': 'keep-alive', 'email': 'youremail', 'name': 'name'}"
      ]
     },
     "execution_count": 2,
     "metadata": {},
     "output_type": "execute_result"
    }
   ],
   "source": [
    "# Transparent scraping\n",
    "import requests\n",
    "#response = requests.get('https://www.google.com')\n",
    "session = requests.session()\n",
    "session.headers['email'] = 'youremail' \n",
    "session.headers['name'] = 'name'\n",
    "session.headers"
   ]
  },
  {
   "cell_type": "markdown",
   "metadata": {
    "slideshow": {
     "slide_type": "fragment"
    }
   },
   "source": [
    "A quick tip is that you can change the user agent to a cellphone to obtain more simple formatting of the html. "
   ]
  },
  {
   "cell_type": "code",
   "execution_count": 3,
   "metadata": {
    "collapsed": true,
    "slideshow": {
     "slide_type": "subslide"
    }
   },
   "outputs": [],
   "source": [
    "# Control the pace of your calls\n",
    "import time\n",
    "def ratelimit():\n",
    "    \"A function that handles the rate of your calls.\"\n",
    "    time.sleep(1)\n",
    "# Reliable requests\n",
    "def request(url,iterations=10,exceptions=(Exception)):\n",
    "    \"\"\"This module ensures that your script does not crash from connection errors.\n",
    "        iterations : Define number of iterations before giving up. \n",
    "        exceptions: Define which exceptions you accept, default is all. \n",
    "    \"\"\"\n",
    "    for iteration in range(iterations):\n",
    "        try:\n",
    "            # add ratelimit function call here\n",
    "            ratelimit() # !!\n",
    "            response = session.get(url)\n",
    "            return response # if succesful it will end the iterations here\n",
    "        except exceptions as e: #  find exceptions in the request library requests.exceptions\n",
    "            print(e) # print or log the exception message.\n",
    "    return None # your code will purposely crash if you don't create a check function later."
   ]
  },
  {
   "cell_type": "code",
   "execution_count": 84,
   "metadata": {
    "collapsed": true,
    "slideshow": {
     "slide_type": "subslide"
    }
   },
   "outputs": [],
   "source": [
    "# Interactive browsing\n",
    "from selenium import webdriver\n",
    "path2gecko = '/Users/axelengbergpallesen/Downloads/geckodriver' # define path to your geckodriver\n",
    "browser = webdriver.Firefox(executable_path=path2gecko)\n",
    "browser.get('https://www.google.com')"
   ]
  },
  {
   "cell_type": "markdown",
   "metadata": {
    "slideshow": {
     "slide_type": "subslide"
    }
   },
   "source": [
    "Now we are ready to get some data "
   ]
  },
  {
   "cell_type": "markdown",
   "metadata": {
    "slideshow": {
     "slide_type": "slide"
    }
   },
   "source": [
    "# Collecting data from the web: a quick example\n",
    "\n",
    "So let's get some data.\n",
    "\n",
    "Lets say we wanted to obtain high frequency and geolocated information about the danish jobmarket. Then we might build a scraper for [jobfinder.dk](https://www.jobfinder.dk/), [jobindex.dk](https://www.jobindex.dk/) or [jobnet.dk](https://job.jobnet.dk/CV/FindWork/).\n"
   ]
  },
  {
   "cell_type": "code",
   "execution_count": 16,
   "metadata": {
    "collapsed": true,
    "slideshow": {
     "slide_type": "subslide"
    }
   },
   "outputs": [],
   "source": [
    "url = 'https://www.jobfinder.dk/jobs/category/it-konsulent'\n",
    "base = 'ttps://www.jobfinder.dk'\n",
    "response = request(url)"
   ]
  },
  {
   "cell_type": "code",
   "execution_count": 32,
   "metadata": {},
   "outputs": [
    {
     "data": {
      "text/plain": [
       "'/job/business-analytics-consultants-41676'"
      ]
     },
     "execution_count": 32,
     "metadata": {},
     "output_type": "execute_result"
    }
   ],
   "source": [
    "response.text.split('<a ')[100].split('href=\"')[1].split('\"')[0]"
   ]
  },
  {
   "cell_type": "code",
   "execution_count": 11,
   "metadata": {
    "collapsed": true,
    "slideshow": {
     "slide_type": "subslide"
    }
   },
   "outputs": [],
   "source": [
    "#print(response.text) # inspect the response to see if it is what you expected."
   ]
  },
  {
   "cell_type": "code",
   "execution_count": 35,
   "metadata": {
    "slideshow": {
     "slide_type": "fragment"
    }
   },
   "outputs": [],
   "source": [
    "html = response.text\n",
    "link_nodes = html.split('user-jobs__content-item')[1:]\n"
   ]
  },
  {
   "cell_type": "code",
   "execution_count": 38,
   "metadata": {},
   "outputs": [
    {
     "name": "stdout",
     "output_type": "stream",
     "text": [
      "https://www.jobfinder.dk/job/serviceminded-it-supportkonsulent-43311\n",
      "https://www.jobfinder.dk/job/erfarne-it-konsulenter-med-ambitioner-40763\n",
      "https://www.jobfinder.dk/job/make-impact-it-consultant-33146\n",
      "https://www.jobfinder.dk/job/start-din-karriere-som-information-management-konsulent-33672\n",
      "https://www.jobfinder.dk/job/dygtige-testkonsulenter-38875\n"
     ]
    }
   ],
   "source": [
    "for node in link_nodes[0:5]:\n",
    "    link_node = node.split('h2')[1]\n",
    "    link = link_node.split('href=\"')[1]\n",
    "    print(base+link.split('\"')[0])\n",
    "    "
   ]
  },
  {
   "cell_type": "code",
   "execution_count": 25,
   "metadata": {
    "collapsed": true
   },
   "outputs": [],
   "source": [
    "# define path\n",
    "base_path = 'scraping_examples/'\n",
    "filename = base_path+'jobfinder_data'\n",
    "f = open(filename,'w')"
   ]
  },
  {
   "cell_type": "markdown",
   "metadata": {
    "slideshow": {
     "slide_type": "slide"
    }
   },
   "source": [
    "## Loop over the links and dump the data"
   ]
  },
  {
   "cell_type": "code",
   "execution_count": 26,
   "metadata": {
    "slideshow": {
     "slide_type": "subslide"
    }
   },
   "outputs": [
    {
     "data": {
      "text/plain": [
       "'{\"data\": [], \"meta_data\": []}'"
      ]
     },
     "execution_count": 26,
     "metadata": {},
     "output_type": "execute_result"
    }
   ],
   "source": [
    "# make directory\n",
    "#! mkdir scraping_examples\n",
    "#! ls \n",
    "import json\n",
    "data = {'data':[],'meta_data':[]}\n",
    "json.dumps(data)"
   ]
  },
  {
   "cell_type": "code",
   "execution_count": 27,
   "metadata": {
    "collapsed": true,
    "slideshow": {
     "slide_type": "subslide"
    }
   },
   "outputs": [],
   "source": [
    " \n",
    "import json\n",
    "# make loop\n",
    "html = response.text\n",
    "link_nodes = html.split('user-jobs__content-item')[1:]\n",
    "for node in link_nodes[0:5]:\n",
    "    link_node = node.split('h2')[1]\n",
    "    link = link_node.split('href=\"')[1]\n",
    "    new_url = base+link\n",
    "    response = request(new_url)\n",
    "    html = response.text\n",
    "    data = {'time': time.time(), 'url':new_url,'raw_data':html}\n",
    "    \n",
    "    f.write(json.dumps(data))\n",
    "    f.write('\\n\\r')\n",
    "f.close()"
   ]
  },
  {
   "cell_type": "markdown",
   "metadata": {
    "collapsed": true,
    "scrolled": true,
    "slideshow": {
     "slide_type": "slide"
    }
   },
   "source": [
    "## Exercise 1\n",
    "Get links to the articles listed on this [link](https://www.dr.dk/search/Result?filter_facet_universe=Nyheder&query=kv17&sort=Newest): https://www.dr.dk/search/Result?filter_facet_universe=Nyheder&query=kv17&sort=Newest\n",
    "\n",
    "Loop over the links and save them to a file.\n",
    "\n",
    "** Paging extra **\n",
    "* Use selenium to click on more results or figure out the paging mechanism looking at the activity in the network monitoring of your browser.\n",
    "\n",
    "** Reliability Extra **\n",
    "* When writing the file: provide information about servertime (import the time module), the link, other information. "
   ]
  },
  {
   "cell_type": "code",
   "execution_count": 39,
   "metadata": {},
   "outputs": [
    {
     "name": "stdout",
     "output_type": "stream",
     "text": [
      "http://dr.dk/nyheder/politik/kv17/alternativet-faar-sin-foerste-borgmesterpost-fanoe-bliver-groen\n",
      "http://dr.dk/nyheder/politik/kv17/vordingborg/romantisk-byraadsmoede-borgmester-faar-baade-kaede-og-kone\n",
      "http://dr.dk/nyheder/politik/kv17/slagelse/buhraab-under-byraadsmoede-i-slagelse-saa-er-boernehaven-i-gang\n",
      "http://dr.dk/nyheder/politik/kv17/slagelse/vraget-venstre-borgmester-i-slagelse-min-person-stod-i-vejen\n",
      "http://dr.dk/nyheder/politik/kv17/slagelse/demonstration-forud-omstridt-moede-i-slagelse-det-er-noget-ged\n",
      "http://dr.dk/nyheder/politik/kv17/analyse-25-ting-vi-laerte-af-kommunalvalget-2017\n",
      "http://dr.dk/nyheder/politik/kv17/aalborg/trods-stort-valgnederlag-i-aalborg-fortsat-opbakning-til-v-frontfigur\n",
      "http://dr.dk/nyheder/politik/kv17/slagelse/folk-i-slagelse-er-rystede-borgmesterkamp-er-barnlig-og-pinlig\n",
      "http://dr.dk/nyheder/politik/kv17/slagelse/rod-i-aftale-i-slagelse-de-blaa-siger-nej-og-enhedslisten-vil-ikke\n",
      "http://dr.dk/nyheder/politik/kv17/nordjylland/ulla-astman-efter-glippet-formandspost-vi-baerer-ikke-nag-men\n"
     ]
    }
   ],
   "source": [
    "\n",
    "url = 'https://www.dr.dk/search/Result?filter_facet_universe=Nyheder&query=kv17&sort=Newest' \n",
    "response = request(url)\n",
    "html = response.text\n",
    "sep = 'item image-2'\n",
    "link_items = html.split(sep)[1:]\n",
    "for item in link_items:\n",
    "    link = item.split('href=\"')[1]\n",
    "    print(link.split('\"')[0])"
   ]
  },
  {
   "cell_type": "markdown",
   "metadata": {
    "slideshow": {
     "slide_type": "slide"
    }
   },
   "source": [
    "# Tricks: Backdoors, pseudo-apis, and url construction. \n"
   ]
  },
  {
   "cell_type": "markdown",
   "metadata": {
    "slideshow": {
     "slide_type": "subslide"
    }
   },
   "source": [
    "## Static or dynamic html pages\n",
    "You browser will either get a set of instructions (in javascript) on how to build a page and how interactions will change it, or it will receive a pre-compiled html document.\n",
    "\n",
    "Lets inspect another jobsite: [jobnet.dk](https://job.jobnet.dk/CV/FindWork/)."
   ]
  },
  {
   "cell_type": "code",
   "execution_count": 33,
   "metadata": {
    "collapsed": true,
    "slideshow": {
     "slide_type": "fragment"
    }
   },
   "outputs": [],
   "source": [
    "# Another examples\n",
    "url = 'https://job.jobnet.dk/CV/FindWork/' # define the link\n",
    "# get the raw html\n",
    "response = request(url)\n",
    "html = response.text"
   ]
  },
  {
   "cell_type": "code",
   "execution_count": 34,
   "metadata": {
    "scrolled": true,
    "slideshow": {
     "slide_type": "fragment"
    }
   },
   "outputs": [
    {
     "data": {
      "text/plain": [
       "'\\r\\n\\r\\n\\r\\n<!DOCTYPE html>\\r\\n\\r\\n<html class=\"no-js jobnet\" lang=\"da\" data-build=\"0.0.0.0\" data-ng-app=\"Jobnet\">\\r\\n\\r\\n<head data-jn-header-manager>\\r\\n    <meta charset=\"utf-8\" />\\r\\n    \\r\\n    <title>Find job forside</title>\\r\\n    <meta name=\"description\" content=\"\" />\\r\\n    <meta name=\"viewport\" content=\"width=device-width, initial-scale=1\" />\\r\\n\\r\\n    <link href=\"/CV/bundles/jobnet/styles/core?v=ibpBcBrkHozbq4_UdeYA_Ge3xy23qeSnXQSjoNUHkvk1\" rel=\"stylesheet\"/>\\r\\n\\r\\n    <link href=\"/CV/bundles/jobnet/styles/pages?v=yrrmaAFNJSSKm7CEc9OeIU4ti7mZ6FqX0V4K8s5uc_s1\" rel=\"stylesheet\"/>\\r\\n\\r\\n    \\r\\n\\t\\r\\n\\r\\n\\r\\n    \\r\\n    <link href=\"/CV/bundles/jobnet/styles/lightbox?v=9XFEUNDkHEEmdt9i91offaj0BrwX3KOyKSe19xxfK6M1\" rel=\"stylesheet\"/>\\r\\n\\r\\n\\r\\n    <link rel=\"shortcut icon\" href=\"https://job.jobnet.dk/CV/MasterPages/favicon/jobnet_favicon.ico\" />\\r\\n     \\r\\n    <script src=\"/CV/bundles/jobnet/scripts/modernizr?v=inCVuEFe6J4Q07A0AcRsbJic_UE5MwpRMNGcOtk94TE1\"></script>\\r\\n\\r\\n    <script type=\"text/javascript\">\\r\\n        var _gaq = _gaq || [];\\r\\n        _gaq.push([\\'_setAccount\\', \\'UA-2562100-2\\']);\\r\\n        _gaq.push([\\'_setDomainName\\', \\'none\\']);\\r\\n        _gaq.push([\\'_trackPageview\\']);\\r\\n        //uses the default tracker object to call anonymizeIp\\r\\n        _gaq.push([\\'_gat._anonymizeIp\\'])\\r\\n    </script>    \\r\\n</head>\\r\\n<body class=\"main main responsive\">\\r\\n\\r\\n    <div data-jn-generic-error-listener></div>\\r\\n\\r\\n    <div class=\"page-background\">\\r\\n\\r\\n\\r\\n\\r\\n<header id=\"header\">\\r\\n    \\r\\n    \\r\\n    <div class=\"skip-nav-container\">\\r\\n        <a href=\"#MainContent\" tabindex=\"0\">Spring navigationen over</a>\\r\\n    </div>\\r\\n\\r\\n    <h1 class=\"hidden\">Jobnet</h1>\\r\\n\\r\\n    <div class=\"bootstrap-container page-area header-area\">\\r\\n        <a href=\"/CV/Frontpage\" class=\"jobnet-logo no-print\">\\r\\n            <img id=\"logo\" src=\"https://job.jobnet.dk/cdn/Logos/jobnet_logo.svg?jv=0.0.0.0\" alt=\"Jobnet forside logo\" />\\r\\n\\r\\n        </a>\\r\\n\\r\\n\\r\\n            <span id=\"GoToFrontpageToLogin\">\\r\\n                <a id=\"GoToFrontpageToLoginLink\" class=\"primary no-print\" href=\"/CV/Frontpage\">Log ind</a>\\r\\n            </span>\\r\\n        <span class=\"hidden-xs hidden-sm\">\\r\\n<a class=\"screen-reader-help\" href=\"https://info.jobnet.dk/via213.html\">&gt; Læs højt</a>\\r\\n        </span>\\r\\n\\r\\n    </div>\\r\\n\\r\\n</header>\\r\\n\\r\\n\\r\\n\\r\\n\\r\\n\\r\\n\\r\\n\\r\\n\\r\\n\\r\\n        \\r\\n\\r\\n        \\r\\n\\r\\n\\r\\n\\r\\n\\r\\n\\r\\n\\r\\n\\r\\n\\r\\n<section id=\"MainSection\" class=\"page-area bootstrap-container clearfix\">\\r\\n\\t<div id=\"MainContent\" class=\"full-responsive clearfix\" tabindex=\"-1\">\\r\\n\\t\\t<div class=\"hidden-xs hidden-sm breadcrumb-large\">\\r\\n<span class=\"breadcrumb\" role=\"navigation\">\\r\\n        <a class=\"crumb\" href=\"/CV/Frontpage\">Forside</a> &gt; <a class=\"crumb\" href=\"/CV/FindWork\">Find Job</a>\\r\\n    </span>\\t\\t</div>\\r\\n\\t\\t<article class=\"main-content clearfix\">\\r\\n\\t\\t\\t<header class=\"breadcrumb-small row margin-bottom-standard hidden-lg hidden-md\">\\r\\n\\t\\t\\t\\t<div class=\"col-xs-12 col-sm-9\">\\r\\n<span class=\"breadcrumb\" role=\"navigation\">\\r\\n        <a class=\"crumb\" href=\"/CV/Frontpage\">Forside</a> &gt; <a class=\"crumb\" href=\"/CV/FindWork\">Find Job</a>\\r\\n    </span>\\t\\t\\t\\t</div>\\r\\n\\t\\t\\t\\t<div class=\"hidden-xs col-sm-3\">\\r\\n<a class=\"screen-reader-help\" href=\"https://info.jobnet.dk/via213.html\">&gt; Læs højt</a>\\r\\n\\t\\t\\t\\t</div>\\r\\n\\t\\t\\t</header>\\r\\n\\t\\t\\t\\r\\n\\r\\n\\r\\n\\r\\n<div id=\"pageContainer\" class=\"page-spinner-container\">\\r\\n\\r\\n\\r\\n    <div id=\"spinnerContainer\"></div>\\r\\n\\r\\n    <input id=\"IsAuthenticated\" type=\"hidden\" value=\"False\" />\\r\\n    <input id=\"DirectionsBaseUrl\" type=\"hidden\" value=\"https://www.google.dk/maps/dir/{0}/\" />\\r\\n\\r\\n<div id=\"findWork\" data-ng-view\\r\\n     data-jn-router=\"/CV/FindWork/\"\\r\\n     data-ng-controller=\"FindWorkController\">\\r\\n</div>\\r\\n\\r\\n</div>\\r\\n\\t\\t</article>\\r\\n\\t</div>\\r\\n\\t\\r\\n</section>\\r\\n\\r\\n    </div>\\r\\n\\r\\n\\r\\n\\r\\n\\r\\n<footer id=\"MainFooter\" class=\"page-area bootstrap-container no-print\">\\r\\n    <h1 class=\"hidden\">\\r\\n        Logo og copyright\\r\\n    </h1>\\r\\n    <nav id=\"FooterNavigation\" class=\"clearfix\">\\r\\n        <div class=\"navigation-box\">\\r\\n            <section class=\"navigation-section\">\\r\\n                <h2>\\r\\n                    Til dig, som er ...\\r\\n                </h2>\\r\\n                <ul>\\r\\n                    <li><a href=\"/CV/Info/Dagpengemodtager\">Dagpengemodtager</a></li>\\r\\n                    <li><a href=\"/CV/Info/Dimittend\">Dimittend</a></li>\\r\\n                    <li><a href=\"/CV/Info/Kontanthjaelpsmodtager\">Kontanthjælpsmodtager</a></li>\\r\\n                    <li><a href=\"/CV/Info/Modtager_af_integrationsydelser\">Modtager af integrationsydelse</a></li>\\r\\n                    <li><a href=\"/CV/Info/Sygedagpengemodtager\">Sygedagpengemodtager</a></li>\\r\\n                    <li><a href=\"/CV/Info/Godkendt_til_fleks_job\">Godkendt til fleksjob</a></li>\\r\\n                    <li><a href=\"/CV/Info/Jobsoeger_med_handikap\">Jobsøger med handikap</a></li>\\r\\n                    <li><a href=\"/CV/Info/Godkendt_til_uddannelseshj&#230;lp\">Modtager af uddannelseshjælp</a></li>\\r\\n                    <li><a href=\"/CV/Info/I_Jobafklaringsforl&#248;b\">I jobafklaringsforløb</a></li>\\r\\n                </ul>\\r\\n            </section>\\r\\n        </div>\\r\\n        <div class=\"navigation-box\">\\r\\n            <section class=\"navigation-section\">\\r\\n                <h2>\\r\\n                    Jobsøger\\r\\n                </h2>\\r\\n                <ul>\\r\\n                    <li><a href=\"/CV/Info/Meld_dig_ledig\">Meld dig ledig</a></li>\\r\\n                    <li><a href=\"https://info.jobnet.dk/jobs%c3%b8ger\">Råd til jobsøgning</a></li>\\r\\n                    <li><a href=\"https://info.jobnet.dk/jobs%c3%b8ger/det+praktiske\">Det praktiske</a></li>\\r\\n                    <li><a href=\"https://info.jobnet.dk/jobs%c3%b8ger/afklaring\">Afklaring</a></li>\\r\\n                    <li><a href=\"https://info.jobnet.dk/jobs%c3%b8ger/jobs%c3%b8gning/s%c3%b8g+jobbet\">Jobsøgning</a></li>\\r\\n                    <li><a href=\"/CV/Info/Vilkaar_for_brug_af_jobnet-For_jobsoegere\">Vilkår for brug af Jobnet</a></li>\\r\\n                </ul>\\r\\n            </section>\\r\\n        </div>\\r\\n        <div class=\"navigation-box\">\\r\\n            <section class=\"navigation-section\">\\r\\n                <h2>\\r\\n                    Hjælp\\r\\n                </h2>\\r\\n                <ul>\\r\\n                    <li><a href=\"https://jobnet.zendesk.com/forums/21019341-Ofte-stillede-sp%C3%B8rgsm%C3%A5l-fra-borgere\" target=\"_blank\">FAQ for jobsøgere</a></li>\\r\\n                    <li><a href=\"https://jobnet.zendesk.com/forums/21297243-Ofte-stillede-sp%C3%B8rgsm%C3%A5l-fra-virksomheder\" target=\"_blank\">FAQ for arbejdsgivere</a></li>\\r\\n                    <li><a href=\"https://info.jobnet.dk/mit+jobcenter\">Kontakt dit jobcenter</a></li>\\r\\n                    <li><a href=\"https://jobnet.zendesk.com\" target=\"_blank\">Kontakt supporten</a></li>\\r\\n                    <li><a href=\"https://jobnet.zendesk.com/hc/da/categories/201257836\" target=\"_blank\">Vejledninger</a></li>\\r\\n                    <li><a href=\"https://info.jobnet.dk/blanketter\">Blanketter</a></li>\\r\\n                </ul>\\r\\n            </section>\\r\\n        </div>\\r\\n        <div class=\"navigation-box\">\\r\\n            <section class=\"navigation-section\">\\r\\n                <h2>\\r\\n                    Jobnet\\r\\n                </h2>\\r\\n                <ul>\\r\\n                    <li><a href=\"https://info.jobnet.dk/nyheder\">Nyhedsarkiv</a></li>\\r\\n                    <li><a href=\"https://info.jobnet.dk/om+jobnet\">Om Jobnet</a></li>\\r\\n                    <li><a href=\"http://star.dk/da/Om-STAR.aspx\" target=\"_blank\">Om STAR</a></li>\\r\\n                    <li><a href=\"https://info.jobnet.dk/om+jobnet/jobnet+in+english\">Jobnet in English</a></li>\\r\\n                </ul>\\r\\n            </section>\\r\\n        </div>\\r\\n        <div class=\"navigation-box\">\\r\\n            <section class=\"navigation-section\">\\r\\n                <h2>\\r\\n                    Love og regler\\r\\n                </h2>\\r\\n                <ul>\\r\\n                    <li><a href=\"https://info.jobnet.dk/om+jobnet/ret+og+pligt\">Ret og pligt</a></li>\\r\\n                    <li><a href=\"https://info.jobnet.dk/om+jobnet/politik+om+persondata\">Politik om persondata</a></li>\\r\\n                    <li><a href=\"http://star.dk/da/Ydelser-og-ferie/Ydelser-ved-ledighed.aspx\" target=\"_blank\">Regler, love og bekendtgørelser</a></li>\\r\\n                </ul>\\r\\n            </section>\\r\\n        </div>\\r\\n        <div class=\"navigation-box\">\\r\\n        </div>\\r\\n        <div class=\"navigation-box\"></div>\\r\\n        <div class=\"navigation-box\"></div>\\r\\n    </nav>\\r\\n    <section id=\"FooterIconAndCopyright\" class=\"page-area\">\\r\\n        <a href=\"/CV/Frontpage\" class=\"jobnet-logo\">\\r\\n            <img id=\"JobnetFooterIcon\" src=\"https://job.jobnet.dk/cdn/Logos/jobnet_logo.svg?jv=0.0.0.0\" alt=\"jobnet logo\" />\\r\\n        </a>\\r\\n    </section>\\r\\n</footer>\\r\\n<script type=\"text/template\" id=\"WarningDialogContent\">\\r\\n\\t<div id=\"WarningDialog\" class=\"modal fade\" role=\"dialog\">\\r\\n\\t\\t<div class=\"modal-dialog\">\\r\\n\\t\\t\\t<div class=\"modal-content\">\\r\\n\\t\\t\\t\\t<div class=\"form-dialog\">\\r\\n\\t\\t\\t\\t\\t<div class=\"modal-header\">\\r\\n\\t\\t\\t\\t\\t\\t\\r\\n\\t\\t\\t\\t\\t\\t<h1 class=\"modal-title\">Advarsel</h1>\\r\\n\\t\\t\\t\\t\\t</div>\\r\\n\\t\\t\\t\\t\\t<div class=\"modal-body\">\\r\\n\\t\\t\\t\\t\\t\\t<p class=\"ui-state-attention\">Du bliver logget af om <span id=\"SessionWarningCountdown\"></span></p>\\r\\n\\t\\t\\t\\t\\t\\t<p>Du er lige ved at blive logget af Jobnet, og du risikerer at miste det, du har indtastet. Vil du fortsat være logget ind, så tryk på OK nu.</p>\\r\\n\\t\\t\\t\\t\\t\\t<hr><nav><button type=\"button\" class=\"button primary\" data-dismiss=\"modal\">OK</button></nav>\\r\\n\\t\\t\\t\\t\\t</div>\\r\\n\\t\\t\\t\\t</div>\\r\\n\\t\\t\\t</div>\\r\\n\\t\\t</div>\\r\\n\\t</div>\\r\\n</script>\\r\\n\\r\\n<script type=\"text/template\" id=\"LogoutDialogContent\">\\r\\n\\t<div id=\"LogoutDialog\" class=\"modal fade\" role=\"dialog\">\\r\\n\\t\\t<div class=\"modal-dialog\">\\r\\n\\t\\t\\t<div class=\"modal-content\">\\r\\n\\t\\t\\t\\t<div class=\"form-dialog\">\\r\\n\\t\\t\\t\\t\\t<div class=\"modal-header\">\\r\\n\\t\\t\\t\\t\\t\\t<h1 class=\"modal-title\">Logget af</h1>\\r\\n\\t\\t\\t\\t\\t</div>\\r\\n\\t\\t\\t\\t\\t<div class=\"modal-body\">\\r\\n\\t\\t\\t\\t\\t\\t<p>Du er desværre blevet logget af Jobnet, da du ikke har været aktiv i 20 minutter. Du kan ikke være sikker på, at data er gemt.</p>\\r\\n\\t\\t\\t\\t\\t\\t<hr><nav><button type=\"button\" class=\"button primary\" data-dismiss=\"modal\">Tilbage til Jobnet</button></nav>\\r\\n\\t\\t\\t\\t\\t</div>\\r\\n\\t\\t\\t\\t</div>\\r\\n\\t\\t\\t</div>\\r\\n\\t\\t</div>\\r\\n\\t</div>\\r\\n</script>\\r\\n\\r\\n\\r\\n    <script src=\"/CV/bundles/jobnet/scripts/jqueryCombined?v=Sw3pex7yEVeCD-I9unpZyp1JaPDa5gJNXH4S1flWenw1\"></script>\\r\\n<script src=\"/CV/bundles/jobnet/scripts/angularjs?v=XqPZgDJwqxwpWOrlZxkNHZdhrlRIbxig3AvBiZFx-jI1\"></script>\\r\\n<script src=\"/CV/bundles/jobnet/scripts/forms?v=ULYkn02U86Hz9jv33RCsspzfjdKvG4KJs6aqafNF99E1\"></script>\\r\\n<script src=\"/CV/bundles/jobnet/scripts/utility?v=sXzl0bmb8yCf2mg2PveJwK0ygj8VOghBHcWu_zIelR81\"></script>\\r\\n<script src=\"/CV/bundles/jobnet/scripts/custom?v=NRq0MuTAz8e6kXnyaOndZzduqOhs2o2dZQfTw88UKKs1\"></script>\\r\\n<script src=\"/CV/bundles/jobnet/scripts/enrollment?v=9i_hjRAz8-wnwCuslt3xIkUvcha3sfi216jN5QI8X5w1\"></script>\\r\\n<script src=\"/CV/bundles/jobnet/scripts/legacy?v=bPNvn2fVyHNCxG9SuByMCy035b043qg7y23324_o9Cg1\"></script>\\r\\n<script src=\"/CV/bundles/jobnet/scripts/gsap?v=jUbWf1-LcCdSuOKS_KCSv9OqUHEOehqZOTNvR-1urgE1\"></script>\\r\\n\\r\\n    <script type=\"text/javascript\">\\r\\n        //Google analytics\\r\\n        (function () {\\r\\n            var ga = document.createElement(\\'script\\');\\r\\n            ga.type = \\'text/javascript\\';\\r\\n            ga.async = true;\\r\\n            ga.src = (\\'https:\\' == document.location.protocol ? \\'https://ssl\\' : \\'http://www\\') + \\'.google-analytics.com/ga.js\\';\\r\\n            (document.getElementsByTagName(\\'head\\')[0]).appendChild(ga);\\r\\n        })();\\r\\n    </script>\\r\\n    \\r\\n\\t\\r\\n    <script>Jobnet.Components.Spinner.Start(\"#spinnerContainer\", \"medium\");</script>\\r\\n    <script src=\"https://maps.googleapis.com/maps/api/js?client=gme-styreisenforarbejdsmarked&v=3\"></script>\\r\\n    <script src=\"/CV/bundles/jobnet/scripts/findwork?v=GVMbVdKnqunsEx_MS8C_tS4raJveK2zCd3SbWgP6ui81\"></script>\\r\\n\\r\\n\\r\\n\\r\\n     \\r\\n    <input id=\"hdnServerDateNow\" type=\"hidden\" value=\"20171112 \" />\\r\\n\\r\\n</body>\\r\\n</html>\\r\\n'"
      ]
     },
     "execution_count": 34,
     "metadata": {},
     "output_type": "execute_result"
    }
   ],
   "source": [
    "html # inspect to see if it matches"
   ]
  },
  {
   "cell_type": "markdown",
   "metadata": {
    "slideshow": {
     "slide_type": "subslide"
    }
   },
   "source": [
    "This looks a lot shorter. This points us to the fact that the page is build dynamically. \n",
    "\n",
    "Now we can search for instructions and the data that it uses to construct the front.\n"
   ]
  },
  {
   "cell_type": "code",
   "execution_count": 40,
   "metadata": {
    "collapsed": true,
    "slideshow": {
     "slide_type": "subslide"
    }
   },
   "outputs": [],
   "source": [
    "# get data through the backdoor\n",
    "# backdoor link\n",
    "url = 'https://job.jobnet.dk/CV/FindWork/Search?offset=20'\n",
    "response = request(url)"
   ]
  },
  {
   "cell_type": "code",
   "execution_count": 42,
   "metadata": {},
   "outputs": [
    {
     "name": "stdout",
     "output_type": "stream",
     "text": [
      "https://job.jobnet.dk/CV/FindWork/Search?offset=0\n",
      "https://job.jobnet.dk/CV/FindWork/Search?offset=20\n",
      "https://job.jobnet.dk/CV/FindWork/Search?offset=40\n",
      "https://job.jobnet.dk/CV/FindWork/Search?offset=60\n",
      "https://job.jobnet.dk/CV/FindWork/Search?offset=80\n"
     ]
    }
   ],
   "source": [
    "\n",
    "for offset in range(0,16520,20)[0:5]:\n",
    "    url = 'https://job.jobnet.dk/CV/FindWork/Search?offset=%d'%offset\n",
    "    print(url)"
   ]
  },
  {
   "cell_type": "code",
   "execution_count": 48,
   "metadata": {
    "slideshow": {
     "slide_type": "fragment"
    }
   },
   "outputs": [
    {
     "data": {
      "text/plain": [
       "{'Latitude': 55.6726, 'Longitude': 12.5541}"
      ]
     },
     "execution_count": 48,
     "metadata": {},
     "output_type": "execute_result"
    }
   ],
   "source": [
    "import json\n",
    "data = json.loads(response.text)\n",
    "data['JobPositionPostings'][0]['Location']\n",
    "#.json() "
   ]
  },
  {
   "cell_type": "code",
   "execution_count": 49,
   "metadata": {},
   "outputs": [
    {
     "name": "stdout",
     "output_type": "stream",
     "text": [
      "https://it.jobindex.dk/jobsoegning?maxdate=20171112&mindate=20170601&page=0&jobage=archive\n",
      "https://it.jobindex.dk/jobsoegning?maxdate=20171112&mindate=20170601&page=1&jobage=archive\n",
      "https://it.jobindex.dk/jobsoegning?maxdate=20171112&mindate=20170601&page=2&jobage=archive\n",
      "https://it.jobindex.dk/jobsoegning?maxdate=20171112&mindate=20170601&page=3&jobage=archive\n",
      "https://it.jobindex.dk/jobsoegning?maxdate=20171112&mindate=20170601&page=4&jobage=archive\n"
     ]
    }
   ],
   "source": [
    "n_links = 103575\n",
    "for page_num in range(int(n_links/20))[0:5]:\n",
    "    page_num +=1\n",
    "    link = 'https://it.jobindex.dk/jobsoegning?maxdate=20171112&mindate=20170601&page=%d&jobage=archive'%page_num\n",
    "    print(link)"
   ]
  },
  {
   "cell_type": "markdown",
   "metadata": {
    "slideshow": {
     "slide_type": "slide"
    }
   },
   "source": [
    "## Constructions of urls\n",
    "A nice trick is to understand how urls are constructed to communicate with a server. \n",
    "\n",
    "Lets look at how [jobindex.dk](https://www.jobindex.dk/) does it.\n",
    "\n",
    "This can help you navigate the page, without having to parse information from the html or click any buttons.\n",
    "\n",
    "* / is like folders on your computer.\n",
    "* ? entails parameters \n",
    "* = defines a variable: e.g. pageid=1000 or offset = 100 or showNumber=20\n",
    "* & separates different parameters.\n",
    "* \\+ is html for whitespace"
   ]
  },
  {
   "cell_type": "markdown",
   "metadata": {
    "slideshow": {
     "slide_type": "slide"
    }
   },
   "source": [
    "## Exercise 2\n",
    "Find the backdoor to the polling data behind the visualization at b.dk (https://www.b.dk/politiko/barometeret). \n",
    "* Follow the above link and look at the network activity for data related responses: .csv xml json \n",
    "* Download the data and parse it using xml2dict (conda install -c conda-forge xmltodict):\n",
    "\n",
    "`data = xmltodict.parse(text)`\n",
    "\n",
    "\n",
    "**extra**\n",
    "\n",
    "Find links to all historical data (either by analyzing the path or by locating the masterfile in the network activity). And set up a loop collecting them all.\n",
    "\n",
    "** extra 2 ** \n",
    "\n",
    "Download precompiled polling data from github:\n",
    "* *** link to a compilation of danish polling [data](https://github.com/erikgahner/polls) ***\n",
    "    "
   ]
  },
  {
   "cell_type": "code",
   "execution_count": 70,
   "metadata": {
    "collapsed": true,
    "slideshow": {
     "slide_type": "subslide"
    }
   },
   "outputs": [],
   "source": [
    "# lets look at the results\n",
    "#data.text\n",
    "url = 'https://www.b.dk/upload/webred/bmsandbox/opinion_poll/2017/10.xml'\n",
    "#url = 'https://www.b.dk/upload/webred/bmsandbox/opinion_poll/overview.xml'\n",
    "res = requests.get(url)\n",
    "import xmltodict\n",
    "data = xmltodict.parse(res.text)"
   ]
  },
  {
   "cell_type": "code",
   "execution_count": 83,
   "metadata": {},
   "outputs": [
    {
     "data": {
      "text/plain": [
       "OrderedDict([('party',\n",
       "              OrderedDict([('id', '1'),\n",
       "                           ('name', 'Venstre'),\n",
       "                           ('shortname', 'Venstre'),\n",
       "                           ('letter', 'V')])),\n",
       "             ('percent', '18.8'),\n",
       "             ('mandates', '34'),\n",
       "             ('supports', '9'),\n",
       "             ('uncertainty', '1.1')])"
      ]
     },
     "execution_count": 83,
     "metadata": {},
     "output_type": "execute_result"
    }
   ],
   "source": [
    "poll['entries']['entry'][0]"
   ]
  },
  {
   "cell_type": "code",
   "execution_count": 78,
   "metadata": {
    "collapsed": true
   },
   "outputs": [],
   "source": [
    "for poll in data['result']['polls']['poll']:\n",
    "    break\n",
    "#data['result']['institute'][0]['xmls']['xml'][5]"
   ]
  },
  {
   "cell_type": "markdown",
   "metadata": {
    "slideshow": {
     "slide_type": "slide"
    }
   },
   "source": [
    "# Navigation and Parsing"
   ]
  },
  {
   "cell_type": "markdown",
   "metadata": {
    "slideshow": {
     "slide_type": "slide"
    }
   },
   "source": [
    "##  HTML Scraping\n",
    "Web Scraping: Automated downloading of web pages and the extraction of specific information from it. \n",
    "\n",
    "Snowball crawling: Finding links, following links, find links, follow links.\n"
   ]
  },
  {
   "cell_type": "markdown",
   "metadata": {
    "slideshow": {
     "slide_type": "slide"
    }
   },
   "source": [
    "## Parsing and extracting information\n",
    "Retrieving target information from unstructured text.\n",
    "\n",
    "Parsing is used both while crawling and navigating the domain you are scraping from.\n"
   ]
  },
  {
   "cell_type": "markdown",
   "metadata": {
    "slideshow": {
     "slide_type": "slide"
    }
   },
   "source": [
    "## HTML data\n",
    "- Tree structure.\n",
    "    - Children, siblings, parents - descendants. \n",
    "        - Ids and attributes\n",
    "\n",
    "<img src=\"http://www.openbookproject.net/tutorials/getdown/css/images/lesson4/HTMLDOMTree.png\"/>\n"
   ]
  },
  {
   "cell_type": "markdown",
   "metadata": {
    "slideshow": {
     "slide_type": "subslide"
    }
   },
   "source": [
    "How do we find our way around this tree?\n",
    "\n",
    "* selectors\n",
    "* splitting and regex\n",
    "* traversing html trees (beautifulsoup)"
   ]
  },
  {
   "cell_type": "markdown",
   "metadata": {
    "slideshow": {
     "slide_type": "subslide"
    }
   },
   "source": [
    "Let's download a module that can parse this tree for us.\n",
    "\n",
    "`conda install -c asmeurer beautiful-soup`\n",
    "\n",
    "or \n",
    "`pip install beautifulsoup4`"
   ]
  },
  {
   "cell_type": "markdown",
   "metadata": {
    "slideshow": {
     "slide_type": "slide"
    }
   },
   "source": [
    "## Selectors \n",
    "- quick but has to be hardcoded and therefore more likely to break\n"
   ]
  },
  {
   "cell_type": "code",
   "execution_count": 86,
   "metadata": {
    "collapsed": true,
    "slideshow": {
     "slide_type": "fragment"
    }
   },
   "outputs": [],
   "source": [
    "# selenium example\n",
    "browser.get('https://www.facebook.com')\n",
    "# find login button.\n"
   ]
  },
  {
   "cell_type": "code",
   "execution_count": 87,
   "metadata": {
    "collapsed": true
   },
   "outputs": [],
   "source": [
    "sel = '#email'\n",
    "element = browser.find_element_by_css_selector(sel)"
   ]
  },
  {
   "cell_type": "code",
   "execution_count": 89,
   "metadata": {
    "collapsed": true
   },
   "outputs": [],
   "source": [
    "element.send_keys('snorreralund@gmail.com')"
   ]
  },
  {
   "cell_type": "code",
   "execution_count": 90,
   "metadata": {
    "collapsed": true
   },
   "outputs": [],
   "source": [
    "sel = '#pass'\n",
    "element = browser.find_element_by_css_selector(sel)\n",
    "element.send_keys('thereyou go fuck my life')"
   ]
  },
  {
   "cell_type": "code",
   "execution_count": 91,
   "metadata": {
    "collapsed": true
   },
   "outputs": [],
   "source": [
    "sel = '#u_0_2'\n",
    "element = browser.find_element_by_css_selector(sel)\n",
    "element.click()"
   ]
  },
  {
   "cell_type": "markdown",
   "metadata": {
    "slideshow": {
     "slide_type": "slide"
    }
   },
   "source": [
    "## Splitting and searching with Regex \n",
    "\n",
    "Regex is a general language for searching strings. \n",
    "\n",
    "Extremely useful for all extractign information from all sorts of unstructured text data.\n",
    "\n",
    "... however you have to learn it. \n"
   ]
  },
  {
   "cell_type": "markdown",
   "metadata": {
    "slideshow": {
     "slide_type": "subslide"
    }
   },
   "source": [
    "### Custom parsing using Regex\n",
    "Won't go into the details here, but working with text this will come in very handy. \n",
    "Play around with it [here](http://regexr.com/) or in this notebook.\n",
    "\n",
    "* \\+ = 1 or more times\n",
    "* \\* = 0 or more times\n",
    "* {3} = exactly three times\n",
    "* ? = once or none\n",
    "* \\\\ = escape character, used to find characters that has special meaning with regex: e.g. \\+ \\*\n",
    "* () = within the paranthesis is the pattern I care about.\n",
    "* [] = set of characters\n",
    "* ^ = applied within a set, it becomes the inverse of the set defined.\n",
    "* . = any characters except line break\n",
    "* | = or statement. p|b find characters a or b."
   ]
  },
  {
   "cell_type": "code",
   "execution_count": 97,
   "metadata": {
    "slideshow": {
     "slide_type": "subslide"
    }
   },
   "outputs": [
    {
     "data": {
      "text/plain": [
       "['abcdef', '23456789']"
      ]
     },
     "execution_count": 97,
     "metadata": {},
     "output_type": "execute_result"
    }
   ],
   "source": [
    "import re\n",
    "s = 'abcdefg123456789'\n",
    "re.split('[a-z][0-9]',s)# splitting by a complex pattern\n"
   ]
  },
  {
   "cell_type": "markdown",
   "metadata": {
    "slideshow": {
     "slide_type": "slide"
    }
   },
   "source": [
    "### Advanced parsing using Beautifulsoup\n",
    "Beautifulsoup is a powerful parser build on regex, transforming the raw html into traversable tree of objects. \n",
    "\n",
    "Here I want to show you how to use it for grabbing data about the KV17 election:\n",
    "https://www.altinget.dk/kandidater/kv17/stemmeseddel.aspx\n",
    "\n",
    "Let us analyze the page."
   ]
  },
  {
   "cell_type": "code",
   "execution_count": 98,
   "metadata": {
    "collapsed": true,
    "slideshow": {
     "slide_type": "subslide"
    }
   },
   "outputs": [],
   "source": [
    "url = 'https://www.altinget.dk/kandidater/kv17/stemmeseddel.aspx?kommune=13'\n",
    "response = request(url)\n",
    "#for i in range(1,99):\n",
    "#    url = 'www.altinget.dk/kandidater/kv17/stemmeseddel.aspx?kommune=%d'%i\n"
   ]
  },
  {
   "cell_type": "code",
   "execution_count": 99,
   "metadata": {
    "collapsed": true,
    "slideshow": {
     "slide_type": "subslide"
    }
   },
   "outputs": [],
   "source": [
    "html = response.text\n",
    "from bs4 import BeautifulSoup\n",
    "soup = BeautifulSoup(html,'lxml')"
   ]
  },
  {
   "cell_type": "code",
   "execution_count": null,
   "metadata": {
    "collapsed": true
   },
   "outputs": [],
   "source": []
  },
  {
   "cell_type": "code",
   "execution_count": 100,
   "metadata": {
    "collapsed": true,
    "slideshow": {
     "slide_type": "subslide"
    }
   },
   "outputs": [],
   "source": [
    "node = soup.find('dl',{'class':'candidates-list-parties'}) # find, findall "
   ]
  },
  {
   "cell_type": "code",
   "execution_count": 117,
   "metadata": {
    "slideshow": {
     "slide_type": "subslide"
    }
   },
   "outputs": [
    {
     "data": {
      "text/plain": [
       "'/kandidater/kv17/andreas-bennetzen'"
      ]
     },
     "execution_count": 117,
     "metadata": {},
     "output_type": "execute_result"
    }
   ],
   "source": [
    "party_node = list(node.children)[0]\n",
    "# children, siblings, parents. \n",
    "party_node.get_text()\n",
    "candidate_node = list(node.children)[1]\n",
    "candidate_node.find('a').get_text()\n",
    "candidate_node.find('a')['href']"
   ]
  },
  {
   "cell_type": "code",
   "execution_count": 123,
   "metadata": {
    "slideshow": {
     "slide_type": "subslide"
    }
   },
   "outputs": [
    {
     "name": "stdout",
     "output_type": "stream",
     "text": [
      "02. Christiania-Listen Andreas Bennetzen https://www.altinget.dk/kandidater/kv17/andreas-bennetzen\n",
      "02. Christiania-Listen Britta Lillesøe https://www.altinget.dk/kandidater/kv17/Britta-Lillesoee\n",
      "02. Christiania-Listen Klaus Haase https://www.altinget.dk/kandidater/kv17/Klaus-Haase\n",
      "02. Christiania-Listen Lis Brandstrup https://www.altinget.dk/kandidater/kv17/Lis-Brandstrup\n",
      "02. Christiania-Listen Carl Oskar Strange https://www.altinget.dk/kandidater/kv17/carl-oskar-strange\n",
      "02. Christiania-Listen Kirsten Larsen Mhoja https://www.altinget.dk/kandidater/kv17/Kirsten-Larsen-Mhoja\n",
      "02. Christiania-Listen Nils Vest https://www.altinget.dk/kandidater/kv17/Nils-Vest\n",
      "02. Christiania-Listen Lars Fenger https://www.altinget.dk/kandidater/kv17/Lars-Hauch-Fenger\n",
      "02. Christiania-Listen Hulda Mader https://www.altinget.dk/kandidater/kv17/Hulda-Mader\n",
      "02. Christiania-Listen Pia Liljenbøl https://www.altinget.dk/kandidater/kv17/Pia-Liljenboel\n",
      "02. Christiania-Listen Amanda Otilie Ibsen https://www.altinget.dk/kandidater/kv17/amanda-otilie-ibsen\n",
      "A. Socialdemokratiet Frank Jensen https://www.altinget.dk/kandidater/kv17/3010-frank-jensen\n",
      "A. Socialdemokratiet Jesper Christensen https://www.altinget.dk/kandidater/kv17/1581-Jesper-Christensen\n",
      "A. Socialdemokratiet Lars Weiss https://www.altinget.dk/kandidater/kv17/Lars-Weiss\n",
      "A. Socialdemokratiet Jakob Hougaard https://www.altinget.dk/kandidater/kv17/jakob-vester-hougaard\n",
      "A. Socialdemokratiet Andreas Keil https://www.altinget.dk/kandidater/kv17/Andreas-Keil\n",
      "A. Socialdemokratiet Trine Madsen https://www.altinget.dk/kandidater/kv17/Trine-Madsen\n",
      "A. Socialdemokratiet Tue Hækkerup https://www.altinget.dk/kandidater/kv17/Tue-Haekkerup\n",
      "A. Socialdemokratiet Susan Hedlund https://www.altinget.dk/kandidater/kv17/1600-Susan-Hedlund\n",
      "A. Socialdemokratiet Laura  Rosenvinge https://www.altinget.dk/kandidater/kv17/Laura-Rosenvinge\n",
      "A. Socialdemokratiet Kasandra Behrndt-Eriksen https://www.altinget.dk/kandidater/kv17/Kasandra-Behrndt-Eriksen\n",
      "A. Socialdemokratiet Karina Sønderfort https://www.altinget.dk/kandidater/kv17/Karina-Soenderfort\n",
      "A. Socialdemokratiet Jonas Bjørn Jensen https://www.altinget.dk/kandidater/kv17/Jonas-Bjoern-Jensen\n",
      "A. Socialdemokratiet Elisabeth Grüner https://www.altinget.dk/kandidater/kv17/elisabeth-gruner\n",
      "A. Socialdemokratiet Maria Negrijn Tranberg https://www.altinget.dk/kandidater/kv17/Maria-Negrijn-Tranberg\n",
      "A. Socialdemokratiet Julie Frølich https://www.altinget.dk/kandidater/kv17/Julie-Frølich\n",
      "A. Socialdemokratiet Rune Dybvad  https://www.altinget.dk/kandidater/kv17/Rune-Dybvad-Simonsen\n",
      "A. Socialdemokratiet Sofie Seidenfaden https://www.altinget.dk/kandidater/kv17/Sofie-Seidenfaden\n",
      "A. Socialdemokratiet Grethe Shibli https://www.altinget.dk/kandidater/kv17/Grethe-Nørregaard-Shibli\n",
      "A. Socialdemokratiet Niels E. Bjerrum https://www.altinget.dk/kandidater/kv17/Niels-Bjerrum\n",
      "A. Socialdemokratiet Henrik  Appel https://www.altinget.dk/kandidater/kv17/Henrik-Appel-Esbensen\n",
      "A. Socialdemokratiet Marcus Vesterager https://www.altinget.dk/kandidater/kv17/Marcus-Vesterager-Lind\n",
      "A. Socialdemokratiet Alexander  Stürup https://www.altinget.dk/kandidater/kv17/Alexander-Stürup-Korup\n",
      "A. Socialdemokratiet Jan Andreasen https://www.altinget.dk/kandidater/kv17/1580-Jan-Andreasen\n",
      "A. Socialdemokratiet Simon Strange https://www.altinget.dk/kandidater/kv17/Simon-Strange\n",
      "A. Socialdemokratiet Robert A. Nielsen https://www.altinget.dk/kandidater/kv17/Robert-Nielsen\n",
      "A. Socialdemokratiet Anders Lundsager https://www.altinget.dk/kandidater/kv17/Anders-Lundsager\n",
      "A. Socialdemokratiet Thomas Bisballe https://www.altinget.dk/kandidater/kv17/Thomas-Bisballe-Jensen\n",
      "A. Socialdemokratiet Simon Simonsen https://www.altinget.dk/kandidater/kv17/Simon-Sjørup-Simonsen\n",
      "A. Socialdemokratiet Louise E. Coulthard https://www.altinget.dk/kandidater/kv17/louise-elisabeth-coulthard\n",
      "A. Socialdemokratiet Jihad Vallentin https://www.altinget.dk/kandidater/kv17/Jihad-Vallentin\n",
      "A. Socialdemokratiet Johnny Jordan https://www.altinget.dk/kandidater/kv17/Johnny-Jordan\n",
      "A. Socialdemokratiet Jan Lindboe https://www.altinget.dk/kandidater/kv17/Jan-Lindboe\n",
      "A. Socialdemokratiet Keith Alexander Gray https://www.altinget.dk/kandidater/kv17/keith-gray\n",
      "A. Socialdemokratiet Mads S. B. Pedersen https://www.altinget.dk/kandidater/kv17/Mads-Pedersen\n",
      "A. Socialdemokratiet Hari Neupane https://www.altinget.dk/kandidater/kv17/hari-neupane\n",
      "B. Radikale Venstre Anna Mee Allerslev https://www.altinget.dk/kandidater/kv17/anna-mee-allerslev\n",
      "B. Radikale Venstre Tommy Petersen https://www.altinget.dk/kandidater/kv17/Tommy-Petersen\n",
      "B. Radikale Venstre Mette Annelie Rasmussen https://www.altinget.dk/kandidater/kv17/Mette-Annelie-Rasmussen\n",
      "B. Radikale Venstre Randi Hjortholm https://www.altinget.dk/kandidater/kv17/Randi-Hjortholm\n",
      "B. Radikale Venstre Mia Nyegaard https://www.altinget.dk/kandidater/kv17/Mia-Nyegaard\n",
      "B. Radikale Venstre Henrik Nord https://www.altinget.dk/kandidater/kv17/Henrik-Nord\n",
      "B. Radikale Venstre Christopher Røhl Andersen https://www.altinget.dk/kandidater/kv17/christopher-roehl-andersen\n",
      "B. Radikale Venstre Karen Melchior https://www.altinget.dk/kandidater/kv17/Karen-Melchior\n",
      "B. Radikale Venstre Asger Hagelund https://www.altinget.dk/kandidater/kv17/Asger-Hagelund\n",
      "B. Radikale Venstre Lartey Lawson https://www.altinget.dk/kandidater/kv17/lartey-lawson\n",
      "B. Radikale Venstre Andreas Pourkamali https://www.altinget.dk/kandidater/kv17/Andreas-Pourkamali\n",
      "B. Radikale Venstre Søs Haugaard https://www.altinget.dk/kandidater/kv17/Søs-Haugaard\n",
      "B. Radikale Venstre Alina Protsyk https://www.altinget.dk/kandidater/kv17/Alina-Protsyk\n",
      "B. Radikale Venstre Jes Vissing Tiedemann https://www.altinget.dk/kandidater/kv17/Jes-Vissing-Tiedemann\n",
      "B. Radikale Venstre Anette Thaulow https://www.altinget.dk/kandidater/kv17/Anette-Thaulow\n",
      "B. Radikale Venstre Jens-Christian Bodilsen https://www.altinget.dk/kandidater/kv17/19950-jens-christian-bodilsen\n",
      "C. Det Konservative Folkeparti Jakob Næsager https://www.altinget.dk/kandidater/kv17/Jakob-Naesager\n",
      "C. Det Konservative Folkeparti Helle Bonnesen https://www.altinget.dk/kandidater/kv17/Helle-Bonnesen\n",
      "C. Det Konservative Folkeparti Jens Kindberg https://www.altinget.dk/kandidater/kv17/Jens-Kindberg\n",
      "C. Det Konservative Folkeparti Susanne Møller https://www.altinget.dk/kandidater/kv17/Susanne-Moeller\n",
      "C. Det Konservative Folkeparti Line Ervolder  https://www.altinget.dk/kandidater/kv17/Line-Ervolder-Christensen\n",
      "C. Det Konservative Folkeparti Peter  Stakemann https://www.altinget.dk/kandidater/kv17/Peter-Andreas-Stakemann\n",
      "C. Det Konservative Folkeparti Morten Melchiors https://www.altinget.dk/kandidater/kv17/Morten-Melchiors\n",
      "C. Det Konservative Folkeparti Charlotte Libach https://www.altinget.dk/kandidater/kv17/charlotte-libach-johansen\n",
      "C. Det Konservative Folkeparti Johan Thornberg https://www.altinget.dk/kandidater/kv17/Johan-Thornberg\n",
      "C. Det Konservative Folkeparti Lasse Vogel Andersen https://www.altinget.dk/kandidater/kv17/Lasse-Vogel-Andersen\n",
      "C. Det Konservative Folkeparti Peter Bjerregaard https://www.altinget.dk/kandidater/kv17/17693-Peter-Bjerregaard\n",
      "C. Det Konservative Folkeparti Victoria Voda https://www.altinget.dk/kandidater/kv17/Victoria-Voda\n",
      "C. Det Konservative Folkeparti Chris Nowak https://www.altinget.dk/kandidater/kv17/Chris-Nowak\n",
      "C. Det Konservative Folkeparti Lis Langsø https://www.altinget.dk/kandidater/kv17/Lis-Connie-Langsoe\n",
      "C. Det Konservative Folkeparti Hans Erik Sigsgaard https://www.altinget.dk/kandidater/kv17/Hans-Erik-Sigsgaard\n",
      "C. Det Konservative Folkeparti Ingrid Slott https://www.altinget.dk/kandidater/kv17/Ingrid-Slott\n",
      "C. Det Konservative Folkeparti Mette-Katrine Buch https://www.altinget.dk/kandidater/kv17/Mette-Katrine-Ejby-Buch\n",
      "D. Nye Borgerlige Aia Fog https://www.altinget.dk/kandidater/kv17/Aia-Fog\n",
      "D. Nye Borgerlige Lisa  Poulsen https://www.altinget.dk/kandidater/kv17/michelle-lisa-poulsen\n",
      "D. Nye Borgerlige Anders Toft Hansen https://www.altinget.dk/kandidater/kv17/anders-toft-hansen\n",
      "D. Nye Borgerlige Thomas Gress https://www.altinget.dk/kandidater/kv17/thomas-gress\n",
      "D. Nye Borgerlige Peder Sams https://www.altinget.dk/kandidater/kv17/peder-sams\n",
      "F. SF - Socialistisk Folkeparti Sisse Marie Welling https://www.altinget.dk/kandidater/kv17/Sisse-Marie-Berendt-Welling\n",
      "F. SF - Socialistisk Folkeparti Klaus Mygind https://www.altinget.dk/kandidater/kv17/Klaus-Mygind\n",
      "F. SF - Socialistisk Folkeparti Neil Bloem https://www.altinget.dk/kandidater/kv17/Neil-Stenbaek-Bloem\n",
      "F. SF - Socialistisk Folkeparti Anna Overlund https://www.altinget.dk/kandidater/kv17/Anna-Overlund-Sørensen\n",
      "F. SF - Socialistisk Folkeparti Annika Smith https://www.altinget.dk/kandidater/kv17/annika-smith\n",
      "F. SF - Socialistisk Folkeparti Astrid Aller https://www.altinget.dk/kandidater/kv17/Astrid-Aller\n",
      "F. SF - Socialistisk Folkeparti Jens Mandrup https://www.altinget.dk/kandidater/kv17/Jens-Mandrup-Rasmussen\n",
      "F. SF - Socialistisk Folkeparti Halime Oguz https://www.altinget.dk/kandidater/kv17/halime-oguz\n",
      "F. SF - Socialistisk Folkeparti Thomas Warburg https://www.altinget.dk/kandidater/kv17/thomas-warburg\n",
      "F. SF - Socialistisk Folkeparti Maria Frej https://www.altinget.dk/kandidater/kv17/Maria-Frej\n",
      "F. SF - Socialistisk Folkeparti Anne Valentina Berthelsen https://www.altinget.dk/kandidater/kv17/Anne-Valentina-Berthelsen\n",
      "F. SF - Socialistisk Folkeparti Lars Georg Jensen https://www.altinget.dk/kandidater/kv17/Lars-Georg-Jensen\n",
      "F. SF - Socialistisk Folkeparti Jan Frederik Hansen https://www.altinget.dk/kandidater/kv17/Jan-Frederik-Hansen\n",
      "F. SF - Socialistisk Folkeparti Brian Engsig https://www.altinget.dk/kandidater/kv17/Brian-Engsig\n",
      "F. SF - Socialistisk Folkeparti Henrik Dau Frederiksen https://www.altinget.dk/kandidater/kv17/Henrik-Dau-Frederiksen\n",
      "F. SF - Socialistisk Folkeparti Kasper Kaspian Falster https://www.altinget.dk/kandidater/kv17/kasper-kaspian-falster\n",
      "F. SF - Socialistisk Folkeparti Ebbe A. Hansen https://www.altinget.dk/kandidater/kv17/ebbe-arnfeldt-hansen\n",
      "F. SF - Socialistisk Folkeparti Kasper Nordborg Kiær https://www.altinget.dk/kandidater/kv17/kasper-nordborg-kiaer\n",
      "F. SF - Socialistisk Folkeparti Trine  stougaard https://www.altinget.dk/kandidater/kv17/trine-stougaard-madsen\n",
      "F. SF - Socialistisk Folkeparti Rasmus Steenberger https://www.altinget.dk/kandidater/kv17/rasmus-steenberger\n",
      "G. Kærlighedspartiet (Regnbuefolket / Befri Christiania) Allan Anarchos https://www.altinget.dk/kandidater/kv17/allan-anarchos\n",
      "G. Kærlighedspartiet (Regnbuefolket / Befri Christiania) Sarah K. O. Christiansen https://www.altinget.dk/kandidater/kv17/sarah-christiansen\n",
      "G. Kærlighedspartiet (Regnbuefolket / Befri Christiania) Leif Hamlet Botwel https://www.altinget.dk/kandidater/kv17/leif-hamlet-botwel\n",
      "G. Kærlighedspartiet (Regnbuefolket / Befri Christiania) Scott Hill https://www.altinget.dk/kandidater/kv17/Scott-Hill\n",
      "G. Kærlighedspartiet (Regnbuefolket / Befri Christiania) Morten Nielsen https://www.altinget.dk/kandidater/kv17/Morten-Nielsen\n",
      "G. Kærlighedspartiet (Regnbuefolket / Befri Christiania) John Erik Wagner https://www.altinget.dk/kandidater/kv17/john-erik-wagner\n",
      "G. Kærlighedspartiet (Regnbuefolket / Befri Christiania) Willem Jacob Cornelis Zibrandtsen https://www.altinget.dk/kandidater/kv17/Willem-Jacob-Cornelis-Zibrandtsen\n",
      "G. Kærlighedspartiet (Regnbuefolket / Befri Christiania) Ole Kaimer https://www.altinget.dk/kandidater/kv17/ole-kaimer\n",
      "G. Kærlighedspartiet (Regnbuefolket / Befri Christiania) Edna Michaelsdottir https://www.altinget.dk/kandidater/kv17/edna-michaelsdottir\n",
      "G. Kærlighedspartiet (Regnbuefolket / Befri Christiania) Erik Sandmand https://www.altinget.dk/kandidater/kv17/erik-sandmand\n",
      "G. Kærlighedspartiet (Regnbuefolket / Befri Christiania) Josefine Fisker Larsen https://www.altinget.dk/kandidater/kv17/josefine-fisker-larsen\n",
      "G. Kærlighedspartiet (Regnbuefolket / Befri Christiania) Makungu Lyaky Mhoja https://www.altinget.dk/kandidater/kv17/makungu-lyaky-mhoja\n",
      "G. Kærlighedspartiet (Regnbuefolket / Befri Christiania) Anders Hansen https://www.altinget.dk/kandidater/kv17/anders-hansen\n",
      "G. Kærlighedspartiet (Regnbuefolket / Befri Christiania) Anne Sommer Pihl https://www.altinget.dk/kandidater/kv17/anne-sommer-pihl\n",
      "G. Kærlighedspartiet (Regnbuefolket / Befri Christiania) Hans Pedersen https://www.altinget.dk/kandidater/kv17/hans-pedersen\n",
      "G. Kærlighedspartiet (Regnbuefolket / Befri Christiania) Hans Christian Magnussen https://www.altinget.dk/kandidater/kv17/Hans-Christian-Magnussen\n",
      "G. Kærlighedspartiet (Regnbuefolket / Befri Christiania) Asser Pivat https://www.altinget.dk/kandidater/kv17/Asser-Pivat\n",
      "G. Kærlighedspartiet (Regnbuefolket / Befri Christiania) Brynjar Einarsson https://www.altinget.dk/kandidater/kv17/Brynjar-Einarsson\n",
      "G. Kærlighedspartiet (Regnbuefolket / Befri Christiania) Jørgen Dolmer https://www.altinget.dk/kandidater/kv17/Joergen-Dolmer\n",
      "G. Kærlighedspartiet (Regnbuefolket / Befri Christiania) Peter Eliot Juhl https://www.altinget.dk/kandidater/kv17/peter-eliot-juhl\n",
      "G. Kærlighedspartiet (Regnbuefolket / Befri Christiania) Ulf Kjellberg https://www.altinget.dk/kandidater/kv17/ulf-kjellberg\n",
      "G. Kærlighedspartiet (Regnbuefolket / Befri Christiania) Lotte Seir https://www.altinget.dk/kandidater/kv17/Lotte-Seir\n",
      "G. Kærlighedspartiet (Regnbuefolket / Befri Christiania) Kaj Kyvsgaard https://www.altinget.dk/kandidater/kv17/kaj-kyvsgaard\n",
      "G. Kærlighedspartiet (Regnbuefolket / Befri Christiania) Lars Skovle https://www.altinget.dk/kandidater/kv17/lars-skovle\n",
      "G. Kærlighedspartiet (Regnbuefolket / Befri Christiania) Karsten Nyvang https://www.altinget.dk/kandidater/kv17/karsten-nyvang\n",
      "H. En Død Hest Morten Versner https://www.altinget.dk/kandidater/kv17/morten-versner\n",
      "H. En Død Hest Kim Silberbrandt https://www.altinget.dk/kandidater/kv17/kim-silberbrandt\n",
      "H. En Død Hest J. Pedro Gonçalves https://www.altinget.dk/kandidater/kv17/j-pedro-gonçalves\n",
      "H. En Død Hest Jesper Balle https://www.altinget.dk/kandidater/kv17/jesper-balle\n",
      "I. Liberal Alliance Alex Vanopslagh https://www.altinget.dk/kandidater/kv17/alex-vanopslagh\n",
      "I. Liberal Alliance Danny K. Malkowski https://www.altinget.dk/kandidater/kv17/danny-k-malkowski\n",
      "I. Liberal Alliance Karina Bergmann https://www.altinget.dk/kandidater/kv17/karina-bergmann\n",
      "I. Liberal Alliance Heidi Wang https://www.altinget.dk/kandidater/kv17/heidi-wang\n",
      "I. Liberal Alliance Morten Buchwald https://www.altinget.dk/kandidater/kv17/morten-buchwald\n",
      "I. Liberal Alliance Marika Tingleff Kayser https://www.altinget.dk/kandidater/kv17/marika-kayser\n",
      "I. Liberal Alliance Sabeena Sareen https://www.altinget.dk/kandidater/kv17/sabeena-sareen\n",
      "I. Liberal Alliance Martin Ancher https://www.altinget.dk/kandidater/kv17/martin-ancher\n",
      "I. Liberal Alliance Thomas Christensen https://www.altinget.dk/kandidater/kv17/chris-thomas-christensen\n",
      "J. Hampepartiet Klaus Trier Tuxen https://www.altinget.dk/kandidater/kv17/Klaus-Trier-Tuxen\n",
      "K. Kristendemokraterne Isabella Arendt https://www.altinget.dk/kandidater/kv17/isabella-arendt-laursen\n",
      "K. Kristendemokraterne Flemming Røntved Jensen https://www.altinget.dk/kandidater/kv17/flemming-roentved-jensen\n",
      "K. Kristendemokraterne Gunnar Bjørn Thomsen https://www.altinget.dk/kandidater/kv17/Gunnar-Bjoern-Thomsen\n",
      "K. Kristendemokraterne Bess Serner-Pedersen https://www.altinget.dk/kandidater/kv17/bess-serner-pedersen\n",
      "L. Lavere Skatter og Afgifter Lasse Pehrson https://www.altinget.dk/kandidater/kv17/lasse-pehrson\n",
      "M. Byrådslisten Grethe Zinck https://www.altinget.dk/kandidater/kv17/Grethe-Bohmann\n",
      "M. Byrådslisten Lasse Zinck https://www.altinget.dk/kandidater/kv17/lasse-zinck\n",
      "M. Byrådslisten Birgit Guldhammer https://www.altinget.dk/kandidater/kv17/birgit-guldhammer\n",
      "N. Nationalpartiet Noura C. Bendali https://www.altinget.dk/kandidater/kv17/noura-c-bendali\n",
      "N. Nationalpartiet Soufian Bendali https://www.altinget.dk/kandidater/kv17/soufian-bendali\n",
      "O. Dansk Folkeparti Carl Christian Ebbesen https://www.altinget.dk/kandidater/kv17/Carl-Christian-Ebbesen\n",
      "O. Dansk Folkeparti Finn Rudaizky https://www.altinget.dk/kandidater/kv17/Finn-Rudaizky\n",
      "O. Dansk Folkeparti Henrik Svendsen https://www.altinget.dk/kandidater/kv17/Henrik-Svendsen\n",
      "O. Dansk Folkeparti Cheanne Nielsen https://www.altinget.dk/kandidater/kv17/Cheanne-Bo-Nielsen\n",
      "O. Dansk Folkeparti Søsser Grønnegård https://www.altinget.dk/kandidater/kv17/soesser-c-merle-groennegaard\n",
      "O. Dansk Folkeparti Mikkel Jellesen https://www.altinget.dk/kandidater/kv17/Mikkel-Jellesen\n",
      "O. Dansk Folkeparti Allan Christensen https://www.altinget.dk/kandidater/kv17/Allan-Christensen\n",
      "O. Dansk Folkeparti Isabella Sara Sarchar https://www.altinget.dk/kandidater/kv17/isabella-sarchar\n",
      "O. Dansk Folkeparti Anna Hede Christensen https://www.altinget.dk/kandidater/kv17/Anna-Hede-Christensen\n",
      "O. Dansk Folkeparti Jens Vornøe https://www.altinget.dk/kandidater/kv17/jens-licht-vornoee\n",
      "P. Stram Kurs Rasmus Paludan https://www.altinget.dk/kandidater/kv17/rasmus-paludan\n",
      "P. Stram Kurs Kim Poulsen https://www.altinget.dk/kandidater/kv17/kim-poulsen\n",
      "P. Stram Kurs K. Møller https://www.altinget.dk/kandidater/kv17/k-moeller\n",
      "Q. Feministisk Initiativ Ida Damgaard https://www.altinget.dk/kandidater/kv17/ida-damgaard\n",
      "Q. Feministisk Initiativ Liv I Dali https://www.altinget.dk/kandidater/kv17/liv-i-dali\n",
      "Q. Feministisk Initiativ Marie Raasthøj Hansen https://www.altinget.dk/kandidater/kv17/marie-raasthoej-hansen\n",
      "Q. Feministisk Initiativ Irena Lukic https://www.altinget.dk/kandidater/kv17/irena-lukic\n",
      "R. Kommunisterne Anders Sørensen https://www.altinget.dk/kandidater/kv17/656-Anders-Soerensen\n",
      "R. Kommunisterne Rikke Galina Frydensbjerg Carlsson https://www.altinget.dk/kandidater/kv17/Rikke-Carlsson\n",
      "R. Kommunisterne Lars Emanuel https://www.altinget.dk/kandidater/kv17/Lars-Emanuel\n",
      "R. Kommunisterne Jan Mathisen https://www.altinget.dk/kandidater/kv17/john-mathisen\n",
      "R. Kommunisterne Claus Olsen https://www.altinget.dk/kandidater/kv17/claus-olsen\n",
      "R. Kommunisterne John Poulsen https://www.altinget.dk/kandidater/kv17/john-poulsen\n",
      "R. Kommunisterne Hjørdis Nielsen https://www.altinget.dk/kandidater/kv17/hjoerdis-nielsen\n",
      "R. Kommunisterne Kristian Laubjerg https://www.altinget.dk/kandidater/kv17/kristian-laubjerg\n",
      "R. Kommunisterne Steen Jørgensen https://www.altinget.dk/kandidater/kv17/3403-Steen-Joergensen\n",
      "R. Kommunisterne Preben Flemming Fogelstrøm https://www.altinget.dk/kandidater/kv17/preben-flemming-fogelstroem\n",
      "R. Kommunisterne Brian O'Brien Grønvold https://www.altinget.dk/kandidater/kv17/brian-obrien-groenvold\n",
      "T. Schiller Instituttets Venner Tom Gillesberg https://www.altinget.dk/kandidater/kv17/Tom-Gillesberg\n",
      "T. Schiller Instituttets Venner Michelle Rasmussen https://www.altinget.dk/kandidater/kv17/Michelle-Rasmussen\n",
      "T. Schiller Instituttets Venner Feride Istogu Gillesberg https://www.altinget.dk/kandidater/kv17/feride-istogu-gillesberg\n",
      "T. Schiller Instituttets Venner Lissie Brobjerg https://www.altinget.dk/kandidater/kv17/lissie-brobjerg\n",
      "T. Schiller Instituttets Venner Hans Frederik Brobjerg https://www.altinget.dk/kandidater/kv17/hans-frederik-brobjerg\n",
      "U. Sunshine Partiet Peer J. Pedersen https://www.altinget.dk/kandidater/kv17/Peer-J-Pedersen\n",
      "V. Venstre, Danmarks Liberale Parti Cecilia Lonning-Skovgaard https://www.altinget.dk/kandidater/kv17/cecilia-lonning-skovgaard\n",
      "V. Venstre, Danmarks Liberale Parti Caroline Stage https://www.altinget.dk/kandidater/kv17/caroline-stage-olsen\n",
      "V. Venstre, Danmarks Liberale Parti Jens-Kristian Lütken https://www.altinget.dk/kandidater/kv17/jens-kristian-lutken\n",
      "V. Venstre, Danmarks Liberale Parti Karina Rohrberg Jessen https://www.altinget.dk/kandidater/kv17/Karina-Rohrberg-Jessen\n",
      "V. Venstre, Danmarks Liberale Parti Flemming Steen Munch https://www.altinget.dk/kandidater/kv17/Flemming-Steen-Munch\n",
      "V. Venstre, Danmarks Liberale Parti Bjarke Kværnø https://www.altinget.dk/kandidater/kv17/bjarke-kvaernoe\n",
      "V. Venstre, Danmarks Liberale Parti Anahita Malakians https://www.altinget.dk/kandidater/kv17/anahita-neshati-malakians\n",
      "V. Venstre, Danmarks Liberale Parti Lena Holm Jensen https://www.altinget.dk/kandidater/kv17/lena-holm-jensen\n",
      "V. Venstre, Danmarks Liberale Parti Emilie J. Mortensen https://www.altinget.dk/kandidater/kv17/emilie-mortensen\n",
      "V. Venstre, Danmarks Liberale Parti Kasper Kristensen https://www.altinget.dk/kandidater/kv17/18273-kasper-kristensen\n",
      "V. Venstre, Danmarks Liberale Parti Thomas Jaskov https://www.altinget.dk/kandidater/kv17/thomas-jaskov\n",
      "V. Venstre, Danmarks Liberale Parti Leslie Arentoft https://www.altinget.dk/kandidater/kv17/Leslie-Arentoft\n",
      "V. Venstre, Danmarks Liberale Parti Kristian Nielsen https://www.altinget.dk/kandidater/kv17/kristian-nielsen\n",
      "V. Venstre, Danmarks Liberale Parti Dzenana Colo https://www.altinget.dk/kandidater/kv17/dzenana-secic-colo\n",
      "V. Venstre, Danmarks Liberale Parti Peter Dits Christensen https://www.altinget.dk/kandidater/kv17/peter-dits-christensen\n",
      "V. Venstre, Danmarks Liberale Parti Marcus Knuth https://www.altinget.dk/kandidater/kv17/marcus-knuth\n",
      "Y. Det Tavse Flertal Torben Joensen https://www.altinget.dk/kandidater/kv17/torben-joensen\n",
      "Z. Fabeldyret - Livstidspræsident Shahin Aakjær https://www.altinget.dk/kandidater/kv17/shahin-aakjaer\n",
      "Æ. Dovne Robert robert nielsen https://www.altinget.dk/kandidater/kv17/13417-Robert-Nielsen\n",
      "Ø. Enhedslisten - De Rød-Grønne Ninna Hedeager Olsen https://www.altinget.dk/kandidater/kv17/Ninna-Hedeager-Olsen\n",
      "Ø. Enhedslisten - De Rød-Grønne Ulrik Kohl https://www.altinget.dk/kandidater/kv17/Ulrik-Kohl\n",
      "Ø. Enhedslisten - De Rød-Grønne Charlotte Lund https://www.altinget.dk/kandidater/kv17/Charlotte-Lund\n",
      "Ø. Enhedslisten - De Rød-Grønne Rikke Lauritzen https://www.altinget.dk/kandidater/kv17/Rikke-Lauritzen\n",
      "Ø. Enhedslisten - De Rød-Grønne Gorm Anker Gunnarsen https://www.altinget.dk/kandidater/kv17/Gorm-Anker-Gunnarsen\n",
      "Ø. Enhedslisten - De Rød-Grønne Gyda Heding https://www.altinget.dk/kandidater/kv17/Gyda-Heding\n",
      "Ø. Enhedslisten - De Rød-Grønne Karina Vestergård Madsen https://www.altinget.dk/kandidater/kv17/Karina-Vestergård-Madsen\n",
      "Ø. Enhedslisten - De Rød-Grønne Hassan Nur Wardere https://www.altinget.dk/kandidater/kv17/Hassan-Nur-Wardere\n",
      "Ø. Enhedslisten - De Rød-Grønne Jens Kjær Christensen https://www.altinget.dk/kandidater/kv17/Jens-Kjaer-Christensen\n",
      "Ø. Enhedslisten - De Rød-Grønne Knud Holt Nielsen https://www.altinget.dk/kandidater/kv17/Knud-Holt-Nielsen\n",
      "Ø. Enhedslisten - De Rød-Grønne Ali Hansen https://www.altinget.dk/kandidater/kv17/Ali-Hansen\n",
      "Ø. Enhedslisten - De Rød-Grønne Zenia Nørregaard https://www.altinget.dk/kandidater/kv17/Zenia-Nørregaard\n",
      "Ø. Enhedslisten - De Rød-Grønne Helene Forsberg-Madsen https://www.altinget.dk/kandidater/kv17/Helene-Forsberg-Madsen\n",
      "Ø. Enhedslisten - De Rød-Grønne Rasmus Holme Nielsen https://www.altinget.dk/kandidater/kv17/Rasmus-Holme-Nielsen\n",
      "Ø. Enhedslisten - De Rød-Grønne Bente Møller https://www.altinget.dk/kandidater/kv17/Bente-Moeller\n",
      "Ø. Enhedslisten - De Rød-Grønne Jean Thierry https://www.altinget.dk/kandidater/kv17/Jean-Thierry\n",
      "Ø. Enhedslisten - De Rød-Grønne Susanne Langer https://www.altinget.dk/kandidater/kv17/susanne-langer\n",
      "Ø. Enhedslisten - De Rød-Grønne Sune Hvidtfeldt Håkansson https://www.altinget.dk/kandidater/kv17/Sune-Håkansson\n",
      "Ø. Enhedslisten - De Rød-Grønne Sinem Demir https://www.altinget.dk/kandidater/kv17/Sinem-Demir\n",
      "Ø. Enhedslisten - De Rød-Grønne Allan Mylius Thomsen https://www.altinget.dk/kandidater/kv17/Allan-Mylius-Thomsen\n",
      "Ø. Enhedslisten - De Rød-Grønne Ronja Cosmasia Gourlay https://www.altinget.dk/kandidater/kv17/ronja-g\n",
      "Ø. Enhedslisten - De Rød-Grønne John Andersen https://www.altinget.dk/kandidater/kv17/2771-John-Andersen\n",
      "Ø. Enhedslisten - De Rød-Grønne Jakob Lindebæk Jasim https://www.altinget.dk/kandidater/kv17/jakob-lindebaek-jasim\n",
      "Ø. Enhedslisten - De Rød-Grønne Cecilie Høgh Egmose https://www.altinget.dk/kandidater/kv17/cecilie-hoegh-egmose\n",
      "Ø. Enhedslisten - De Rød-Grønne Vibe Kathrine Fangel-Hansen https://www.altinget.dk/kandidater/kv17/vibe-kathrine-fangel-hansen\n",
      "Ø. Enhedslisten - De Rød-Grønne Sofie Frank Larsen Jørgensen https://www.altinget.dk/kandidater/kv17/sofie-frank-larsen-joergensen\n",
      "Ø. Enhedslisten - De Rød-Grønne Gunna Starck https://www.altinget.dk/kandidater/kv17/gunna-starck\n",
      "Ø. Enhedslisten - De Rød-Grønne Anne Mette Omø Carlsen https://www.altinget.dk/kandidater/kv17/Anne-Mette-Omoe-Carlsen\n",
      "Å. Alternativet Niko Grünfeld https://www.altinget.dk/kandidater/kv17/Niko-Grünfeld\n",
      "Å. Alternativet Fanny Hermind Broholm https://www.altinget.dk/kandidater/kv17/fanny-broholm\n",
      "Å. Alternativet Kåre Traberg Smidt https://www.altinget.dk/kandidater/kv17/Kåre-Traberg-Smidt\n",
      "Å. Alternativet Bjarke Charlie Serritslev https://www.altinget.dk/kandidater/kv17/Bjarke-Charlie-Serritslev\n",
      "Å. Alternativet Franciska Rosenkilde https://www.altinget.dk/kandidater/kv17/Franciska-Rosenkilde\n",
      "Å. Alternativet Maja Krog https://www.altinget.dk/kandidater/kv17/Maja-Krog\n",
      "Å. Alternativet Kim Hjerrild https://www.altinget.dk/kandidater/kv17/Kim-Hjerrild\n",
      "Å. Alternativet Birgitte  Kehler Holst https://www.altinget.dk/kandidater/kv17/Birgitte-Kehler-Holst\n",
      "Å. Alternativet Jakob Gorm https://www.altinget.dk/kandidater/kv17/jakob-gorm-andreasen\n",
      "Å. Alternativet Rune Lundgaard Jørgensen https://www.altinget.dk/kandidater/kv17/Rune-Lundgaard-Jørgensen\n",
      "Å. Alternativet Rolf Bjerre https://www.altinget.dk/kandidater/kv17/Rolf-Bjerre\n",
      "Å. Alternativet Troels Christian Jakobsen https://www.altinget.dk/kandidater/kv17/Troels-Christian-Jakobsen\n",
      "Å. Alternativet Badar Shah https://www.altinget.dk/kandidater/kv17/Badar-Shah\n",
      "Å. Alternativet Helena Udsen https://www.altinget.dk/kandidater/kv17/Helena-Udsen\n",
      "Å. Alternativet Stine Skot https://www.altinget.dk/kandidater/kv17/Stine-Skot\n",
      "Å. Alternativet Matthew Daniali https://www.altinget.dk/kandidater/kv17/Matthew-Daniali\n",
      "Å. Alternativet Jonas Sloth Bach https://www.altinget.dk/kandidater/kv17/jonas-sloth-bach\n"
     ]
    }
   ],
   "source": [
    "candidates = []\n",
    "base = 'https://www.altinget.dk'\n",
    "for child in list(node.children):\n",
    "    if child['class'][0] == \"candidates-party-name\":\n",
    "        party = child.text\n",
    "        continue\n",
    "    name = child.a.text\n",
    "    link = base+child.a['href']\n",
    "    print(party,name,link)\n",
    "    row = [party,name,link]\n",
    "    candidates.append(row)"
   ]
  },
  {
   "cell_type": "code",
   "execution_count": null,
   "metadata": {
    "collapsed": true
   },
   "outputs": [],
   "source": []
  },
  {
   "cell_type": "code",
   "execution_count": 124,
   "metadata": {
    "collapsed": true
   },
   "outputs": [],
   "source": [
    "#if child.name =='dt':\n",
    " #   party = child.get_text()"
   ]
  },
  {
   "cell_type": "code",
   "execution_count": 125,
   "metadata": {
    "slideshow": {
     "slide_type": "subslide"
    }
   },
   "outputs": [
    {
     "data": {
      "text/html": [
       "<div>\n",
       "<style scoped>\n",
       "    .dataframe tbody tr th:only-of-type {\n",
       "        vertical-align: middle;\n",
       "    }\n",
       "\n",
       "    .dataframe tbody tr th {\n",
       "        vertical-align: top;\n",
       "    }\n",
       "\n",
       "    .dataframe thead th {\n",
       "        text-align: right;\n",
       "    }\n",
       "</style>\n",
       "<table border=\"1\" class=\"dataframe\">\n",
       "  <thead>\n",
       "    <tr style=\"text-align: right;\">\n",
       "      <th></th>\n",
       "      <th>party</th>\n",
       "      <th>name</th>\n",
       "      <th>link</th>\n",
       "    </tr>\n",
       "  </thead>\n",
       "  <tbody>\n",
       "    <tr>\n",
       "      <th>0</th>\n",
       "      <td>02. Christiania-Listen</td>\n",
       "      <td>Andreas Bennetzen</td>\n",
       "      <td>https://www.altinget.dk/kandidater/kv17/andrea...</td>\n",
       "    </tr>\n",
       "    <tr>\n",
       "      <th>1</th>\n",
       "      <td>02. Christiania-Listen</td>\n",
       "      <td>Britta Lillesøe</td>\n",
       "      <td>https://www.altinget.dk/kandidater/kv17/Britta...</td>\n",
       "    </tr>\n",
       "    <tr>\n",
       "      <th>2</th>\n",
       "      <td>02. Christiania-Listen</td>\n",
       "      <td>Klaus Haase</td>\n",
       "      <td>https://www.altinget.dk/kandidater/kv17/Klaus-...</td>\n",
       "    </tr>\n",
       "    <tr>\n",
       "      <th>3</th>\n",
       "      <td>02. Christiania-Listen</td>\n",
       "      <td>Lis Brandstrup</td>\n",
       "      <td>https://www.altinget.dk/kandidater/kv17/Lis-Br...</td>\n",
       "    </tr>\n",
       "    <tr>\n",
       "      <th>4</th>\n",
       "      <td>02. Christiania-Listen</td>\n",
       "      <td>Carl Oskar Strange</td>\n",
       "      <td>https://www.altinget.dk/kandidater/kv17/carl-o...</td>\n",
       "    </tr>\n",
       "  </tbody>\n",
       "</table>\n",
       "</div>"
      ],
      "text/plain": [
       "                    party                name  \\\n",
       "0  02. Christiania-Listen   Andreas Bennetzen   \n",
       "1  02. Christiania-Listen     Britta Lillesøe   \n",
       "2  02. Christiania-Listen         Klaus Haase   \n",
       "3  02. Christiania-Listen      Lis Brandstrup   \n",
       "4  02. Christiania-Listen  Carl Oskar Strange   \n",
       "\n",
       "                                                link  \n",
       "0  https://www.altinget.dk/kandidater/kv17/andrea...  \n",
       "1  https://www.altinget.dk/kandidater/kv17/Britta...  \n",
       "2  https://www.altinget.dk/kandidater/kv17/Klaus-...  \n",
       "3  https://www.altinget.dk/kandidater/kv17/Lis-Br...  \n",
       "4  https://www.altinget.dk/kandidater/kv17/carl-o...  "
      ]
     },
     "execution_count": 125,
     "metadata": {},
     "output_type": "execute_result"
    }
   ],
   "source": [
    "import pandas as pd\n",
    "df = pd.DataFrame(candidates,columns = ['party','name','link'])\n",
    "df.head()"
   ]
  },
  {
   "cell_type": "code",
   "execution_count": 126,
   "metadata": {
    "collapsed": true,
    "slideshow": {
     "slide_type": "subslide"
    }
   },
   "outputs": [],
   "source": [
    "# Getting information about each candidate\n",
    "\n",
    "url = 'https://www.altinget.dk/kandidater/kv17/3010-frank-jensen'\n",
    "response = request(url)\n",
    "html = response.text\n",
    "soup = BeautifulSoup(html,'lxml')"
   ]
  },
  {
   "cell_type": "code",
   "execution_count": 128,
   "metadata": {},
   "outputs": [
    {
     "data": {
      "text/plain": [
       "[<h3 class=\"subsection-title h4\">Fakta</h3>,\n",
       " <h3 class=\"subsection-title h4\">Mere information</h3>]"
      ]
     },
     "execution_count": 128,
     "metadata": {},
     "output_type": "execute_result"
    }
   ],
   "source": [
    "meta_nodes = soup.findAll('h3',{'class':'subsection-title h4'})\n",
    "meta_nodes"
   ]
  },
  {
   "cell_type": "code",
   "execution_count": 129,
   "metadata": {
    "collapsed": true
   },
   "outputs": [],
   "source": [
    "for meta_node in meta_nodes:\n",
    "    if meta_node.text == 'Fakta':\n",
    "        break\n",
    "    "
   ]
  },
  {
   "cell_type": "code",
   "execution_count": 130,
   "metadata": {},
   "outputs": [
    {
     "data": {
      "text/plain": [
       "<h3 class=\"subsection-title h4\">Fakta</h3>"
      ]
     },
     "execution_count": 130,
     "metadata": {},
     "output_type": "execute_result"
    }
   ],
   "source": [
    "# search for siblings."
   ]
  },
  {
   "cell_type": "code",
   "execution_count": 131,
   "metadata": {},
   "outputs": [
    {
     "data": {
      "text/plain": [
       "<dl>\n",
       "<dt>Valgt i</dt><dd>2009, 2013</dd>\n",
       "<dt>Uddannelse</dt><dd>Kandidatuddannelse</dd>\n",
       "<dt>Beskæftigelse</dt><dd>Borgmester</dd>\n",
       "<dt>Alder</dt><dd>56 år</dd>\n",
       "</dl>"
      ]
     },
     "execution_count": 131,
     "metadata": {},
     "output_type": "execute_result"
    }
   ],
   "source": [
    "node = meta_node.find_next('dl')\n",
    "node"
   ]
  },
  {
   "cell_type": "code",
   "execution_count": 156,
   "metadata": {},
   "outputs": [
    {
     "name": "stdout",
     "output_type": "stream",
     "text": [
      "Valgt i 2009, 2013\n",
      "Uddannelse Kandidatuddannelse\n",
      "Beskæftigelse Borgmester\n",
      "Alder 56 år\n"
     ]
    }
   ],
   "source": [
    "candidate_data = {}\n",
    "for cat in node.findAll('dt'):\n",
    "    category_title = cat.get_text()\n",
    "    category_point = cat.find_next_sibling().get_text()\n",
    "    print(category_title,category_point)\n",
    "    candidate_data[category_title] = category_point"
   ]
  },
  {
   "cell_type": "code",
   "execution_count": 138,
   "metadata": {},
   "outputs": [
    {
     "data": {
      "text/plain": [
       "('Valgt i', '2013')"
      ]
     },
     "execution_count": 138,
     "metadata": {},
     "output_type": "execute_result"
    }
   ],
   "source": [
    "cat.get_text(),cat.find_next_sibling().get_text().split(',')[-1].strip()"
   ]
  },
  {
   "cell_type": "code",
   "execution_count": 153,
   "metadata": {
    "collapsed": true
   },
   "outputs": [],
   "source": [
    "answers = soup.findAll('h3',{'class':'panel-title'})#soup.findAll('div',{'class':'poll-candidates-question panel panel-default'})"
   ]
  },
  {
   "cell_type": "code",
   "execution_count": 147,
   "metadata": {
    "collapsed": true
   },
   "outputs": [],
   "source": [
    "#answers[0]"
   ]
  },
  {
   "cell_type": "code",
   "execution_count": 158,
   "metadata": {
    "collapsed": true
   },
   "outputs": [],
   "source": [
    "\n",
    "for answer in answers:\n",
    "    title = answer.text\n",
    "    #print(title)\n",
    "    candidate_answer = answer.find_next('div',{'class':'answer-candidate tooltip in top'}).previous\n",
    "    candidate_data[title] = candidate_answer"
   ]
  },
  {
   "cell_type": "code",
   "execution_count": 159,
   "metadata": {},
   "outputs": [
    {
     "data": {
      "text/html": [
       "<div>\n",
       "<style scoped>\n",
       "    .dataframe tbody tr th:only-of-type {\n",
       "        vertical-align: middle;\n",
       "    }\n",
       "\n",
       "    .dataframe tbody tr th {\n",
       "        vertical-align: top;\n",
       "    }\n",
       "\n",
       "    .dataframe thead th {\n",
       "        text-align: right;\n",
       "    }\n",
       "</style>\n",
       "<table border=\"1\" class=\"dataframe\">\n",
       "  <thead>\n",
       "    <tr style=\"text-align: right;\">\n",
       "      <th></th>\n",
       "      <th>Alder</th>\n",
       "      <th>BESKÆFTIGELSE</th>\n",
       "      <th>Beskæftigelse</th>\n",
       "      <th>BÆREDYGTIGHED</th>\n",
       "      <th>DAGINSTITUTIONER</th>\n",
       "      <th>ENERGI</th>\n",
       "      <th>ERHVERV</th>\n",
       "      <th>FLYGTNINGE</th>\n",
       "      <th>FOLKESKOLE</th>\n",
       "      <th>FOLKESUNDHED</th>\n",
       "      <th>...</th>\n",
       "      <th>KLIMA</th>\n",
       "      <th>KOMMUNESKAT</th>\n",
       "      <th>KULTUR</th>\n",
       "      <th>MILJØ</th>\n",
       "      <th>TRANSPORT</th>\n",
       "      <th>Uddannelse</th>\n",
       "      <th>Valgt i</th>\n",
       "      <th>ÆLDRE</th>\n",
       "      <th>ÆLDREPLEJE</th>\n",
       "      <th>ØKONOMI</th>\n",
       "    </tr>\n",
       "  </thead>\n",
       "  <tbody>\n",
       "    <tr>\n",
       "      <th>0</th>\n",
       "      <td>56 år</td>\n",
       "      <td>Delvist enig</td>\n",
       "      <td>Borgmester</td>\n",
       "      <td>Delvist enig</td>\n",
       "      <td>Delvist enig</td>\n",
       "      <td>Helt enig</td>\n",
       "      <td>Delvist uenig</td>\n",
       "      <td>Delvist uenig</td>\n",
       "      <td>Delvist uenig</td>\n",
       "      <td>Hverken/eller</td>\n",
       "      <td>...</td>\n",
       "      <td>Helt enig</td>\n",
       "      <td>Delvist uenig</td>\n",
       "      <td>Helt uenig</td>\n",
       "      <td>Helt enig</td>\n",
       "      <td>Helt enig</td>\n",
       "      <td>Kandidatuddannelse</td>\n",
       "      <td>2009, 2013</td>\n",
       "      <td>Helt enig</td>\n",
       "      <td>Delvist uenig</td>\n",
       "      <td>Delvist uenig</td>\n",
       "    </tr>\n",
       "  </tbody>\n",
       "</table>\n",
       "<p>1 rows × 24 columns</p>\n",
       "</div>"
      ],
      "text/plain": [
       "   Alder BESKÆFTIGELSE Beskæftigelse BÆREDYGTIGHED DAGINSTITUTIONER  \\\n",
       "0  56 år  Delvist enig    Borgmester  Delvist enig     Delvist enig   \n",
       "\n",
       "      ENERGI        ERHVERV     FLYGTNINGE     FOLKESKOLE   FOLKESUNDHED  \\\n",
       "0  Helt enig  Delvist uenig  Delvist uenig  Delvist uenig  Hverken/eller   \n",
       "\n",
       "       ...            KLIMA    KOMMUNESKAT      KULTUR      MILJØ  TRANSPORT  \\\n",
       "0      ...        Helt enig  Delvist uenig  Helt uenig  Helt enig  Helt enig   \n",
       "\n",
       "           Uddannelse     Valgt i      ÆLDRE     ÆLDREPLEJE        ØKONOMI  \n",
       "0  Kandidatuddannelse  2009, 2013  Helt enig  Delvist uenig  Delvist uenig  \n",
       "\n",
       "[1 rows x 24 columns]"
      ]
     },
     "execution_count": 159,
     "metadata": {},
     "output_type": "execute_result"
    }
   ],
   "source": [
    "data = [candidate_data]\n",
    "df = pd.DataFrame(data)\n",
    "df"
   ]
  },
  {
   "cell_type": "code",
   "execution_count": 150,
   "metadata": {},
   "outputs": [
    {
     "data": {
      "text/plain": [
       "'Delvist uenig'"
      ]
     },
     "execution_count": 150,
     "metadata": {},
     "output_type": "execute_result"
    }
   ],
   "source": [
    "answer.find_next('div',{'class':'answer-candidate tooltip in top'}).previous"
   ]
  },
  {
   "cell_type": "code",
   "execution_count": 160,
   "metadata": {
    "collapsed": true
   },
   "outputs": [],
   "source": [
    "#candidate_data"
   ]
  },
  {
   "cell_type": "markdown",
   "metadata": {
    "slideshow": {
     "slide_type": "subslide"
    }
   },
   "source": [
    "**Hvem er den vageste politiker?**"
   ]
  },
  {
   "cell_type": "markdown",
   "metadata": {
    "slideshow": {
     "slide_type": "slide"
    }
   },
   "source": [
    "## Exercise 3: Find the facebook ids of all candidates in the KV17 election\n",
    "* Loop through the first 5 muncipalities and collect all candidates.\n",
    "\n",
    "* Get the facebook link from each candidate's page.\n",
    "\n",
    "- Parse all social media links in the section (Mere information), without knowing the classes in advance.\n",
    "\n",
    "extra: \n",
    "    Parse all information on the page including answers to the candidate test, and count how many 'delvist' answers each politician has. Who is the vaguest politician in denmark?\n",
    "\n",
    "extra:\n",
    "    search for the candidate and kv17 on dr.dk (https://www.dr.dk/search/Result?filter_facet_universe=Nyheder&query=candidate+kv17)\n",
    "    "
   ]
  },
  {
   "cell_type": "code",
   "execution_count": 4,
   "metadata": {
    "slideshow": {
     "slide_type": "fragment"
    }
   },
   "outputs": [],
   "source": [
    "url = 'https://www.altinget.dk/kandidater/kv17/jacob-bundsgaard'\n",
    "\n",
    "response = request(url)"
   ]
  },
  {
   "cell_type": "code",
   "execution_count": 5,
   "metadata": {
    "collapsed": true
   },
   "outputs": [],
   "source": [
    "html = response.text"
   ]
  },
  {
   "cell_type": "code",
   "execution_count": 6,
   "metadata": {
    "collapsed": true
   },
   "outputs": [],
   "source": [
    "from bs4 import BeautifulSoup\n",
    "soup = BeautifulSoup(html,'lxml')"
   ]
  },
  {
   "cell_type": "code",
   "execution_count": 7,
   "metadata": {
    "collapsed": true
   },
   "outputs": [],
   "source": [
    "nodes = soup.findAll('h3',{'class':'subsection-title h4'})"
   ]
  },
  {
   "cell_type": "code",
   "execution_count": 8,
   "metadata": {},
   "outputs": [
    {
     "data": {
      "text/plain": [
       "<h3 class=\"subsection-title h4\">Mere information</h3>"
      ]
     },
     "execution_count": 8,
     "metadata": {},
     "output_type": "execute_result"
    }
   ],
   "source": [
    "node = [node for node in nodes if node.text=='Mere information'][0]\n",
    "node"
   ]
  },
  {
   "cell_type": "code",
   "execution_count": 9,
   "metadata": {
    "collapsed": true
   },
   "outputs": [],
   "source": [
    "node = node.find_next('dl')\n"
   ]
  },
  {
   "cell_type": "code",
   "execution_count": 15,
   "metadata": {},
   "outputs": [],
   "source": [
    "for link_node in node.find_all_next('a'):\n",
    "    break\n",
    "    #print(link_node)"
   ]
  },
  {
   "cell_type": "code",
   "execution_count": 12,
   "metadata": {},
   "outputs": [
    {
     "data": {
      "text/plain": [
       "<dl>\n",
       "<dd><a href=\"https://www.instagram.com/jacobbundsgaard/\">Instagram </a></dd><dd><a href=\"https://twitter.com/1836\">Twitter</a></dd><dd><a href=\"https://www.facebook.com/100002941361500\">Facebook</a></dd>\n",
       "</dl>"
      ]
     },
     "execution_count": 12,
     "metadata": {},
     "output_type": "execute_result"
    }
   ],
   "source": [
    "node"
   ]
  },
  {
   "cell_type": "code",
   "execution_count": 169,
   "metadata": {
    "collapsed": true
   },
   "outputs": [],
   "source": [
    "SoMe = {}\n",
    "for link_node in node.find_all_next('dd'):\n",
    "    link_node = link_node.a\n",
    "    name = link_node.text.strip()\n",
    "    link = link_node['href']\n",
    "    SoMe[name] = link\n"
   ]
  },
  {
   "cell_type": "code",
   "execution_count": 170,
   "metadata": {},
   "outputs": [
    {
     "name": "stdout",
     "output_type": "stream",
     "text": [
      "https://www.facebook.com/100002941361500\n"
     ]
    }
   ],
   "source": [
    "if 'Facebook' in SoMe:\n",
    "    print(SoMe['Facebook'])"
   ]
  },
  {
   "cell_type": "markdown",
   "metadata": {
    "slideshow": {
     "slide_type": "slide"
    }
   },
   "source": [
    "### Storing data\n",
    "Storing processed data, logging activity.\n",
    "* in csv, \n",
    "* storing in json,\n",
    "* as picklefile,\n",
    "* as dataframe\n",
    "Install a csv reader and writer:\n",
    "\n",
    "`conda install -c anaconda unicodecsv `\n",
    "\n",
    "or \n",
    "\n",
    "`pip install unicodecsv`"
   ]
  },
  {
   "cell_type": "markdown",
   "metadata": {
    "slideshow": {
     "slide_type": "slide"
    }
   },
   "source": [
    "## Now let's try parsing more structured data: Tables.\n",
    "If you are not sure always ask google: \"how to parse html table\"\n",
    "### [Hit the following link](https://www.basketball-reference.com/leagues/NBA_2017.html). \n",
    "\n"
   ]
  },
  {
   "cell_type": "code",
   "execution_count": 124,
   "metadata": {
    "collapsed": true,
    "slideshow": {
     "slide_type": "subslide"
    }
   },
   "outputs": [],
   "source": [
    "import requests\n",
    "response = requests.get('https://www.basketball-reference.com/leagues/NBA_2017.html') # get the html "
   ]
  },
  {
   "cell_type": "code",
   "execution_count": 121,
   "metadata": {
    "collapsed": true,
    "slideshow": {
     "slide_type": "subslide"
    }
   },
   "outputs": [],
   "source": [
    "from bs4 import BeautifulSoup # import parser\n",
    "\n",
    "bsobj = BeautifulSoup(response.text) # parse the response using beautifulsoup"
   ]
  },
  {
   "cell_type": "code",
   "execution_count": 122,
   "metadata": {
    "collapsed": true,
    "slideshow": {
     "slide_type": "subslide"
    }
   },
   "outputs": [],
   "source": [
    "tables = bsobj.findAll('table') # using the tag to locate tables\n",
    "table = bsobj.select('#confs_standings_E > thead > tr > th.poptip.sort_default_asc.left') # using a specific css selector to locate specific table"
   ]
  },
  {
   "cell_type": "markdown",
   "metadata": {
    "slideshow": {
     "slide_type": "slide"
    }
   },
   "source": [
    "### lets look at the tables"
   ]
  },
  {
   "cell_type": "code",
   "execution_count": 144,
   "metadata": {
    "slideshow": {
     "slide_type": "fragment"
    }
   },
   "outputs": [
    {
     "name": "stdout",
     "output_type": "stream",
     "text": [
      "Boston Celtics* (1) \n",
      "53\n",
      "29\n",
      ".646\n",
      "—\n",
      "108.0\n",
      "105.4\n",
      "2.25\n",
      "Cleveland Cavaliers* (2) \n",
      "51\n",
      "31\n",
      ".622\n",
      "2.0\n",
      "110.3\n",
      "107.2\n",
      "2.87\n",
      "Toronto Raptors* (3) \n",
      "51\n",
      "31\n",
      ".622\n",
      "2.0\n",
      "106.9\n",
      "102.6\n",
      "3.65\n",
      "Washington Wizards* (4) \n",
      "49\n",
      "33\n",
      ".598\n",
      "4.0\n",
      "109.2\n",
      "107.4\n",
      "1.36\n",
      "Atlanta Hawks* (5) \n",
      "43\n",
      "39\n",
      ".524\n",
      "10.0\n",
      "103.2\n",
      "104.0\n",
      "-1.23\n",
      "Milwaukee Bucks* (6) \n",
      "42\n",
      "40\n",
      ".512\n",
      "11.0\n",
      "103.6\n",
      "103.8\n",
      "-0.45\n",
      "Indiana Pacers* (7) \n",
      "42\n",
      "40\n",
      ".512\n",
      "11.0\n",
      "105.1\n",
      "105.3\n",
      "-0.64\n",
      "Chicago Bulls* (8) \n",
      "41\n",
      "41\n",
      ".500\n",
      "12.0\n",
      "102.9\n",
      "102.4\n",
      "0.03\n",
      "Miami Heat (9) \n",
      "41\n",
      "41\n",
      ".500\n",
      "12.0\n",
      "103.2\n",
      "102.1\n",
      "0.77\n",
      "Detroit Pistons (10) \n",
      "37\n",
      "45\n",
      ".451\n",
      "16.0\n",
      "101.3\n",
      "102.5\n",
      "-1.29\n",
      "Charlotte Hornets (11) \n",
      "36\n",
      "46\n",
      ".439\n",
      "17.0\n",
      "104.9\n",
      "104.7\n",
      "-0.07\n",
      "New York Knicks (12) \n",
      "31\n",
      "51\n",
      ".378\n",
      "22.0\n",
      "104.3\n",
      "108.0\n",
      "-3.87\n",
      "Orlando Magic (13) \n",
      "29\n",
      "53\n",
      ".354\n",
      "24.0\n",
      "101.1\n",
      "107.6\n",
      "-6.61\n",
      "Philadelphia 76ers (14) \n",
      "28\n",
      "54\n",
      ".341\n",
      "25.0\n",
      "102.4\n",
      "108.1\n",
      "-5.83\n",
      "Brooklyn Nets (15) \n",
      "20\n",
      "62\n",
      ".244\n",
      "33.0\n",
      "105.8\n",
      "112.5\n",
      "-6.74\n"
     ]
    },
    {
     "data": {
      "text/plain": [
       "[[u'Boston Celtics*\\xa0(1)\\xa0',\n",
       "  u'53',\n",
       "  u'29',\n",
       "  u'.646',\n",
       "  u'\\u2014',\n",
       "  u'108.0',\n",
       "  u'105.4',\n",
       "  u'2.25'],\n",
       " [u'Cleveland Cavaliers*\\xa0(2)\\xa0',\n",
       "  u'51',\n",
       "  u'31',\n",
       "  u'.622',\n",
       "  u'2.0',\n",
       "  u'110.3',\n",
       "  u'107.2',\n",
       "  u'2.87'],\n",
       " [u'Toronto Raptors*\\xa0(3)\\xa0',\n",
       "  u'51',\n",
       "  u'31',\n",
       "  u'.622',\n",
       "  u'2.0',\n",
       "  u'106.9',\n",
       "  u'102.6',\n",
       "  u'3.65'],\n",
       " [u'Washington Wizards*\\xa0(4)\\xa0',\n",
       "  u'49',\n",
       "  u'33',\n",
       "  u'.598',\n",
       "  u'4.0',\n",
       "  u'109.2',\n",
       "  u'107.4',\n",
       "  u'1.36'],\n",
       " [u'Atlanta Hawks*\\xa0(5)\\xa0',\n",
       "  u'43',\n",
       "  u'39',\n",
       "  u'.524',\n",
       "  u'10.0',\n",
       "  u'103.2',\n",
       "  u'104.0',\n",
       "  u'-1.23'],\n",
       " [u'Milwaukee Bucks*\\xa0(6)\\xa0',\n",
       "  u'42',\n",
       "  u'40',\n",
       "  u'.512',\n",
       "  u'11.0',\n",
       "  u'103.6',\n",
       "  u'103.8',\n",
       "  u'-0.45'],\n",
       " [u'Indiana Pacers*\\xa0(7)\\xa0',\n",
       "  u'42',\n",
       "  u'40',\n",
       "  u'.512',\n",
       "  u'11.0',\n",
       "  u'105.1',\n",
       "  u'105.3',\n",
       "  u'-0.64'],\n",
       " [u'Chicago Bulls*\\xa0(8)\\xa0',\n",
       "  u'41',\n",
       "  u'41',\n",
       "  u'.500',\n",
       "  u'12.0',\n",
       "  u'102.9',\n",
       "  u'102.4',\n",
       "  u'0.03'],\n",
       " [u'Miami Heat\\xa0(9)\\xa0',\n",
       "  u'41',\n",
       "  u'41',\n",
       "  u'.500',\n",
       "  u'12.0',\n",
       "  u'103.2',\n",
       "  u'102.1',\n",
       "  u'0.77'],\n",
       " [u'Detroit Pistons\\xa0(10)\\xa0',\n",
       "  u'37',\n",
       "  u'45',\n",
       "  u'.451',\n",
       "  u'16.0',\n",
       "  u'101.3',\n",
       "  u'102.5',\n",
       "  u'-1.29'],\n",
       " [u'Charlotte Hornets\\xa0(11)\\xa0',\n",
       "  u'36',\n",
       "  u'46',\n",
       "  u'.439',\n",
       "  u'17.0',\n",
       "  u'104.9',\n",
       "  u'104.7',\n",
       "  u'-0.07'],\n",
       " [u'New York Knicks\\xa0(12)\\xa0',\n",
       "  u'31',\n",
       "  u'51',\n",
       "  u'.378',\n",
       "  u'22.0',\n",
       "  u'104.3',\n",
       "  u'108.0',\n",
       "  u'-3.87'],\n",
       " [u'Orlando Magic\\xa0(13)\\xa0',\n",
       "  u'29',\n",
       "  u'53',\n",
       "  u'.354',\n",
       "  u'24.0',\n",
       "  u'101.1',\n",
       "  u'107.6',\n",
       "  u'-6.61'],\n",
       " [u'Philadelphia 76ers\\xa0(14)\\xa0',\n",
       "  u'28',\n",
       "  u'54',\n",
       "  u'.341',\n",
       "  u'25.0',\n",
       "  u'102.4',\n",
       "  u'108.1',\n",
       "  u'-5.83'],\n",
       " [u'Brooklyn Nets\\xa0(15)\\xa0',\n",
       "  u'20',\n",
       "  u'62',\n",
       "  u'.244',\n",
       "  u'33.0',\n",
       "  u'105.8',\n",
       "  u'112.5',\n",
       "  u'-6.74']]"
      ]
     },
     "execution_count": 144,
     "metadata": {},
     "output_type": "execute_result"
    }
   ],
   "source": [
    "for table in tables[0:1]: # iterating through the tables\n",
    "    header = table.findAll('thead')[0] # thead is standard notation for table header\n",
    "    data = table.findAll('tbody')[0] # tbody is standard notation for the data\n",
    "    \n",
    "    head = []\n",
    "    for row in header.findAll('th'): # collect data from header.\n",
    "        #print(row['aria-label'])#.attrs)#,row.text)\n",
    "        head.append(row['aria-label'])\n",
    " #   print(head)\n",
    "    tbody = [] # container for the data\n",
    "    for row in data.findAll('tr'): # tr is standard notation for table rows.\n",
    "#        print row\n",
    "        tempoary_row = []\n",
    "        for cell in row.children: # think of children as indentation in python.\n",
    "            print(cell.get_text())\n",
    "            tempoary_row.append(cell.get_text())\n",
    "        tbody.append(tempoary_row)\n",
    "#        break\n",
    "tbody"
   ]
  },
  {
   "cell_type": "code",
   "execution_count": 147,
   "metadata": {
    "collapsed": true,
    "slideshow": {
     "slide_type": "subslide"
    }
   },
   "outputs": [],
   "source": [
    "\n",
    "for table in tables[0:1]: # pick only the first table\n",
    "    header = table.findAll('thead')[0]\n",
    "    data = table.findAll('tbody')[0]\n",
    "    head = [] # define container for the header\n",
    "    for column in header.findAll('th'): # collect data from header.\n",
    "        head.append(column['aria-label']) # append to header container\n",
    "    rows = [] # define container for the rows\n",
    "    for row in data.findAll('tr'):\n",
    "        temp_row = [] # define tempoary row container\n",
    "        for cell in row.children: # think of children as indentation in python.\n",
    "            val = cell.get_text()\n",
    "            try:    \n",
    "                val = float(val)\n",
    "            except:\n",
    "                pass\n",
    "            temp_row.append(val) # append to tempoary row\n",
    "        rows.append(temp_row) # append tempoary row to row container\n",
    "      \n",
    "import pandas as pd\n",
    "df = pd.DataFrame(columns=head,data=rows) # define the dataframe"
   ]
  },
  {
   "cell_type": "code",
   "execution_count": 148,
   "metadata": {},
   "outputs": [
    {
     "data": {
      "text/html": [
       "<div>\n",
       "<style>\n",
       "    .dataframe thead tr:only-child th {\n",
       "        text-align: right;\n",
       "    }\n",
       "\n",
       "    .dataframe thead th {\n",
       "        text-align: left;\n",
       "    }\n",
       "\n",
       "    .dataframe tbody tr th {\n",
       "        vertical-align: top;\n",
       "    }\n",
       "</style>\n",
       "<table border=\"1\" class=\"dataframe\">\n",
       "  <thead>\n",
       "    <tr style=\"text-align: right;\">\n",
       "      <th></th>\n",
       "      <th>Eastern Conference</th>\n",
       "      <th>Wins</th>\n",
       "      <th>Losses</th>\n",
       "      <th>Win-Loss Percentage</th>\n",
       "      <th>Games Behind</th>\n",
       "      <th>Points Per Game</th>\n",
       "      <th>Opponent Points Per Game</th>\n",
       "      <th>Simple Rating System</th>\n",
       "    </tr>\n",
       "  </thead>\n",
       "  <tbody>\n",
       "    <tr>\n",
       "      <th>0</th>\n",
       "      <td>Boston Celtics* (1)</td>\n",
       "      <td>53.0</td>\n",
       "      <td>29.0</td>\n",
       "      <td>0.646</td>\n",
       "      <td>—</td>\n",
       "      <td>108.0</td>\n",
       "      <td>105.4</td>\n",
       "      <td>2.25</td>\n",
       "    </tr>\n",
       "    <tr>\n",
       "      <th>1</th>\n",
       "      <td>Cleveland Cavaliers* (2)</td>\n",
       "      <td>51.0</td>\n",
       "      <td>31.0</td>\n",
       "      <td>0.622</td>\n",
       "      <td>2</td>\n",
       "      <td>110.3</td>\n",
       "      <td>107.2</td>\n",
       "      <td>2.87</td>\n",
       "    </tr>\n",
       "    <tr>\n",
       "      <th>2</th>\n",
       "      <td>Toronto Raptors* (3)</td>\n",
       "      <td>51.0</td>\n",
       "      <td>31.0</td>\n",
       "      <td>0.622</td>\n",
       "      <td>2</td>\n",
       "      <td>106.9</td>\n",
       "      <td>102.6</td>\n",
       "      <td>3.65</td>\n",
       "    </tr>\n",
       "    <tr>\n",
       "      <th>3</th>\n",
       "      <td>Washington Wizards* (4)</td>\n",
       "      <td>49.0</td>\n",
       "      <td>33.0</td>\n",
       "      <td>0.598</td>\n",
       "      <td>4</td>\n",
       "      <td>109.2</td>\n",
       "      <td>107.4</td>\n",
       "      <td>1.36</td>\n",
       "    </tr>\n",
       "    <tr>\n",
       "      <th>4</th>\n",
       "      <td>Atlanta Hawks* (5)</td>\n",
       "      <td>43.0</td>\n",
       "      <td>39.0</td>\n",
       "      <td>0.524</td>\n",
       "      <td>10</td>\n",
       "      <td>103.2</td>\n",
       "      <td>104.0</td>\n",
       "      <td>-1.23</td>\n",
       "    </tr>\n",
       "    <tr>\n",
       "      <th>5</th>\n",
       "      <td>Milwaukee Bucks* (6)</td>\n",
       "      <td>42.0</td>\n",
       "      <td>40.0</td>\n",
       "      <td>0.512</td>\n",
       "      <td>11</td>\n",
       "      <td>103.6</td>\n",
       "      <td>103.8</td>\n",
       "      <td>-0.45</td>\n",
       "    </tr>\n",
       "    <tr>\n",
       "      <th>6</th>\n",
       "      <td>Indiana Pacers* (7)</td>\n",
       "      <td>42.0</td>\n",
       "      <td>40.0</td>\n",
       "      <td>0.512</td>\n",
       "      <td>11</td>\n",
       "      <td>105.1</td>\n",
       "      <td>105.3</td>\n",
       "      <td>-0.64</td>\n",
       "    </tr>\n",
       "    <tr>\n",
       "      <th>7</th>\n",
       "      <td>Chicago Bulls* (8)</td>\n",
       "      <td>41.0</td>\n",
       "      <td>41.0</td>\n",
       "      <td>0.500</td>\n",
       "      <td>12</td>\n",
       "      <td>102.9</td>\n",
       "      <td>102.4</td>\n",
       "      <td>0.03</td>\n",
       "    </tr>\n",
       "    <tr>\n",
       "      <th>8</th>\n",
       "      <td>Miami Heat (9)</td>\n",
       "      <td>41.0</td>\n",
       "      <td>41.0</td>\n",
       "      <td>0.500</td>\n",
       "      <td>12</td>\n",
       "      <td>103.2</td>\n",
       "      <td>102.1</td>\n",
       "      <td>0.77</td>\n",
       "    </tr>\n",
       "    <tr>\n",
       "      <th>9</th>\n",
       "      <td>Detroit Pistons (10)</td>\n",
       "      <td>37.0</td>\n",
       "      <td>45.0</td>\n",
       "      <td>0.451</td>\n",
       "      <td>16</td>\n",
       "      <td>101.3</td>\n",
       "      <td>102.5</td>\n",
       "      <td>-1.29</td>\n",
       "    </tr>\n",
       "    <tr>\n",
       "      <th>10</th>\n",
       "      <td>Charlotte Hornets (11)</td>\n",
       "      <td>36.0</td>\n",
       "      <td>46.0</td>\n",
       "      <td>0.439</td>\n",
       "      <td>17</td>\n",
       "      <td>104.9</td>\n",
       "      <td>104.7</td>\n",
       "      <td>-0.07</td>\n",
       "    </tr>\n",
       "    <tr>\n",
       "      <th>11</th>\n",
       "      <td>New York Knicks (12)</td>\n",
       "      <td>31.0</td>\n",
       "      <td>51.0</td>\n",
       "      <td>0.378</td>\n",
       "      <td>22</td>\n",
       "      <td>104.3</td>\n",
       "      <td>108.0</td>\n",
       "      <td>-3.87</td>\n",
       "    </tr>\n",
       "    <tr>\n",
       "      <th>12</th>\n",
       "      <td>Orlando Magic (13)</td>\n",
       "      <td>29.0</td>\n",
       "      <td>53.0</td>\n",
       "      <td>0.354</td>\n",
       "      <td>24</td>\n",
       "      <td>101.1</td>\n",
       "      <td>107.6</td>\n",
       "      <td>-6.61</td>\n",
       "    </tr>\n",
       "    <tr>\n",
       "      <th>13</th>\n",
       "      <td>Philadelphia 76ers (14)</td>\n",
       "      <td>28.0</td>\n",
       "      <td>54.0</td>\n",
       "      <td>0.341</td>\n",
       "      <td>25</td>\n",
       "      <td>102.4</td>\n",
       "      <td>108.1</td>\n",
       "      <td>-5.83</td>\n",
       "    </tr>\n",
       "    <tr>\n",
       "      <th>14</th>\n",
       "      <td>Brooklyn Nets (15)</td>\n",
       "      <td>20.0</td>\n",
       "      <td>62.0</td>\n",
       "      <td>0.244</td>\n",
       "      <td>33</td>\n",
       "      <td>105.8</td>\n",
       "      <td>112.5</td>\n",
       "      <td>-6.74</td>\n",
       "    </tr>\n",
       "  </tbody>\n",
       "</table>\n",
       "</div>"
      ],
      "text/plain": [
       "           Eastern Conference  Wins  Losses  Win-Loss Percentage Games Behind  \\\n",
       "0        Boston Celtics* (1)   53.0    29.0                0.646            —   \n",
       "1   Cleveland Cavaliers* (2)   51.0    31.0                0.622            2   \n",
       "2       Toronto Raptors* (3)   51.0    31.0                0.622            2   \n",
       "3    Washington Wizards* (4)   49.0    33.0                0.598            4   \n",
       "4         Atlanta Hawks* (5)   43.0    39.0                0.524           10   \n",
       "5       Milwaukee Bucks* (6)   42.0    40.0                0.512           11   \n",
       "6        Indiana Pacers* (7)   42.0    40.0                0.512           11   \n",
       "7         Chicago Bulls* (8)   41.0    41.0                0.500           12   \n",
       "8             Miami Heat (9)   41.0    41.0                0.500           12   \n",
       "9       Detroit Pistons (10)   37.0    45.0                0.451           16   \n",
       "10    Charlotte Hornets (11)   36.0    46.0                0.439           17   \n",
       "11      New York Knicks (12)   31.0    51.0                0.378           22   \n",
       "12        Orlando Magic (13)   29.0    53.0                0.354           24   \n",
       "13   Philadelphia 76ers (14)   28.0    54.0                0.341           25   \n",
       "14        Brooklyn Nets (15)   20.0    62.0                0.244           33   \n",
       "\n",
       "    Points Per Game  Opponent Points Per Game  Simple Rating System  \n",
       "0             108.0                     105.4                  2.25  \n",
       "1             110.3                     107.2                  2.87  \n",
       "2             106.9                     102.6                  3.65  \n",
       "3             109.2                     107.4                  1.36  \n",
       "4             103.2                     104.0                 -1.23  \n",
       "5             103.6                     103.8                 -0.45  \n",
       "6             105.1                     105.3                 -0.64  \n",
       "7             102.9                     102.4                  0.03  \n",
       "8             103.2                     102.1                  0.77  \n",
       "9             101.3                     102.5                 -1.29  \n",
       "10            104.9                     104.7                 -0.07  \n",
       "11            104.3                     108.0                 -3.87  \n",
       "12            101.1                     107.6                 -6.61  \n",
       "13            102.4                     108.1                 -5.83  \n",
       "14            105.8                     112.5                 -6.74  "
      ]
     },
     "execution_count": 148,
     "metadata": {},
     "output_type": "execute_result"
    }
   ],
   "source": [
    "df # look at the dataframe"
   ]
  },
  {
   "cell_type": "code",
   "execution_count": 150,
   "metadata": {
    "collapsed": true
   },
   "outputs": [],
   "source": [
    "import pandas as pd\n",
    "dfs = []\n",
    "for table in tables: # pick only the first table\n",
    "    header = table.findAll('thead')[0]\n",
    "    data = table.findAll('tbody')[0]\n",
    "    head = [] # define container for the header\n",
    "    for column in header.findAll('th'): # collect data from header.\n",
    "        head.append(column.text) # append to header container\n",
    "    rows = [] # define container for the rows\n",
    "    for row in data.findAll('tr'):\n",
    "        temp_row = [] # define tempoary row container\n",
    "        for cell in row.children: # think of children as indentation in python.\n",
    "            val = cell.get_text()\n",
    "            try:    \n",
    "                val = float(val)\n",
    "            except:\n",
    "                pass\n",
    "            temp_row.append(val) # append to tempoary row\n",
    "        rows.append(temp_row) # append tempoary row to row container\n",
    "        \n",
    "\n",
    "    df = pd.DataFrame(columns=head,data=rows) # define the dataframe\n",
    "    dfs.append(df)"
   ]
  },
  {
   "cell_type": "code",
   "execution_count": 152,
   "metadata": {
    "collapsed": true
   },
   "outputs": [],
   "source": [
    "#dfs[-1]"
   ]
  },
  {
   "cell_type": "markdown",
   "metadata": {
    "slideshow": {
     "slide_type": "slide"
    }
   },
   "source": [
    "# Screen-scraping and automated interactions\n",
    "* Login in\n",
    "* Scrolling\n",
    "* Pressing buttons\n",
    "\n",
    "Sometimes easier than detective work in the javascript, but has RELIABILITY ISSUES."
   ]
  },
  {
   "cell_type": "markdown",
   "metadata": {
    "slideshow": {
     "slide_type": "subslide"
    }
   },
   "source": [
    "## Installing (and updating everytime something stops working) selenium\n",
    "Selenium is an programmatic interface (api) to your browser. \n",
    "\n",
    "You need to have firefox installed and a version of the Marionette ([Download latest!! version here](https://github.com/mozilla/geckodriver/releases))\n",
    "Then install selenium:\n",
    "\n",
    "`pip install selenium`\n",
    "\n",
    "or \n",
    "\n",
    "`conda install -c conda-forge selenium`\n",
    "\n",
    "If used on a server with no connection to a desktop screen: also install PyDisplay."
   ]
  },
  {
   "cell_type": "code",
   "execution_count": 153,
   "metadata": {
    "collapsed": true,
    "slideshow": {
     "slide_type": "subslide"
    }
   },
   "outputs": [],
   "source": [
    "from selenium import webdriver\n",
    "path2gecko = '/Users/axelengbergpallesen/Downloads/geckodriver' # define path to your geckodriver\n",
    "browser = webdriver.Firefox(executable_path=path2gecko)\n"
   ]
  },
  {
   "cell_type": "markdown",
   "metadata": {
    "slideshow": {
     "slide_type": "subslide"
    }
   },
   "source": [
    "## Login"
   ]
  },
  {
   "cell_type": "code",
   "execution_count": 169,
   "metadata": {
    "collapsed": true,
    "slideshow": {
     "slide_type": "subslide"
    }
   },
   "outputs": [],
   "source": [
    "#url = 'https://www.facebook.com'\n",
    "#browser.get(url) # go to the page\n",
    "#sel = '#email'# find css selector for the name field\n",
    "#element = browser.find_element_by_css_selector(sel)# locate element\n",
    "#name = 'robot_trespassing@ofir.dk'# define name\n",
    "#element.send_keys(name)# send keys\n",
    "\n",
    "# find password field\n",
    "#sel = '#pass'\n",
    "#element = browser.find_element_by_css_selector(sel)\n",
    "# locate element\n",
    "#password = 'thereyougo'\n",
    "# define password\n",
    "#element.send_keys(password)\n",
    "# send keys\n",
    "\n",
    "sel = '#loginbutton'\n",
    "# Find button. \n",
    "element = browser.find_element_by_css_selector(sel)\n",
    "element.click()\n",
    "\n",
    "# locate element\n",
    "# click button"
   ]
  },
  {
   "cell_type": "markdown",
   "metadata": {
    "slideshow": {
     "slide_type": "subslide"
    }
   },
   "source": [
    "## scrolling\n",
    "some pages load more results when you reach the bottom of the page, here is a simple script that does this for you."
   ]
  },
  {
   "cell_type": "code",
   "execution_count": null,
   "metadata": {
    "collapsed": true,
    "slideshow": {
     "slide_type": "subslide"
    }
   },
   "outputs": [],
   "source": [
    "browser.execute_script(\"window.scrollTo(0, document.body.scrollHeight);\") # executing a simple javascript."
   ]
  },
  {
   "cell_type": "markdown",
   "metadata": {
    "slideshow": {
     "slide_type": "slide"
    }
   },
   "source": [
    "# Advanced scraping methods\n",
    "... ethics\n",
    "... hacking"
   ]
  },
  {
   "cell_type": "markdown",
   "metadata": {
    "slideshow": {
     "slide_type": "fragment"
    }
   },
   "source": [
    "* detective work in the javascript.\n",
    "* changing headers to access mobile content that might be more simple.\n",
    "    * use https://www.whatsmybrowser.org from your phone to find the right headers you need.\n",
    "* using proxies, ssh tunneling.\n",
    "* Simulating human-like behaviour to avoid getting caught by anomaly detection methods."
   ]
  },
  {
   "cell_type": "code",
   "execution_count": null,
   "metadata": {
    "collapsed": true,
    "slideshow": {
     "slide_type": "subslide"
    }
   },
   "outputs": [],
   "source": [
    "session = requests.session()\n",
    "mobile_agent = 'Mozilla/5.0 (iPhone; CPU iPhone OS 7_1_2 like Mac OS X) AppleWebKit/537.51.2 (KHTML, like Gecko) Version/7.0 Mobile/11D257 Safari/9537.53'\n",
    "session.headers['User-Agent'] = mobile_agent\n",
    "session.proxies"
   ]
  },
  {
   "cell_type": "markdown",
   "metadata": {
    "slideshow": {
     "slide_type": "slide"
    }
   },
   "source": [
    "# APIs\n"
   ]
  },
  {
   "cell_type": "markdown",
   "metadata": {
    "slideshow": {
     "slide_type": "fragment"
    }
   },
   "source": [
    "* No parsing. Nice\n",
    "* Fast and efficient.\n",
    "* You can't get all that you can see.\n",
    "* They change.\n",
    "* Ratelimits\n"
   ]
  },
  {
   "cell_type": "markdown",
   "metadata": {
    "slideshow": {
     "slide_type": "subslide"
    }
   },
   "source": [
    "## Through the API domains control what they want to share. \n",
    "## APIs can be for collecting data or it can be for accessing some service: e.g. tracking users of a website by directing traffic to google analytics, or getting geolocation data from the [Google Geoencoding API](http://maps.googleapis.com/maps/api/geocode/json?language=da&address=1600 Pennsylvania Ave NW, Washington, DC 20500, USA). "
   ]
  },
  {
   "cell_type": "markdown",
   "metadata": {
    "slideshow": {
     "slide_type": "subslide"
    }
   },
   "source": [
    "## Collecting data from APIs\n",
    "Choosing an API: twitter, facebook, reddit, wikipedia, denmarks statistics, etc \n",
    "\n",
    "Get to know the commands, rate limits, and errorcodes by experimenting or simply reading the documentation.\n",
    "\n",
    "Today we will look at the Facebook API [https://developers.facebook.com/docs](https://developers.facebook.com/docs) "
   ]
  },
  {
   "cell_type": "markdown",
   "metadata": {
    "slideshow": {
     "slide_type": "subslide"
    }
   },
   "source": [
    "instead of looking at the documentation we can go right to experimentations by using their graph explorer app [https://developers.facebook.com/tools/explorer/](https://developers.facebook.com/tools/explorer/). \n"
   ]
  },
  {
   "cell_type": "markdown",
   "metadata": {
    "slideshow": {
     "slide_type": "subslide"
    }
   },
   "source": [
    "### Authentication\n",
    "Basic authentication: Telling who you are, and a unique address so that can track you.\n",
    "\n",
    "Specific permissions: Some queries is only allowed with special permissions.\n",
    "    * Application specific permissions, gathering user permission. "
   ]
  },
  {
   "cell_type": "markdown",
   "metadata": {
    "slideshow": {
     "slide_type": "slide"
    }
   },
   "source": [
    "### Building a query"
   ]
  },
  {
   "cell_type": "code",
   "execution_count": 174,
   "metadata": {
    "slideshow": {
     "slide_type": "fragment"
    }
   },
   "outputs": [
    {
     "name": "stdout",
     "output_type": "stream",
     "text": [
      "https://www.facebook.com/100002941361500\n"
     ]
    }
   ],
   "source": [
    "# get an ID. \n",
    "print(SoMe['Facebook'])\n",
    "page_id = 'frank.jensen'#SoMe['Facebook'].split('/')[-1] # use the facebooklink collected earlier"
   ]
  },
  {
   "cell_type": "code",
   "execution_count": 175,
   "metadata": {
    "slideshow": {
     "slide_type": "fragment"
    }
   },
   "outputs": [
    {
     "name": "stdout",
     "output_type": "stream",
     "text": [
      "https://graph.facebook.com/v2.10/frank.jensen?fields=feed.limit(10){message,id,to,from,comments,likes}&access_token=EAACEdEose0cBAGlmaRDaP8t7JFXce3gLphDSiFSioWyvUPFpSMbhKQy3sT0JPEcsn2uFd7PQa1PLpXPBkYG80MFGnuOixLkbV0VJbE2fZCwaOLEY2uJXHmGNYz37zJhU2z4lBKumhT90J5ZATLHHZB19W2NiFwYkBKZAsVFGxPqXMYRvwjeOc6yb6kbZBIsMZD\n"
     ]
    }
   ],
   "source": [
    "# Authentication! set your access_token\n",
    "base_url = 'https://graph.facebook.com/v2.10/%s'%page_id# define baseurl \n",
    "\n",
    "fields = '?fields=feed.limit(10){message,id,to,from,comments,likes}'# define fields\n",
    "token = 'EAACEdEose0cBAGlmaRDaP8t7JFXce3gLphDSiFSioWyvUPFpSMbhKQy3sT0JPEcsn2uFd7PQa1PLpXPBkYG80MFGnuOixLkbV0VJbE2fZCwaOLEY2uJXHmGNYz37zJhU2z4lBKumhT90J5ZATLHHZB19W2NiFwYkBKZAsVFGxPqXMYRvwjeOc6yb6kbZBIsMZD'\n",
    "authentication = '&access_token=%s'%(token)\n",
    "q = base_url+fields+authentication\n",
    "print(q)\n",
    "response = request(q)"
   ]
  },
  {
   "cell_type": "code",
   "execution_count": 179,
   "metadata": {},
   "outputs": [
    {
     "data": {
      "text/plain": [
       "'I København skal det være slut med forældre, der afleverer deres børn i institutionen med ondt i maven eller henter dem med hamrende hjerte ti minutter efter lukketid.\\n\\nJeg går til valg med en ny plan, der skal lette hverdagen for travle småbørnsforældre i Københavns Kommune.\\n\\n1. Bedre bemanding af pædagoger i alle daginstitutioner i morgen og eftermiddagstimerne. \\n\\n2. Kommune skal have ti daginstitutioner – en i hver bydel – der åbner allerede klokken 6:30 og lukker tidligst klokken 18:30 for at tilgodese forældre i brancher med skæve arbejdstider.'"
      ]
     },
     "execution_count": 179,
     "metadata": {},
     "output_type": "execute_result"
    }
   ],
   "source": [
    "data = response.json()\n",
    "data['feed']['data'][0]['message']"
   ]
  },
  {
   "cell_type": "code",
   "execution_count": 180,
   "metadata": {
    "slideshow": {
     "slide_type": "subslide"
    }
   },
   "outputs": [
    {
     "name": "stdout",
     "output_type": "stream",
     "text": [
      "-\n",
      "no more paging\n"
     ]
    }
   ],
   "source": [
    "import json\n",
    "\n",
    "d = response.json()\n",
    "next_link = d['feed']['paging']['next']\n",
    "\n",
    "def grab_next(response):\n",
    "    try:\n",
    "        link = response['feed']['paging']['next']\n",
    "        return link\n",
    "    except:\n",
    "        return False\n",
    "responses = []\n",
    "while True:\n",
    "    print('-')\n",
    "    response = request(next_link).json() \n",
    "    responses.append(response)\n",
    "    next_link = grab_next(response)\n",
    "    if not next_link:\n",
    "        print('no more paging')\n",
    "        break\n",
    "    "
   ]
  },
  {
   "cell_type": "code",
   "execution_count": 168,
   "metadata": {
    "collapsed": true,
    "slideshow": {
     "slide_type": "subslide"
    }
   },
   "outputs": [],
   "source": [
    "## parsing json generic\n",
    "\n",
    "## parsing json with the requests module"
   ]
  },
  {
   "cell_type": "markdown",
   "metadata": {
    "slideshow": {
     "slide_type": "slide"
    }
   },
   "source": [
    "### Rate limiting\n",
    "APIs have rate limits, to ensure reliability you should make sure not break these.\n",
    "\n",
    "Rate limits not always explicitly stated, need to test before launching program or create adaptable program."
   ]
  },
  {
   "cell_type": "code",
   "execution_count": null,
   "metadata": {
    "collapsed": true,
    "slideshow": {
     "slide_type": "subslide"
    }
   },
   "outputs": [],
   "source": [
    "# waiting using the time module\n",
    "\n",
    "# Intelligent rate limiting. \n",
    "import time\n",
    "logsize = 360\n",
    "timestamps = [time.time()]*logsize\n",
    "requestrate = 1 # number of calls pr second. If the ratelimiting error are thrown update it.\n",
    "ratelimiterrors = 0 #  \n",
    "def ratelimit():\n",
    "    global timestamps\n",
    "    global requestrate\n",
    "    global ratelimiterrors\n",
    "    servertime = time.time()\n",
    "    timestamps.append(servertime)\n",
    "    average_request_rate = (servertime-timestamps[0])/logsize\n",
    "    if ratelimiterrors>0: # adopt new rate\n",
    "        time.sleep(1800)\n",
    "        requestrate+=0.01\n",
    "        print 'updating requestrate to %r'%requestrate\n",
    "        rateli miterrors = 0\n",
    "    if average_request_rate < requestrate: # check if requestrate is to high\n",
    "        time.sleep(1)\n",
    "    timestamps.pop(0) # remove first timestamp\n",
    "\n"
   ]
  },
  {
   "cell_type": "markdown",
   "metadata": {
    "slideshow": {
     "slide_type": "slide"
    }
   },
   "source": [
    "If you want reliable access you need to create an app. This will allow you to obtain access tokens that last for a month.\n",
    "Go to developers.facebook.com and create an app.\n",
    "\n",
    "Converting the access token is done using the following code snippet:\n",
    "\n",
    "```url = 'https://graph.facebook.com/oauth/access_token?client_id=%s&client_secret=%s&grant_type=fb_exchange_token&fb_exchange_token=%s'%(app_id,app_secret,access_token)```\n",
    "\n",
    "Make sure the access token is specific to you app. "
   ]
  },
  {
   "cell_type": "markdown",
   "metadata": {
    "slideshow": {
     "slide_type": "slide"
    }
   },
   "source": [
    "## Exercise 4\n",
    "Collecting facebook data from the candidates.\n",
    "\n",
    "First extract ids from the facebook links of each candidate\n",
    "* beware of all the variations in the url.\n",
    "* plus that some have names and not ids. If this is the case convert using the query = frank.jensen?fields=id,name\n",
    "* some are pages and other are profiles, you can only get data from the pages.\n",
    "    "
   ]
  },
  {
   "cell_type": "code",
   "execution_count": null,
   "metadata": {
    "collapsed": true
   },
   "outputs": [],
   "source": []
  },
  {
   "cell_type": "markdown",
   "metadata": {
    "slideshow": {
     "slide_type": "subslide"
    }
   },
   "source": [
    "# Reliability!\n",
    "When using found data, you are the curator and you are responsible for enscribing trust in the datacompilation.\n",
    "\n",
    "Reliability is ensured by an interative process, of inspection, error detection and error handling.\n",
    "\n",
    "Build your scrape around making this process easy by:\n",
    "* logging information about the collection (e.g. servertime, size of response to plot weird behavior, size of response over time,  number of calls pr day, detection of holes in your data).\n",
    "* Storing raw data (before parsing it) to be able to backtrack problems, without having to wait for the error to come up.  "
   ]
  },
  {
   "cell_type": "markdown",
   "metadata": {
    "slideshow": {
     "slide_type": "slide"
    }
   },
   "source": [
    "Thanks!\n",
    "\n",
    "Questions? \n",
    "\n",
    "Exercises below..."
   ]
  },
  {
   "cell_type": "markdown",
   "metadata": {
    "collapsed": true
   },
   "source": [
    "Scraping allows you to collect data from a variety of different sources to build a new rich dataset. The following exercises are meant as an example of this. One thing we didn't cover explicitly is merging data from different sources this means matching names and so on, this you will need to figure out using standard python (hint: Dictionaries can serve as translaters) and unfortunatly some hardcoding.\n",
    "\n",
    "You are not expected to complete all exercises, but you might be able to do it if you share the tasks in the group. *But make sure you get some data from the first page!*. \n",
    "\n",
    "We want you to collect data about the danish politicians from this page: http://www.folketingsvalg-2015.dk/\n",
    "* Make sure you get as much meta data as possibly, but most importantly get the facebook name (note that it is either a page or a profile)\n",
    "     * If you want twitter ids and more stats check out this page: https://www.danskepolitikere.dk\n",
    "Use the facebook names to collect the 100 latest facebook posts or feed (what is the difference) from the API.\n",
    "* Make sure you get summary statistics of likes, comments and shares.\n",
    "\n",
    "Aggregate some statistics (average number of likes, posts a day, number of posts from others) for each politician and merge it with the other dataset.\n",
    "\n",
    "Scrape data about the parlament members from ft.dk (they are not getting off hook, **but remember to hit them slow!**)\n",
    "* Example looks like this: http://www.ft.dk/da/medlemmer/folketingetsmedlemmer/mette-frederiksen-(s) <-- get the last paranthesis that jupyter notebook does not parse correctly.\n",
    "    * Hint: Links to the members are easily obtained through this page: http://www.ft.dk/da/partier\n",
    "    * Parse Jobs and Highest education from the cv section and whatever you find interesting.\n",
    "* Merge this data with the other two sources.\n",
    "\n",
    "\n",
    "\n",
    "        "
   ]
  },
  {
   "cell_type": "markdown",
   "metadata": {
    "slideshow": {
     "slide_type": "slide"
    }
   },
   "source": [
    "# SOLUTIONS\n",
    "**Collecting Facebook names from folketingsvalg-2015**"
   ]
  },
  {
   "cell_type": "code",
   "execution_count": 1,
   "metadata": {
    "slideshow": {
     "slide_type": "subslide"
    }
   },
   "outputs": [
    {
     "name": "stdout",
     "output_type": "stream",
     "text": [
      "([u'http://www.folketingsvalg-2015.dk/parti/alternativet', u'http://www.folketingsvalg-2015.dk/parti/alternativet', u'http://www.folketingsvalg-2015.dk/parti/venstre', u'http://www.folketingsvalg-2015.dk/parti/venstre', u'http://www.folketingsvalg-2015.dk/parti/socialdemokraterne', u'http://www.folketingsvalg-2015.dk/parti/socialdemokraterne', u'http://www.folketingsvalg-2015.dk/parti/dansk-folkeparti', u'http://www.folketingsvalg-2015.dk/parti/dansk-folkeparti', u'http://www.folketingsvalg-2015.dk/parti/radikale-venstre', u'http://www.folketingsvalg-2015.dk/parti/radikale-venstre', u'http://www.folketingsvalg-2015.dk/parti/socialistisk-folkeparti', u'http://www.folketingsvalg-2015.dk/parti/socialistisk-folkeparti', u'http://www.folketingsvalg-2015.dk/parti/enhedslisten', u'http://www.folketingsvalg-2015.dk/parti/enhedslisten', u'http://www.folketingsvalg-2015.dk/parti/liberal-alliance', u'http://www.folketingsvalg-2015.dk/parti/liberal-alliance', u'http://www.folketingsvalg-2015.dk/parti/det-konservative-folkeparti', u'http://www.folketingsvalg-2015.dk/parti/det-konservative-folkeparti', u'http://www.folketingsvalg-2015.dk/parti/kristendemokraterne', u'http://www.folketingsvalg-2015.dk/parti/kristendemokraterne', u'http://www.folketingsvalg-2015.dk/parti/uden-for-folketingsgrupperne', u'http://www.folketingsvalg-2015.dk/parti/uden-for-folketingsgrupperne'], 11)\n",
      "(['http://www.folketingsvalg-2015.dk/parti/alternativet', 'http://www.folketingsvalg-2015.dk/parti/venstre', 'http://www.folketingsvalg-2015.dk/parti/socialdemokraterne', 'http://www.folketingsvalg-2015.dk/parti/dansk-folkeparti', 'http://www.folketingsvalg-2015.dk/parti/radikale-venstre', 'http://www.folketingsvalg-2015.dk/parti/socialistisk-folkeparti', 'http://www.folketingsvalg-2015.dk/parti/enhedslisten', 'http://www.folketingsvalg-2015.dk/parti/liberal-alliance', 'http://www.folketingsvalg-2015.dk/parti/det-konservative-folkeparti', 'http://www.folketingsvalg-2015.dk/parti/kristendemokraterne', 'http://www.folketingsvalg-2015.dk/parti/uden-for-folketingsgrupperne'], 11)\n"
     ]
    },
    {
     "name": "stderr",
     "output_type": "stream",
     "text": [
      "/Users/axelengbergpallesen/Library/Enthought/Canopy_64bit/User/lib/python2.7/site-packages/bs4/__init__.py:181: UserWarning: No parser was explicitly specified, so I'm using the best available HTML parser for this system (\"lxml\"). This usually isn't a problem, but if you run this code on another system, or in a different virtual environment, it may use a different parser and behave differently.\n",
      "\n",
      "The code that caused this warning is on line 162 of the file /Applications/Canopy.app/appdata/canopy-1.4.0.1938.macosx-x86_64/Canopy.app/Contents/lib/python2.7/runpy.py. To get rid of this warning, change code that looks like this:\n",
      "\n",
      " BeautifulSoup(YOUR_MARKUP})\n",
      "\n",
      "to this:\n",
      "\n",
      " BeautifulSoup(YOUR_MARKUP, \"lxml\")\n",
      "\n",
      "  markup_type=markup_type))\n"
     ]
    }
   ],
   "source": [
    "#### LOAD DEPENDENCIES ####\n",
    "import requests,time\n",
    "from bs4 import BeautifulSoup\n",
    "import re\n",
    "####################\n",
    "## Grabbing links ## \n",
    "####################\n",
    "\n",
    "## First grab the parti links ##\n",
    "url = 'http://www.folketingsvalg-2015.dk'\n",
    "response = requests.get(url)\n",
    "## I will do this using regex\n",
    "pattern = 'href=\"(/parti/[a-z\\-]+)\"'\n",
    "links = [url+i for i in re.findall(pattern,response.text)]\n",
    "print(links,len(set(links)))\n",
    "## Grabing links to the parties using BeautifulSoup##\n",
    "soup = BeautifulSoup(response.text)\n",
    "obj = soup.findAll('h3',text='Partier')[0] # first position in the list happened to be partier\n",
    "links = [] \n",
    "\n",
    "for node in obj.find_next_siblings('p'):\n",
    "    link = url+node.a['href'] # href only contains the relative url so we add it to the baseurl\n",
    "    links.append(link)\n",
    "print(links,len(set(links)))"
   ]
  },
  {
   "cell_type": "code",
   "execution_count": 2,
   "metadata": {
    "collapsed": true,
    "slideshow": {
     "slide_type": "subslide"
    }
   },
   "outputs": [],
   "source": [
    "links = set(links) # there are duplicate links so we will change it to a set."
   ]
  },
  {
   "cell_type": "code",
   "execution_count": 3,
   "metadata": {
    "collapsed": true,
    "slideshow": {
     "slide_type": "subslide"
    }
   },
   "outputs": [],
   "source": [
    "## Grabbing the links to the Politicians using BeautifulSoup## \n",
    "party2links = {}\n",
    "for party_link in links:\n",
    "    party_links = []\n",
    "    party = party_link.split('/')[-1] # lets keep the meta data so we don't have to scrape it later.\n",
    "    time.sleep(0.5)\n",
    "    response = requests.get(party_link)\n",
    "    # parse with beautifulsoup\n",
    "    soup = BeautifulSoup(response.text)\n",
    "    politicians = soup.findAll('p')[0:-2] # all p nodes contain the politicians except the last two which contains link to open knowledge\n",
    "    for pol in politicians:\n",
    "        party_links.append(url+pol.a['href'])\n",
    "    party2links[party] = party_links \n",
    "    ## I am keeping it in a dictionary instead of one long list,\n",
    "    ## to be able to track their origin(this might be important meta data)    \n",
    "        "
   ]
  },
  {
   "cell_type": "code",
   "execution_count": 85,
   "metadata": {
    "collapsed": true
   },
   "outputs": [],
   "source": [
    "link = 'http://www.folketingsvalg-2015.dk/bjarne-fog-corydon'\n",
    "response = requests.get(link)\n",
    "soup = BeautifulSoup(response.text,'lxml')"
   ]
  },
  {
   "cell_type": "code",
   "execution_count": 119,
   "metadata": {
    "collapsed": true
   },
   "outputs": [],
   "source": [
    "import bs4\n",
    "def get_attribute_split(child,separator=':'):\n",
    "    string = child.get_text()\n",
    "    key,value = string.split(separator) # unzip the two element list into.\n",
    "    return key.strip(),value.strip() # strip whitespace from start and end of the string\n",
    "def get_metadata(response):\n",
    "    \n",
    "    soup = BeautifulSoup(response.text)\n",
    "    temp_metadata = {}\n",
    "    name = soup.find('h1').get_text()\n",
    "    party = soup.find('h2').get_text()\n",
    "    temp_metadata['name'] = name.strip()\n",
    "    temp_metadata['party'] = party.strip()\n",
    "    section = soup.find('section',{'class':'center'})\n",
    "    \n",
    "    children = list(section.findAll('p'))\n",
    "    \n",
    "    # parsing using the split command, splitting by ':'\n",
    "    # parsing using the split command, splitting by 'i'\n",
    "    key,value = get_attribute_split(child,separator='i')\n",
    "    temp_metadata[key] = value\n",
    "    # parsing the two social media account using href call on the a tag\n",
    "    for atag in children[7].findAll('a'):\n",
    "        key,value = atag.get_text(),atag['href']\n",
    "        temp_metadata[key] = value\n",
    "    return temp_metadata\n",
    "temp_metadata = {}\n",
    "section = soup.find('section',{'class':'center'})\n",
    "children = list(section.findAll('p'))\n",
    "for num,child in enumerate(children):\n",
    "    # try the two split methods first\n",
    "    # this is the child separated by ':'\n",
    "    try:\n",
    "        key,value = get_attribute_split(child)\n",
    "        value = value.strip()\n",
    "      #  print(key,value,child)\n",
    "        temp_metadata[key] = value\n",
    "        continue\n",
    "    except:\n",
    "        pass\n",
    "    # find atags\n",
    "    try:\n",
    "        atags = child.findAll('a')\n",
    "    except:\n",
    "        atags = []\n",
    "    if len(atags)>0:\n",
    "        # this is the child that contains links\n",
    "        for subchild in child.children:\n",
    "            try:\n",
    "                key,val = subchild.text,subchild['href']\n",
    "               # print(key,val,child)\n",
    "                if ' hos ' in key:\n",
    "                    key = key.split('hos ')[1]\n",
    "                if 'Wikipedia' in key:\n",
    "                    key = 'Wikipedia'\n",
    "                temp_metadata[key] = val\n",
    "                continue\n",
    "            except:\n",
    "                pass\n",
    "    # this is the child separated by ' i ' \n",
    "    try:\n",
    "        key,value = get_attribute_split(child,separator=' i ')\n",
    "      #  print(child,num,key,value)\n",
    "        temp_metadata[key] = value.strip()\n",
    "        continue\n",
    "    except:\n",
    "        pass\n",
    "            \n",
    "#    atags = child.findAll('a')\n",
    " #   if len(atags)>0:\n",
    "  #      break"
   ]
  },
  {
   "cell_type": "code",
   "execution_count": 115,
   "metadata": {},
   "outputs": [
    {
     "data": {
      "text/plain": [
       "[<a href=\"https://www.twitter.com/-\">Twitter</a>,\n",
       " <a href=\"https://www.facebook.com/corydonbjarne\">Facebook</a>]"
      ]
     },
     "execution_count": 115,
     "metadata": {},
     "output_type": "execute_result"
    }
   ],
   "source": [
    "#section = soup.find('section',{'class':'center'})\n",
    "#children = list(section.findAll('p'))\n",
    "#for child in children:\n",
    "#    print(child)\n",
    "children[-3].findAll('a')"
   ]
  },
  {
   "cell_type": "code",
   "execution_count": 122,
   "metadata": {
    "slideshow": {
     "slide_type": "subslide"
    }
   },
   "outputs": [
    {
     "name": "stdout",
     "output_type": "stream",
     "text": [
      "- - - - - - - - - - - - - - - - - - - - - - - - - - - - - - - - - - - - - - - - - - - - - - - - - - - - - - - - - - - - - - - - - - - - - - - - - - - - - - - - - - - - - - - - - - - - - - - - - - - - - - - - - - - - - - - - - - - - - - - - - - - - - - - - - - - - - - - - - - - - - - - - - - - - - - - - - - - - - - - - - - - - - - - - - - - - - - - - - - - - - - - - - - - - - - - - - - - - - - - - - - - - - - - - - - - - - - - - - - - - - - - - - - - - - - - - - - - - - - - - - - - - - - - - - - - - - - - - - - - - - - - - - - - - - - - - - - - - - - - - - - - - - - - - - - - - - - - - - - - - - - - - - - - - - - - - - - - - - - - - - - - - - - - - - - - - - - - - - - - - - - - - - - - - - - - - - - - - - - - - - - - - - - - - - - - - - - - - - - - - - - - - - - - - - - - - - - - - - - - - - - - - - - - - - - - - - - - - - - - - - - - - - - - - - - - - - - - - - - - - - - - - - - - - - - - - - - - - - - - - - - - - - - - - - - - - - - - - - - - - - - - - - - - - - - - - - - - - - - - - - - - - - - - - - - - - - - - - - - - - - - - - - - - - - - - - - - - - - - - - - - - - - - - - - - - - - - - - - - - - - - - - - - - - - - - - - - - - - - - - - - - - - - - - - - - - - - - - - - - - - - - - - - - - - - - - - - - - - - - - - - - - - - - - - - - - - - - - - - - - - - - - - - - - - - - - - - - - - - - - - - - - - - - - - - - - - - - - - - - - - - - - - - - - - - - - - - - - - - - - - - - - - - - - - - - - - - - - - - - - - - - - - - - - - - - - - - - - - - - - - - - - - - - - - - - - - - - - - - - - - - - - - - - - - - - - - - - - - - - - - - - - - - - - - - - - - - - - - - -\n"
     ]
    }
   ],
   "source": [
    "import bs4\n",
    "def get_attribute_split(child,separator=':'):\n",
    "    string = child.get_text()\n",
    "    key,value = string.split(separator) # unzip the two element list into.\n",
    "    return key.strip(),value.strip() # strip whitespace from start and end of the string\n",
    "def get_metadata(response):\n",
    "    \n",
    "    soup = BeautifulSoup(response.text)\n",
    "    temp_metadata = {}\n",
    "    name = soup.find('h1').get_text()\n",
    "    party = soup.find('h2').get_text()\n",
    "    temp_metadata['name'] = name.strip()\n",
    "    temp_metadata['party'] = party.strip()\n",
    "    section = soup.find('section',{'class':'center'})\n",
    "    \n",
    "    children = list(section.findAll('p'))\n",
    "    for child in children:\n",
    "        # try the two split methods first\n",
    "        # this is the child separated by ':'\n",
    "        try:\n",
    "            key,value = get_attribute_split(child)\n",
    "            value = value.strip()\n",
    "            temp_metadata[key] = value\n",
    "            continue\n",
    "        except:\n",
    "            pass\n",
    "        # find atags\n",
    "        try:\n",
    "            atags = child.findAll('a')\n",
    "        except:\n",
    "            atags = []\n",
    "        if len(atags)>0:\n",
    "            # this is the child that contains links\n",
    "            for subchild in child.children:\n",
    "                try:\n",
    "                    key,val = subchild.text,subchild['href']\n",
    "                   # print(key,val,child)\n",
    "                    if ' hos ' in key:\n",
    "                        key = key.split('hos ')[1]\n",
    "                    if 'Wikipedia' in key:\n",
    "                        key = 'Wikipedia'\n",
    "                    temp_metadata[key] = val\n",
    "                    continue\n",
    "                except:\n",
    "                    pass\n",
    "        # this is the child separated by ' i ' \n",
    "        try:\n",
    "            key,value = get_attribute_split(child,separator=' i ')\n",
    "            temp_metadata[key] = value.strip()\n",
    "            continue\n",
    "        except:\n",
    "            pass\n",
    "    return temp_metadata\n",
    "datadict = {}\n",
    "count = 0 # make an index instead of links\n",
    "for party in party2links:\n",
    "    links = party2links[party]\n",
    "    for link in links:\n",
    "        print('-'),\n",
    "        time.sleep(0.5)\n",
    "        response = requests.get(link)\n",
    "        meta_data = get_metadata(response)\n",
    "        meta_data['link'] = link\n",
    "        datadict[count] = meta_data\n",
    "        count+=1 # incrementing the counter\n",
    "\n"
   ]
  },
  {
   "cell_type": "code",
   "execution_count": null,
   "metadata": {
    "collapsed": true
   },
   "outputs": [],
   "source": []
  },
  {
   "cell_type": "code",
   "execution_count": 123,
   "metadata": {
    "slideshow": {
     "slide_type": "subslide"
    }
   },
   "outputs": [
    {
     "data": {
      "text/html": [
       "<div>\n",
       "<style>\n",
       "    .dataframe thead tr:only-child th {\n",
       "        text-align: right;\n",
       "    }\n",
       "\n",
       "    .dataframe thead th {\n",
       "        text-align: left;\n",
       "    }\n",
       "\n",
       "    .dataframe tbody tr th {\n",
       "        vertical-align: top;\n",
       "    }\n",
       "</style>\n",
       "<table border=\"1\" class=\"dataframe\">\n",
       "  <thead>\n",
       "    <tr style=\"text-align: right;\">\n",
       "      <th></th>\n",
       "      <th>Alder</th>\n",
       "      <th>Altinget</th>\n",
       "      <th>Bopæl</th>\n",
       "      <th>Bornholms storkreds</th>\n",
       "      <th>Danmarks Radio</th>\n",
       "      <th>DanskePolitikere.dk</th>\n",
       "      <th>Erik Lund</th>\n",
       "      <th>Facebook</th>\n",
       "      <th>Fyns storkreds</th>\n",
       "      <th>Google+</th>\n",
       "      <th>...</th>\n",
       "      <th>Søren Gade hos DanskePolitikere.dk Søren Gade</th>\n",
       "      <th>Titel</th>\n",
       "      <th>Twitter</th>\n",
       "      <th>Twitter Facebook    Snapchat</th>\n",
       "      <th>Vestjyllands storkreds</th>\n",
       "      <th>Wikipedia</th>\n",
       "      <th>link</th>\n",
       "      <th>name</th>\n",
       "      <th>party</th>\n",
       "      <th>Østjyllands storkreds</th>\n",
       "    </tr>\n",
       "  </thead>\n",
       "  <tbody>\n",
       "    <tr>\n",
       "      <th>0</th>\n",
       "      <td>Ukendt</td>\n",
       "      <td>http://www.altinget.dk/kandidater/ft15/Birgitt...</td>\n",
       "      <td>3770 Allinge</td>\n",
       "      <td>/kreds/bornholms-storkreds</td>\n",
       "      <td>NaN</td>\n",
       "      <td>NaN</td>\n",
       "      <td>NaN</td>\n",
       "      <td>https://www.facebook.com/pages/Birgitte-Kjølle...</td>\n",
       "      <td>NaN</td>\n",
       "      <td>NaN</td>\n",
       "      <td>...</td>\n",
       "      <td>NaN</td>\n",
       "      <td>Cand.mag.</td>\n",
       "      <td>https://www.twitter.com/BirgitteKP</td>\n",
       "      <td>NaN</td>\n",
       "      <td>NaN</td>\n",
       "      <td>NaN</td>\n",
       "      <td>http://www.folketingsvalg-2015.dk/birgitte-kjo...</td>\n",
       "      <td>Birgitte Kjøller Pedersen</td>\n",
       "      <td>Socialistisk Folkeparti</td>\n",
       "      <td>NaN</td>\n",
       "    </tr>\n",
       "    <tr>\n",
       "      <th>1</th>\n",
       "      <td>53</td>\n",
       "      <td>http://www.altinget.dk/kandidater/ft15/Leif-Olsen</td>\n",
       "      <td>3770 Allinge</td>\n",
       "      <td>/kreds/bornholms-storkreds</td>\n",
       "      <td>NaN</td>\n",
       "      <td>NaN</td>\n",
       "      <td>NaN</td>\n",
       "      <td>NaN</td>\n",
       "      <td>NaN</td>\n",
       "      <td>NaN</td>\n",
       "      <td>...</td>\n",
       "      <td>NaN</td>\n",
       "      <td>Lektor</td>\n",
       "      <td>NaN</td>\n",
       "      <td>NaN</td>\n",
       "      <td>NaN</td>\n",
       "      <td>NaN</td>\n",
       "      <td>http://www.folketingsvalg-2015.dk/leif-olsen</td>\n",
       "      <td>Leif Olsen</td>\n",
       "      <td>Socialistisk Folkeparti</td>\n",
       "      <td>NaN</td>\n",
       "    </tr>\n",
       "    <tr>\n",
       "      <th>2</th>\n",
       "      <td>59</td>\n",
       "      <td>http://www.altinget.dk/kandidater/ft15/Poul-Ov...</td>\n",
       "      <td>3700 Rønne</td>\n",
       "      <td>/kreds/bornholms-storkreds</td>\n",
       "      <td>NaN</td>\n",
       "      <td>NaN</td>\n",
       "      <td>NaN</td>\n",
       "      <td>NaN</td>\n",
       "      <td>NaN</td>\n",
       "      <td>NaN</td>\n",
       "      <td>...</td>\n",
       "      <td>NaN</td>\n",
       "      <td>Konsulent</td>\n",
       "      <td>NaN</td>\n",
       "      <td>NaN</td>\n",
       "      <td>NaN</td>\n",
       "      <td>NaN</td>\n",
       "      <td>http://www.folketingsvalg-2015.dk/poul-overlun...</td>\n",
       "      <td>Poul Overlund-Sørensen</td>\n",
       "      <td>Socialistisk Folkeparti</td>\n",
       "      <td>NaN</td>\n",
       "    </tr>\n",
       "    <tr>\n",
       "      <th>3</th>\n",
       "      <td>57</td>\n",
       "      <td>http://www.altinget.dk/kandidater/ft15/Annette...</td>\n",
       "      <td>5300 Kerteminde</td>\n",
       "      <td>NaN</td>\n",
       "      <td>NaN</td>\n",
       "      <td>http://www.danskepolitikere.dk/annette-vilhelmsen</td>\n",
       "      <td>NaN</td>\n",
       "      <td>NaN</td>\n",
       "      <td>/kreds/fyns-storkreds</td>\n",
       "      <td>NaN</td>\n",
       "      <td>...</td>\n",
       "      <td>NaN</td>\n",
       "      <td>Fhv. minister</td>\n",
       "      <td>https://www.twitter.com/a_vilhelmsen</td>\n",
       "      <td>NaN</td>\n",
       "      <td>NaN</td>\n",
       "      <td>http://da.wikipedia.org/wiki/Annette_Vilhelmsen</td>\n",
       "      <td>http://www.folketingsvalg-2015.dk/annette-vilh...</td>\n",
       "      <td>Annette Vilhelmsen</td>\n",
       "      <td>Socialistisk Folkeparti</td>\n",
       "      <td>NaN</td>\n",
       "    </tr>\n",
       "    <tr>\n",
       "      <th>4</th>\n",
       "      <td>Ukendt</td>\n",
       "      <td>http://www.altinget.dk/kandidater/ft15/Carl-Va...</td>\n",
       "      <td>2450 København NV</td>\n",
       "      <td>NaN</td>\n",
       "      <td>NaN</td>\n",
       "      <td>NaN</td>\n",
       "      <td>NaN</td>\n",
       "      <td>https://www.facebook.com/CarlValentinSF</td>\n",
       "      <td>/kreds/fyns-storkreds</td>\n",
       "      <td>NaN</td>\n",
       "      <td>...</td>\n",
       "      <td>NaN</td>\n",
       "      <td>Phoner</td>\n",
       "      <td>https://www.twitter.com/Carl__Valentin</td>\n",
       "      <td>NaN</td>\n",
       "      <td>NaN</td>\n",
       "      <td>NaN</td>\n",
       "      <td>http://www.folketingsvalg-2015.dk/carl-valentin</td>\n",
       "      <td>Carl Valentin</td>\n",
       "      <td>Socialistisk Folkeparti</td>\n",
       "      <td>NaN</td>\n",
       "    </tr>\n",
       "  </tbody>\n",
       "</table>\n",
       "<p>5 rows × 80 columns</p>\n",
       "</div>"
      ],
      "text/plain": [
       "    Alder                                           Altinget  \\\n",
       "0  Ukendt  http://www.altinget.dk/kandidater/ft15/Birgitt...   \n",
       "1      53  http://www.altinget.dk/kandidater/ft15/Leif-Olsen   \n",
       "2      59  http://www.altinget.dk/kandidater/ft15/Poul-Ov...   \n",
       "3      57  http://www.altinget.dk/kandidater/ft15/Annette...   \n",
       "4  Ukendt  http://www.altinget.dk/kandidater/ft15/Carl-Va...   \n",
       "\n",
       "               Bopæl         Bornholms storkreds Danmarks Radio  \\\n",
       "0       3770 Allinge  /kreds/bornholms-storkreds            NaN   \n",
       "1       3770 Allinge  /kreds/bornholms-storkreds            NaN   \n",
       "2         3700 Rønne  /kreds/bornholms-storkreds            NaN   \n",
       "3    5300 Kerteminde                         NaN            NaN   \n",
       "4  2450 København NV                         NaN            NaN   \n",
       "\n",
       "                                 DanskePolitikere.dk Erik Lund  \\\n",
       "0                                                NaN       NaN   \n",
       "1                                                NaN       NaN   \n",
       "2                                                NaN       NaN   \n",
       "3  http://www.danskepolitikere.dk/annette-vilhelmsen       NaN   \n",
       "4                                                NaN       NaN   \n",
       "\n",
       "                                            Facebook         Fyns storkreds  \\\n",
       "0  https://www.facebook.com/pages/Birgitte-Kjølle...                    NaN   \n",
       "1                                                NaN                    NaN   \n",
       "2                                                NaN                    NaN   \n",
       "3                                                NaN  /kreds/fyns-storkreds   \n",
       "4            https://www.facebook.com/CarlValentinSF  /kreds/fyns-storkreds   \n",
       "\n",
       "  Google+          ...          Søren Gade hos DanskePolitikere.dk Søren Gade  \\\n",
       "0     NaN          ...                                                    NaN   \n",
       "1     NaN          ...                                                    NaN   \n",
       "2     NaN          ...                                                    NaN   \n",
       "3     NaN          ...                                                    NaN   \n",
       "4     NaN          ...                                                    NaN   \n",
       "\n",
       "           Titel                                 Twitter  \\\n",
       "0      Cand.mag.      https://www.twitter.com/BirgitteKP   \n",
       "1         Lektor                                     NaN   \n",
       "2      Konsulent                                     NaN   \n",
       "3  Fhv. minister    https://www.twitter.com/a_vilhelmsen   \n",
       "4         Phoner  https://www.twitter.com/Carl__Valentin   \n",
       "\n",
       "  Twitter Facebook    Snapchat Vestjyllands storkreds  \\\n",
       "0                          NaN                    NaN   \n",
       "1                          NaN                    NaN   \n",
       "2                          NaN                    NaN   \n",
       "3                          NaN                    NaN   \n",
       "4                          NaN                    NaN   \n",
       "\n",
       "                                         Wikipedia  \\\n",
       "0                                              NaN   \n",
       "1                                              NaN   \n",
       "2                                              NaN   \n",
       "3  http://da.wikipedia.org/wiki/Annette_Vilhelmsen   \n",
       "4                                              NaN   \n",
       "\n",
       "                                                link  \\\n",
       "0  http://www.folketingsvalg-2015.dk/birgitte-kjo...   \n",
       "1       http://www.folketingsvalg-2015.dk/leif-olsen   \n",
       "2  http://www.folketingsvalg-2015.dk/poul-overlun...   \n",
       "3  http://www.folketingsvalg-2015.dk/annette-vilh...   \n",
       "4    http://www.folketingsvalg-2015.dk/carl-valentin   \n",
       "\n",
       "                        name                    party Østjyllands storkreds  \n",
       "0  Birgitte Kjøller Pedersen  Socialistisk Folkeparti                   NaN  \n",
       "1                 Leif Olsen  Socialistisk Folkeparti                   NaN  \n",
       "2     Poul Overlund-Sørensen  Socialistisk Folkeparti                   NaN  \n",
       "3         Annette Vilhelmsen  Socialistisk Folkeparti                   NaN  \n",
       "4              Carl Valentin  Socialistisk Folkeparti                   NaN  \n",
       "\n",
       "[5 rows x 80 columns]"
      ]
     },
     "execution_count": 123,
     "metadata": {},
     "output_type": "execute_result"
    }
   ],
   "source": [
    "import pandas as pd\n",
    "df = pd.DataFrame(datadict).T\n",
    "df.to_pickle('folketingsvalg-2015_scraped.pkl')\n",
    "df.head()"
   ]
  },
  {
   "cell_type": "markdown",
   "metadata": {
    "slideshow": {
     "slide_type": "slide"
    }
   },
   "source": [
    "**Collect Facebook data from the politicians.**"
   ]
  },
  {
   "cell_type": "code",
   "execution_count": 124,
   "metadata": {},
   "outputs": [
    {
     "data": {
      "text/plain": [
       "480"
      ]
     },
     "execution_count": 124,
     "metadata": {},
     "output_type": "execute_result"
    }
   ],
   "source": [
    "len(df.Facebook.dropna()) # use to be 382"
   ]
  },
  {
   "cell_type": "code",
   "execution_count": 125,
   "metadata": {
    "slideshow": {
     "slide_type": "subslide"
    }
   },
   "outputs": [
    {
     "name": "stdout",
     "output_type": "stream",
     "text": [
      "http://-\n"
     ]
    },
    {
     "data": {
      "text/html": [
       "<div>\n",
       "<style>\n",
       "    .dataframe thead tr:only-child th {\n",
       "        text-align: right;\n",
       "    }\n",
       "\n",
       "    .dataframe thead th {\n",
       "        text-align: left;\n",
       "    }\n",
       "\n",
       "    .dataframe tbody tr th {\n",
       "        vertical-align: top;\n",
       "    }\n",
       "</style>\n",
       "<table border=\"1\" class=\"dataframe\">\n",
       "  <thead>\n",
       "    <tr style=\"text-align: right;\">\n",
       "      <th></th>\n",
       "      <th>Alder</th>\n",
       "      <th>Altinget</th>\n",
       "      <th>Bopæl</th>\n",
       "      <th>Bornholms storkreds</th>\n",
       "      <th>Danmarks Radio</th>\n",
       "      <th>DanskePolitikere.dk</th>\n",
       "      <th>Erik Lund</th>\n",
       "      <th>Facebook</th>\n",
       "      <th>Fyns storkreds</th>\n",
       "      <th>Google+</th>\n",
       "      <th>...</th>\n",
       "      <th>Titel</th>\n",
       "      <th>Twitter</th>\n",
       "      <th>Twitter Facebook    Snapchat</th>\n",
       "      <th>Vestjyllands storkreds</th>\n",
       "      <th>Wikipedia</th>\n",
       "      <th>link</th>\n",
       "      <th>name</th>\n",
       "      <th>party</th>\n",
       "      <th>Østjyllands storkreds</th>\n",
       "      <th>facebook_identifier</th>\n",
       "    </tr>\n",
       "  </thead>\n",
       "  <tbody>\n",
       "    <tr>\n",
       "      <th>0</th>\n",
       "      <td>Ukendt</td>\n",
       "      <td>http://www.altinget.dk/kandidater/ft15/Birgitt...</td>\n",
       "      <td>3770 Allinge</td>\n",
       "      <td>/kreds/bornholms-storkreds</td>\n",
       "      <td>NaN</td>\n",
       "      <td>NaN</td>\n",
       "      <td>NaN</td>\n",
       "      <td>https://www.facebook.com/pages/Birgitte-Kjølle...</td>\n",
       "      <td>NaN</td>\n",
       "      <td>NaN</td>\n",
       "      <td>...</td>\n",
       "      <td>Cand.mag.</td>\n",
       "      <td>https://www.twitter.com/BirgitteKP</td>\n",
       "      <td>NaN</td>\n",
       "      <td>NaN</td>\n",
       "      <td>NaN</td>\n",
       "      <td>http://www.folketingsvalg-2015.dk/birgitte-kjo...</td>\n",
       "      <td>Birgitte Kjøller Pedersen</td>\n",
       "      <td>Socialistisk Folkeparti</td>\n",
       "      <td>NaN</td>\n",
       "      <td>123520157707593</td>\n",
       "    </tr>\n",
       "    <tr>\n",
       "      <th>1</th>\n",
       "      <td>53</td>\n",
       "      <td>http://www.altinget.dk/kandidater/ft15/Leif-Olsen</td>\n",
       "      <td>3770 Allinge</td>\n",
       "      <td>/kreds/bornholms-storkreds</td>\n",
       "      <td>NaN</td>\n",
       "      <td>NaN</td>\n",
       "      <td>NaN</td>\n",
       "      <td>NaN</td>\n",
       "      <td>NaN</td>\n",
       "      <td>NaN</td>\n",
       "      <td>...</td>\n",
       "      <td>Lektor</td>\n",
       "      <td>NaN</td>\n",
       "      <td>NaN</td>\n",
       "      <td>NaN</td>\n",
       "      <td>NaN</td>\n",
       "      <td>http://www.folketingsvalg-2015.dk/leif-olsen</td>\n",
       "      <td>Leif Olsen</td>\n",
       "      <td>Socialistisk Folkeparti</td>\n",
       "      <td>NaN</td>\n",
       "      <td>no-profile</td>\n",
       "    </tr>\n",
       "    <tr>\n",
       "      <th>2</th>\n",
       "      <td>59</td>\n",
       "      <td>http://www.altinget.dk/kandidater/ft15/Poul-Ov...</td>\n",
       "      <td>3700 Rønne</td>\n",
       "      <td>/kreds/bornholms-storkreds</td>\n",
       "      <td>NaN</td>\n",
       "      <td>NaN</td>\n",
       "      <td>NaN</td>\n",
       "      <td>NaN</td>\n",
       "      <td>NaN</td>\n",
       "      <td>NaN</td>\n",
       "      <td>...</td>\n",
       "      <td>Konsulent</td>\n",
       "      <td>NaN</td>\n",
       "      <td>NaN</td>\n",
       "      <td>NaN</td>\n",
       "      <td>NaN</td>\n",
       "      <td>http://www.folketingsvalg-2015.dk/poul-overlun...</td>\n",
       "      <td>Poul Overlund-Sørensen</td>\n",
       "      <td>Socialistisk Folkeparti</td>\n",
       "      <td>NaN</td>\n",
       "      <td>no-profile</td>\n",
       "    </tr>\n",
       "    <tr>\n",
       "      <th>3</th>\n",
       "      <td>57</td>\n",
       "      <td>http://www.altinget.dk/kandidater/ft15/Annette...</td>\n",
       "      <td>5300 Kerteminde</td>\n",
       "      <td>NaN</td>\n",
       "      <td>NaN</td>\n",
       "      <td>http://www.danskepolitikere.dk/annette-vilhelmsen</td>\n",
       "      <td>NaN</td>\n",
       "      <td>NaN</td>\n",
       "      <td>/kreds/fyns-storkreds</td>\n",
       "      <td>NaN</td>\n",
       "      <td>...</td>\n",
       "      <td>Fhv. minister</td>\n",
       "      <td>https://www.twitter.com/a_vilhelmsen</td>\n",
       "      <td>NaN</td>\n",
       "      <td>NaN</td>\n",
       "      <td>http://da.wikipedia.org/wiki/Annette_Vilhelmsen</td>\n",
       "      <td>http://www.folketingsvalg-2015.dk/annette-vilh...</td>\n",
       "      <td>Annette Vilhelmsen</td>\n",
       "      <td>Socialistisk Folkeparti</td>\n",
       "      <td>NaN</td>\n",
       "      <td>no-profile</td>\n",
       "    </tr>\n",
       "    <tr>\n",
       "      <th>4</th>\n",
       "      <td>Ukendt</td>\n",
       "      <td>http://www.altinget.dk/kandidater/ft15/Carl-Va...</td>\n",
       "      <td>2450 København NV</td>\n",
       "      <td>NaN</td>\n",
       "      <td>NaN</td>\n",
       "      <td>NaN</td>\n",
       "      <td>NaN</td>\n",
       "      <td>https://www.facebook.com/CarlValentinSF</td>\n",
       "      <td>/kreds/fyns-storkreds</td>\n",
       "      <td>NaN</td>\n",
       "      <td>...</td>\n",
       "      <td>Phoner</td>\n",
       "      <td>https://www.twitter.com/Carl__Valentin</td>\n",
       "      <td>NaN</td>\n",
       "      <td>NaN</td>\n",
       "      <td>NaN</td>\n",
       "      <td>http://www.folketingsvalg-2015.dk/carl-valentin</td>\n",
       "      <td>Carl Valentin</td>\n",
       "      <td>Socialistisk Folkeparti</td>\n",
       "      <td>NaN</td>\n",
       "      <td>CarlValentinSF</td>\n",
       "    </tr>\n",
       "  </tbody>\n",
       "</table>\n",
       "<p>5 rows × 81 columns</p>\n",
       "</div>"
      ],
      "text/plain": [
       "    Alder                                           Altinget  \\\n",
       "0  Ukendt  http://www.altinget.dk/kandidater/ft15/Birgitt...   \n",
       "1      53  http://www.altinget.dk/kandidater/ft15/Leif-Olsen   \n",
       "2      59  http://www.altinget.dk/kandidater/ft15/Poul-Ov...   \n",
       "3      57  http://www.altinget.dk/kandidater/ft15/Annette...   \n",
       "4  Ukendt  http://www.altinget.dk/kandidater/ft15/Carl-Va...   \n",
       "\n",
       "               Bopæl         Bornholms storkreds Danmarks Radio  \\\n",
       "0       3770 Allinge  /kreds/bornholms-storkreds            NaN   \n",
       "1       3770 Allinge  /kreds/bornholms-storkreds            NaN   \n",
       "2         3700 Rønne  /kreds/bornholms-storkreds            NaN   \n",
       "3    5300 Kerteminde                         NaN            NaN   \n",
       "4  2450 København NV                         NaN            NaN   \n",
       "\n",
       "                                 DanskePolitikere.dk Erik Lund  \\\n",
       "0                                                NaN       NaN   \n",
       "1                                                NaN       NaN   \n",
       "2                                                NaN       NaN   \n",
       "3  http://www.danskepolitikere.dk/annette-vilhelmsen       NaN   \n",
       "4                                                NaN       NaN   \n",
       "\n",
       "                                            Facebook         Fyns storkreds  \\\n",
       "0  https://www.facebook.com/pages/Birgitte-Kjølle...                    NaN   \n",
       "1                                                NaN                    NaN   \n",
       "2                                                NaN                    NaN   \n",
       "3                                                NaN  /kreds/fyns-storkreds   \n",
       "4            https://www.facebook.com/CarlValentinSF  /kreds/fyns-storkreds   \n",
       "\n",
       "  Google+         ...                  Titel  \\\n",
       "0     NaN         ...              Cand.mag.   \n",
       "1     NaN         ...                 Lektor   \n",
       "2     NaN         ...              Konsulent   \n",
       "3     NaN         ...          Fhv. minister   \n",
       "4     NaN         ...                 Phoner   \n",
       "\n",
       "                                  Twitter Twitter Facebook    Snapchat  \\\n",
       "0      https://www.twitter.com/BirgitteKP                          NaN   \n",
       "1                                     NaN                          NaN   \n",
       "2                                     NaN                          NaN   \n",
       "3    https://www.twitter.com/a_vilhelmsen                          NaN   \n",
       "4  https://www.twitter.com/Carl__Valentin                          NaN   \n",
       "\n",
       "  Vestjyllands storkreds                                        Wikipedia  \\\n",
       "0                    NaN                                              NaN   \n",
       "1                    NaN                                              NaN   \n",
       "2                    NaN                                              NaN   \n",
       "3                    NaN  http://da.wikipedia.org/wiki/Annette_Vilhelmsen   \n",
       "4                    NaN                                              NaN   \n",
       "\n",
       "                                                link  \\\n",
       "0  http://www.folketingsvalg-2015.dk/birgitte-kjo...   \n",
       "1       http://www.folketingsvalg-2015.dk/leif-olsen   \n",
       "2  http://www.folketingsvalg-2015.dk/poul-overlun...   \n",
       "3  http://www.folketingsvalg-2015.dk/annette-vilh...   \n",
       "4    http://www.folketingsvalg-2015.dk/carl-valentin   \n",
       "\n",
       "                        name                    party Østjyllands storkreds  \\\n",
       "0  Birgitte Kjøller Pedersen  Socialistisk Folkeparti                   NaN   \n",
       "1                 Leif Olsen  Socialistisk Folkeparti                   NaN   \n",
       "2     Poul Overlund-Sørensen  Socialistisk Folkeparti                   NaN   \n",
       "3         Annette Vilhelmsen  Socialistisk Folkeparti                   NaN   \n",
       "4              Carl Valentin  Socialistisk Folkeparti                   NaN   \n",
       "\n",
       "  facebook_identifier  \n",
       "0     123520157707593  \n",
       "1          no-profile  \n",
       "2          no-profile  \n",
       "3          no-profile  \n",
       "4      CarlValentinSF  \n",
       "\n",
       "[5 rows x 81 columns]"
      ]
     },
     "execution_count": 125,
     "metadata": {},
     "output_type": "execute_result"
    }
   ],
   "source": [
    "## First we need to grab the name or id from the facebook link. \n",
    "## Here we need to filter profiles from pages, since we can only\n",
    "## access content from pages, as far as I know at least.\n",
    "\n",
    "# Lets inspect the links \n",
    "df.Facebook.dropna().values\n",
    "\n",
    "# So there are some patterns. \n",
    "# Some pages can be detected by /pages/ \n",
    "# pages with /pages/ has an id we can grab directly\n",
    "# If there is an id, it is one backslash / after the name. Benedikte-Ask-Skotte/536682579767128\n",
    "# we need to make sure not to grab ?fref=ts\n",
    "\n",
    "# Some private profiles can be detected by /people/ others by profile.php?\n",
    "# profile_browser is not indicative of a profile, so don't use profile as split point.\n",
    "# If we wanted to split by 'www.facebook.com/' we would miss this variation: da-dk.facebook.com\n",
    "\n",
    "## So lets try to put it together\n",
    "import re\n",
    "import numpy as np\n",
    "def get_ID(facebook_link):\n",
    "    # first we check if it is a Nan values\n",
    "    typ = type(facebook_link)\n",
    "    if typ==float:\n",
    "        return 'no-profile'\n",
    "    # first we check for the /pages/\n",
    "    if '/pages/' in facebook_link:\n",
    "        pattern = '/([0-9]+)'\n",
    "        # the re.search will return the first result\n",
    "        page_id = re.findall(pattern,facebook_link)[0]\n",
    "        return page_id\n",
    "    elif '/people/' in facebook_link:\n",
    "        # we will return nan\n",
    "        return 'private-profile'\n",
    "    else: # then we will grab the name direcly after facebook.com\n",
    "        try:\n",
    "            page_name = facebook_link.split('facebook.com/')[1].split('/')[0]\n",
    "        except:\n",
    "            print(facebook_link)\n",
    "            return 'no-profile' # an error with \n",
    "        return page_name\n",
    "df['facebook_identifier'] = df.Facebook.apply(get_ID)\n",
    "df.head()\n",
    "#df[df['Facebook']=='http://-']"
   ]
  },
  {
   "cell_type": "code",
   "execution_count": null,
   "metadata": {
    "collapsed": true
   },
   "outputs": [],
   "source": []
  },
  {
   "cell_type": "code",
   "execution_count": 47,
   "metadata": {},
   "outputs": [
    {
     "data": {
      "text/plain": [
       "'CarlValentinSF'"
      ]
     },
     "execution_count": 47,
     "metadata": {},
     "output_type": "execute_result"
    }
   ],
   "source": [
    "pageid = df.facebook_identifier[4]\n",
    "pageid"
   ]
  },
  {
   "cell_type": "code",
   "execution_count": 126,
   "metadata": {},
   "outputs": [
    {
     "name": "stdout",
     "output_type": "stream",
     "text": [
      "https://graph.facebook.com/v2.10/123520157707593?fields=name,id,website,were_here_count,category,description,about,fan_count,bio,general_info,is_community_page,location,feed.limit(100){from,status_type,message_tags,to,message,type,story,link,shares,updated_time,created_time,likes.limit(1).summary(true),comments.limit(1).summary(true),reactions.limit(1).summary(true)}&access_token=EAACEdEose0cBADqAKPmf28ZAOdZAkpyPZBOoHZCheG0ud8d9XfZCXbdZBBI6v9iZAeKawwsoZApBTeu9F6iOhSxaoBkPfZBCLSGeETC0zcjmn0CfDZB8ZBsuoVVC39fDuHLmZBoMHXCT7uonhGD78yBr8V1HkFfggVjRFiBWwKF5kxjJYkJwBIZAYNjpJ1NEPyYG9TxZB2LEytjZC2AGMe80Ai9QazMehn6WuT5YjxCsRtd9YuAIQZDZD\n"
     ]
    }
   ],
   "source": [
    "# Define the token\n",
    "token = 'EAACEdEose0cBADqAKPmf28ZAOdZAkpyPZBOoHZCheG0ud8d9XfZCXbdZBBI6v9iZAeKawwsoZApBTeu9F6iOhSxaoBkPfZBCLSGeETC0zcjmn0CfDZB8ZBsuoVVC39fDuHLmZBoMHXCT7uonhGD78yBr8V1HkFfggVjRFiBWwKF5kxjJYkJwBIZAYNjpJ1NEPyYG9TxZB2LEytjZC2AGMe80Ai9QazMehn6WuT5YjxCsRtd9YuAIQZDZD'\n",
    "## Then we need to build a query\n",
    "base_url = 'https://graph.facebook.com/v2.10/%s' # insert pageid using % pageid\n",
    "## Here we defined the target properties of the page.\n",
    "metadata_fields = 'name,id,website,were_here_count,category,description,about,fan_count,bio,general_info,is_community_page,location'\n",
    "# here we define the properties of the central node: Feed. \n",
    "data_fields = 'feed.limit(100){from,status_type,message_tags,to,message,type,story,link,shares,updated_time,created_time,likes.limit(1).summary(true),comments.limit(1).summary(true),reactions.limit(1).summary(true)}'\n",
    "# Here we combine the two field lists\n",
    "fields = '?fields=%s,%s'%(metadata_fields,data_fields)\n",
    "# Authentification\n",
    "authentification = '&access_token=%s'%token\n",
    "\n",
    "\n",
    "# Now lets combine the different elements into an example query\n",
    "pageid = df.facebook_identifier[0]\n",
    "q = base_url%pageid+fields+authentification\n",
    "print(q)\n",
    "\n"
   ]
  },
  {
   "cell_type": "code",
   "execution_count": 127,
   "metadata": {},
   "outputs": [
    {
     "name": "stdout",
     "output_type": "stream",
     "text": [
      "474\n"
     ]
    }
   ],
   "source": [
    "# Now collecting the raw data\n",
    "# Lets initialize the ratelimiting function first\n",
    "#############################\n",
    "# Intelligent rate limiting. \n",
    "import time\n",
    "logsize = 360\n",
    "timestamps = [time.time()]*logsize\n",
    "requestrate = 1 # number of calls pr second. If the ratelimiting error are thrown update it.\n",
    "ratelimiterrors = 0 #  \n",
    "def ratelimit():\n",
    "    global timestamps\n",
    "    global requestrate\n",
    "    global ratelimiterrors\n",
    "    servertime = time.time()\n",
    "    timestamps.append(servertime)\n",
    "    average_request_rate = (servertime-timestamps[0])/logsize\n",
    "    if ratelimiterrors>0: # adopt new rate\n",
    "        time.sleep(1800)\n",
    "        requestrate+=0.01\n",
    "        print 'updating requestrate to %r'%requestrate\n",
    "        ratelimiterrors = 0\n",
    "    if average_request_rate < requestrate: # check if requestrate is to high\n",
    "        time.sleep(1)\n",
    "    timestamps.pop(0) # remove first timestamp\n",
    "\n",
    "#############################\n",
    "# And our reliable get function\n",
    "def get(url,iterations=10,exceptions=(Exception)): # possible exceptions: HTTPError,ConnectionError\n",
    "    \"\"\" iterations : Define number of iterations before giving up. \n",
    "        exceptions: Define which exceptions you accept, default is all. \n",
    "    \"\"\"\n",
    "    for iteration in range(iterations):\n",
    "        try:\n",
    "            # add ratelimit function call here\n",
    "            ratelimit() # !!\n",
    "            response = requests.get(url).json()\n",
    "            return response # if succesful it will end the iterations here\n",
    "        except exceptions as e: #  find exceptions in the request library requests.exceptions\n",
    "            print(e) # print or log the exception message.\n",
    "    return None # your code will purposely crash if you don't create a check function later.\n",
    "#############################\n",
    "# Create directory to the raw and initialize simple logging.\n",
    "\n",
    "retries = [] # For connection errors\n",
    "done = set() # For logging what we have already collected\n",
    "errors = {} # For logging which returned error messages\n",
    "import os\n",
    "path = 'raw_facebookdata/'\n",
    "if not os.path.exists(path): # check if directory exists\n",
    "    os.makedirs(path) # if not make directory\n",
    "done = set(os.listdir(path))    \n",
    "# Filter the ones we do not have profile ids on.    \n",
    "subdf = df[df.facebook_identifier.apply(lambda x: '-profile' not in x)]\n",
    "print(len(subdf))\n",
    "# Import module to dump the raw data with\n",
    "import json"
   ]
  },
  {
   "cell_type": "code",
   "execution_count": 128,
   "metadata": {
    "scrolled": true
   },
   "outputs": [
    {
     "name": "stdout",
     "output_type": "stream",
     "text": [
      "{u'message': u\"Unsupported get request. Object with ID '123520157707593' does not exist, cannot be loaded due to missing permissions, or does not support this operation. Please read the Graph API documentation at https://developers.facebook.com/docs/graph-api\", u'code': 100, u'type': u'GraphMethodException', u'fbtrace_id': u'AgoHNN64dDO'}\n",
      "{u'message': u'(#803) Cannot query users by their username (arly.eskildsen)', u'code': 803, u'type': u'OAuthException', u'fbtrace_id': u'EB32qEkWMpq'}\n",
      "{u'message': u\"Unsupported get request. Object with ID '469380419835798' does not exist, cannot be loaded due to missing permissions, or does not support this operation. Please read the Graph API documentation at https://developers.facebook.com/docs/graph-api\", u'code': 100, u'type': u'GraphMethodException', u'fbtrace_id': u'Arifq74K/9m'}\n",
      "{u'message': u'(#803) Cannot query users by their username (dorete.dandanell)', u'code': 803, u'type': u'OAuthException', u'fbtrace_id': u'G/guHianxxc'}\n",
      "{u'message': u'(#803) Some of the aliases you requested do not exist: mortensfnj', u'code': 803, u'type': u'OAuthException', u'fbtrace_id': u'BFPj549B60D'}\n",
      "{u'message': u'(#803) Some of the aliases you requested do not exist: serdalbenli', u'code': 803, u'type': u'OAuthException', u'fbtrace_id': u'CyYnCT5dU7S'}\n",
      "{u'message': u'(#803) Cannot query users by their username (baldermoerkandersen)', u'code': 803, u'type': u'OAuthException', u'fbtrace_id': u'Ddyr9BPZuhW'}\n",
      "Now 459 pages left to collect.\n",
      "7 Errors\t178 Done\n",
      "{u'message': u'(#803) Cannot query users by their username (leif.d.thomsen)', u'code': 803, u'type': u'OAuthException', u'fbtrace_id': u'AcnljSKYrHp'}\n",
      "{u'message': u'(#803) Cannot query users by their username (neil.bloem)', u'code': 803, u'type': u'OAuthException', u'fbtrace_id': u'CVXwo7dHh41'}\n",
      "{u'message': u'(#803) Cannot query users by their username (sisse.welling)', u'code': 803, u'type': u'OAuthException', u'fbtrace_id': u'Gqhy6NIJZ/B'}\n",
      "{u'message': u'(#803) Some of the aliases you requested do not exist: ozlem.sara.cekic', u'code': 803, u'type': u'OAuthException', u'fbtrace_id': u'COr+I8EyzSN'}\n",
      "{u'message': u'(#803) Cannot query users by their username (frank.tronborg)', u'code': 803, u'type': u'OAuthException', u'fbtrace_id': u'GTOOEMNS6dg'}\n",
      "{u'message': u'(#803) Cannot query users by their username (jacob.k.vestergaard)', u'code': 803, u'type': u'OAuthException', u'fbtrace_id': u'CzLGEQfZASO'}\n",
      "{u'message': u'(#803) Some of the aliases you requested do not exist: thomasklimekSF', u'code': 803, u'type': u'OAuthException', u'fbtrace_id': u'AW7Zn8pdUy7'}\n",
      "{u'message': u'(#803) Cannot query users by their username (thomas.krog.SF)', u'code': 803, u'type': u'OAuthException', u'fbtrace_id': u'E3wSs+5FpCy'}\n",
      "{u'message': u'(#803) Cannot query users by their username (bente.donkin)', u'code': 803, u'type': u'OAuthException', u'fbtrace_id': u'ES7DuXQWhk0'}\n",
      "{u'message': u'(#803) Cannot query users by their username (nikolajbyhrmann)', u'code': 803, u'type': u'OAuthException', u'fbtrace_id': u'GZkw+6pRimW'}\n",
      "{u'message': u'(#803) Cannot query users by their username (flemming.stenild)', u'code': 803, u'type': u'OAuthException', u'fbtrace_id': u'EVHvTtPx2v9'}\n",
      "{u'message': u'(#803) Cannot query users by their username (ullabirk)', u'code': 803, u'type': u'OAuthException', u'fbtrace_id': u'BmDhRTz3HVZ'}\n",
      "{u'message': u'(#803) Cannot query users by their username (dennisoersted)', u'code': 803, u'type': u'OAuthException', u'fbtrace_id': u'BtTpLqvc86n'}\n",
      "{u'message': u'(#803) Cannot query users by their username (Rune.Bai.Nielsen)', u'code': 803, u'type': u'OAuthException', u'fbtrace_id': u'Gr2kE0Vwr+f'}\n",
      "{u'message': u'(#803) Some of the aliases you requested do not exist: udengaard', u'code': 803, u'type': u'OAuthException', u'fbtrace_id': u'BfLUFPUkNyH'}\n",
      "{u'message': u\"Unsupported get request. Object with ID 'augustvigensmolarz' does not exist, cannot be loaded due to missing permissions, or does not support this operation. Please read the Graph API documentation at https://developers.facebook.com/docs/graph-api\", u'code': 100, u'type': u'GraphMethodException', u'fbtrace_id': u'CFIhb3LAA7i'}\n",
      "{u'message': u'(#803) Cannot query users by their username (peter.nowack.71)', u'code': 803, u'type': u'OAuthException', u'fbtrace_id': u'Frr8TeQL5h1'}\n",
      "{u'message': u\"Unsupported get request. Object with ID 'favrskovifolketinget' does not exist, cannot be loaded due to missing permissions, or does not support this operation. Please read the Graph API documentation at https://developers.facebook.com/docs/graph-api\", u'code': 100, u'type': u'GraphMethodException', u'fbtrace_id': u'E07jpwJVMKT'}\n",
      "{u'message': u'(#803) Cannot query users by their username (nielschresten.andersen)', u'code': 803, u'type': u'OAuthException', u'fbtrace_id': u'EAeOJ09I0wt'}\n",
      "{u'message': u'(#803) Cannot query users by their username (anders.f.knudsen.9)', u'code': 803, u'type': u'OAuthException', u'fbtrace_id': u'H3jm/dPQX0D'}\n",
      "{u'message': u'(#803) Cannot query users by their username (per.nansted)', u'code': 803, u'type': u'OAuthException', u'fbtrace_id': u'GhQ2oKACb+z'}\n",
      "{u'message': u'(#803) Cannot query users by their username (sara.sejergaard)', u'code': 803, u'type': u'OAuthException', u'fbtrace_id': u'DYWl2Y+1mBQ'}\n",
      "{u'message': u'(#803) Cannot query users by their username (britta.eckhardt.18)', u'code': 803, u'type': u'OAuthException', u'fbtrace_id': u'GsWsFinWJBf'}\n",
      "{u'message': u'(#803) Cannot query users by their username (nick.hansen.52035)', u'code': 803, u'type': u'OAuthException', u'fbtrace_id': u'AiAYfmU6bIm'}\n",
      "{u'message': u'(#803) Cannot query users by their username (ruth.t.nielsen)', u'code': 803, u'type': u'OAuthException', u'fbtrace_id': u'AatuGShywyY'}\n",
      "{u'message': u'(#803) Cannot query users by their username (Slehm)', u'code': 803, u'type': u'OAuthException', u'fbtrace_id': u'BePgSuZemjw'}\n",
      "{u'message': u'(#803) Cannot query users by their username (gert.svendsen.90)', u'code': 803, u'type': u'OAuthException', u'fbtrace_id': u'GhY8QeaclTk'}\n",
      "{u'message': u'(#803) Cannot query users by their username (stig.grenov)', u'code': 803, u'type': u'OAuthException', u'fbtrace_id': u'EPE6TlffErh'}\n",
      "{u'message': u'(#803) Cannot query users by their username (lasse.h.rasmussen.1)', u'code': 803, u'type': u'OAuthException', u'fbtrace_id': u'Afpk6k6TdJg'}\n",
      "{u'message': u'(#803) Cannot query users by their username (birgit.jakobsen.1293)', u'code': 803, u'type': u'OAuthException', u'fbtrace_id': u'EpHgMFmflgv'}\n",
      "{u'message': u'(#803) Cannot query users by their username (kristian.andersen.9484)', u'code': 803, u'type': u'OAuthException', u'fbtrace_id': u'Guleh8Bemy4'}\n",
      "{u'message': u'(#803) Cannot query users by their username (allan.axelsen.5)', u'code': 803, u'type': u'OAuthException', u'fbtrace_id': u'D0NLxKvD4k5'}\n",
      "{u'message': u'(#803) Cannot query users by their username (esper.thidemann)', u'code': 803, u'type': u'OAuthException', u'fbtrace_id': u'DAx3440LXSc'}\n",
      "{u'message': u'(#803) Cannot query users by their username (isabella.laursen)', u'code': 803, u'type': u'OAuthException', u'fbtrace_id': u'GJfX5z/YLgt'}\n",
      "{u'message': u'(#803) Cannot query users by their username (sej11)', u'code': 803, u'type': u'OAuthException', u'fbtrace_id': u'HPGikAlGe5P'}\n",
      "{u'message': u'(#803) Cannot query users by their username (bo.haxthausen)', u'code': 803, u'type': u'OAuthException', u'fbtrace_id': u'H2TCmUuXXN8'}\n",
      "{u'message': u'(#803) Cannot query users by their username (morten.riis.73)', u'code': 803, u'type': u'OAuthException', u'fbtrace_id': u'BVvGIi2gKiC'}\n",
      "{u'message': u'(#803) Cannot query users by their username (jesper.kiel)', u'code': 803, u'type': u'OAuthException', u'fbtrace_id': u'DUmTgLO3RoY'}\n",
      "{u'message': u'(#803) Cannot query users by their username (mjaavid)', u'code': 803, u'type': u'OAuthException', u'fbtrace_id': u'FkXC2LERHNz'}\n",
      "{u'message': u'(#803) Cannot query users by their username (rune.lund.14)', u'code': 803, u'type': u'OAuthException', u'fbtrace_id': u'CcWm7H6woPx'}\n",
      "{u'message': u'(#803) Cannot query users by their username (annika.h.nielsen)', u'code': 803, u'type': u'OAuthException', u'fbtrace_id': u'EevjMncPGrY'}\n",
      "Now 394 pages left to collect.\n",
      "48 Errors\t182 Done\n",
      "{u'message': u'(#803) Cannot query users by their username (peter.mikkelsen1)', u'code': 803, u'type': u'OAuthException', u'fbtrace_id': u'FrkKgFhSqkP'}\n",
      "{u'message': u'(#803) Some of the aliases you requested do not exist: tobiasclausen123', u'code': 803, u'type': u'OAuthException', u'fbtrace_id': u'HKMQ48s4/XP'}\n",
      "{u'message': u'(#803) Cannot query users by their username (eljarb)', u'code': 803, u'type': u'OAuthException', u'fbtrace_id': u'Fd7X9v9w99T'}\n",
      "{u'message': u'(#803) Cannot query users by their username (katrinetoft.mikkelsen)', u'code': 803, u'type': u'OAuthException', u'fbtrace_id': u'FfEslGCL5JI'}\n",
      "{u'message': u'(#803) Cannot query users by their username (mads.paulsen)', u'code': 803, u'type': u'OAuthException', u'fbtrace_id': u'Bo/EAIavI+S'}\n",
      "{u'message': u'(#803) Cannot query users by their username (pelle.dragsted)', u'code': 803, u'type': u'OAuthException', u'fbtrace_id': u'C1So06XxsFB'}\n",
      "{u'message': u'(#803) Cannot query users by their username (thyge.enevoldsen)', u'code': 803, u'type': u'OAuthException', u'fbtrace_id': u'CKB/pKZ52j5'}\n",
      "Now 384 pages left to collect.\n",
      "55 Errors\t185 Done\n",
      "{u'message': u\"Unsupported get request. Object with ID 'migueljvalentineehl' does not exist, cannot be loaded due to missing permissions, or does not support this operation. Please read the Graph API documentation at https://developers.facebook.com/docs/graph-api\", u'code': 100, u'type': u'GraphMethodException', u'fbtrace_id': u'C/F9YoKWPep'}\n",
      "{u'message': u'(#803) Cannot query users by their username (peder.hvelplund)', u'code': 803, u'type': u'OAuthException', u'fbtrace_id': u'AucdEjDaKPx'}\n",
      "{u'message': u'(#803) Cannot query users by their username (margit.kjeldgaard)', u'code': 803, u'type': u'OAuthException', u'fbtrace_id': u'B2MTwXodIVh'}\n",
      "{u'message': u'Invalid token: \"profile.php\".  An ID has already been specified.', u'code': 2500, u'type': u'OAuthException', u'fbtrace_id': u'HOaPVXeqKe1'}\n",
      "{u'message': u'(#803) Cannot query users by their username (anker.schjerning)', u'code': 803, u'type': u'OAuthException', u'fbtrace_id': u'GFBvwR1o97Z'}\n",
      "{u'message': u'(#803) Cannot query users by their username (bente.lerchethomsen)', u'code': 803, u'type': u'OAuthException', u'fbtrace_id': u'HASYjn8zSki'}\n",
      "{u'message': u'(#803) Cannot query users by their username (bruno.jerup)', u'code': 803, u'type': u'OAuthException', u'fbtrace_id': u'C4JJLZJfEnC'}\n",
      "{u'message': u'(#803) Cannot query users by their username (chr.juhl)', u'code': 803, u'type': u'OAuthException', u'fbtrace_id': u'CMfBv5bt1o4'}\n",
      "{u'message': u'(#803) Cannot query users by their username (FinnKlarskovJensen)', u'code': 803, u'type': u'OAuthException', u'fbtrace_id': u'B12wrmZN4uk'}\n",
      "{u'message': u'(#803) Cannot query users by their username (ivan.mott.9)', u'code': 803, u'type': u'OAuthException', u'fbtrace_id': u'DFKcj9s1cdW'}\n",
      "{u'message': u'(#803) Cannot query users by their username (martingraffjrgensen)', u'code': 803, u'type': u'OAuthException', u'fbtrace_id': u'CywRyJMqMOW'}\n",
      "{u'message': u\"Unsupported get request. Object with ID 'troelsjuelEL' does not exist, cannot be loaded due to missing permissions, or does not support this operation. Please read the Graph API documentation at https://developers.facebook.com/docs/graph-api\", u'code': 100, u'type': u'GraphMethodException', u'fbtrace_id': u'E56Fzq5Va7v'}\n",
      "{u'message': u'(#803) Cannot query users by their username (anders.k.brandt)', u'code': 803, u'type': u'OAuthException', u'fbtrace_id': u'C8YLE/4q4TK'}\n",
      "{u'message': u'(#803) Cannot query users by their username (helge.bo.jensen)', u'code': 803, u'type': u'OAuthException', u'fbtrace_id': u'DziF2CfYtRb'}\n",
      "Now 364 pages left to collect.\n",
      "69 Errors\t191 Done\n",
      "{u'message': u'(#803) Some of the aliases you requested do not exist: heidi.steenberg.10', u'code': 803, u'type': u'OAuthException', u'fbtrace_id': u'GK6SNyRefmF'}\n",
      "{u'message': u'(#803) Cannot query users by their username (joern.vedel)', u'code': 803, u'type': u'OAuthException', u'fbtrace_id': u'Bqx3VmGa9Tu'}\n",
      "Now 359 pages left to collect.\n",
      "71 Errors\t194 Done\n",
      "{u'message': u'(#803) Cannot query users by their username (else.kayser)', u'code': 803, u'type': u'OAuthException', u'fbtrace_id': u'HJmQfscd2Rl'}\n",
      "{u'message': u\"Unsupported get request. Object with ID '187509994746640' does not exist, cannot be loaded due to missing permissions, or does not support this operation. Please read the Graph API documentation at https://developers.facebook.com/docs/graph-api\", u'code': 100, u'type': u'GraphMethodException', u'fbtrace_id': u'Aan5v+kPoH8'}\n",
      "{u'message': u'Invalid token: \"profile.php\".  An ID has already been specified.', u'code': 2500, u'type': u'OAuthException', u'fbtrace_id': u'HhMJIJD6V8z'}\n",
      "{u'message': u'(#803) Cannot query users by their username (anne.thomas.73113)', u'code': 803, u'type': u'OAuthException', u'fbtrace_id': u'GkXHslzbz+e'}\n",
      "{u'message': u'(#803) Cannot query users by their username (DanWesterholt)', u'code': 803, u'type': u'OAuthException', u'fbtrace_id': u'HoJ0y7+05Jc'}\n",
      "{u'message': u'(#803) Some of the aliases you requested do not exist: bosteenalternativet', u'code': 803, u'type': u'OAuthException', u'fbtrace_id': u'Dpl/JHpfB5V'}\n",
      "{u'message': u'Invalid token: \"profile.php\".  An ID has already been specified.', u'code': 2500, u'type': u'OAuthException', u'fbtrace_id': u'CGi5NCquzb4'}\n",
      "{u'message': u'(#803) Cannot query users by their username (ryan.lund.miljoe)', u'code': 803, u'type': u'OAuthException', u'fbtrace_id': u'GXgVg0GKWJg'}\n",
      "{u'message': u'(#803) Cannot query users by their username (e.v.fischer)', u'code': 803, u'type': u'OAuthException', u'fbtrace_id': u'Gp9NPBbpGwC'}\n",
      "{u'message': u'(#803) Cannot query users by their username (franciska.rosenkilde)', u'code': 803, u'type': u'OAuthException', u'fbtrace_id': u'FTJPUT3MaX5'}\n",
      "{u'message': u'(#803) Some of the aliases you requested do not exist: jacobfuglsangalternativet', u'code': 803, u'type': u'OAuthException', u'fbtrace_id': u'EO4MusFmuUg'}\n",
      "{u'message': u'(#803) Cannot query users by their username (jan.kristoffersen.353)', u'code': 803, u'type': u'OAuthException', u'fbtrace_id': u'AfhmIm3cQ9z'}\n",
      "{u'message': u'(#803) Cannot query users by their username (NilasNilas)', u'code': 803, u'type': u'OAuthException', u'fbtrace_id': u'BTTAKiwiQs0'}\n",
      "{u'message': u'(#803) Some of the aliases you requested do not exist: uzmaahmedalternativet', u'code': 803, u'type': u'OAuthException', u'fbtrace_id': u'CP6PVWBzY4L'}\n",
      "{u'message': u'Invalid token: \"profile.php\".  An ID has already been specified.', u'code': 2500, u'type': u'OAuthException', u'fbtrace_id': u'EYVtkVJcgCM'}\n",
      "{u'message': u\"Unsupported get request. Object with ID 'politikeren.kennith.nielsen' does not exist, cannot be loaded due to missing permissions, or does not support this operation. Please read the Graph API documentation at https://developers.facebook.com/docs/graph-api\", u'code': 100, u'type': u'GraphMethodException', u'fbtrace_id': u'GBnvIce/cXZ'}\n",
      "{u'message': u'(#803) Cannot query users by their username (bina.seff)', u'code': 803, u'type': u'OAuthException', u'fbtrace_id': u'GjNzURuYuen'}\n",
      "{u'message': u'(#803) Cannot query users by their username (christianpoll)', u'code': 803, u'type': u'OAuthException', u'fbtrace_id': u'BudS93ufMUB'}\n",
      "{u'message': u'Invalid token: \"profile.php\".  An ID has already been specified.', u'code': 2500, u'type': u'OAuthException', u'fbtrace_id': u'GmiJM9airxE'}\n",
      "{u'message': u'(#803) Cannot query users by their username (michael.arnskov)', u'code': 803, u'type': u'OAuthException', u'fbtrace_id': u'CObnQwVY2aD'}\n",
      "{u'message': u'(#803) Cannot query users by their username (carsten.bering.jakobsen)', u'code': 803, u'type': u'OAuthException', u'fbtrace_id': u'HR53HksxSOz'}\n",
      "{u'message': u\"Unsupported get request. Object with ID '427907994037061' does not exist, cannot be loaded due to missing permissions, or does not support this operation. Please read the Graph API documentation at https://developers.facebook.com/docs/graph-api\", u'code': 100, u'type': u'GraphMethodException', u'fbtrace_id': u'EVzE/X96gtW'}\n",
      "{u'message': u'Invalid token: \"profile.php\".  An ID has already been specified.', u'code': 2500, u'type': u'OAuthException', u'fbtrace_id': u'HTACYCBIVms'}\n",
      "{u'message': u'(#803) Some of the aliases you requested do not exist: Tanja.Schjellerup.Folketingskandidat', u'code': 803, u'type': u'OAuthException', u'fbtrace_id': u'CO/EbG03IUa'}\n",
      "{u'message': u'(#803) Cannot query users by their username (bjarkecharlie.serritslev)', u'code': 803, u'type': u'OAuthException', u'fbtrace_id': u'DxagaizYVZG'}\n",
      "{u'message': u'(#803) Cannot query users by their username (jane.k.kock)', u'code': 803, u'type': u'OAuthException', u'fbtrace_id': u'CZ8ll2fW6gO'}\n",
      "{u'message': u'(#803) Cannot query users by their username (khyttel)', u'code': 803, u'type': u'OAuthException', u'fbtrace_id': u'GUyDlELqoE1'}\n",
      "{u'message': u'Invalid token: \"profile.php\".  An ID has already been specified.', u'code': 2500, u'type': u'OAuthException', u'fbtrace_id': u'DRixel7DjDE'}\n",
      "{u'message': u'Invalid token: \"profile.php\".  An ID has already been specified.', u'code': 2500, u'type': u'OAuthException', u'fbtrace_id': u'GWE3MvLwUwe'}\n",
      "{u'message': u'(#803) Cannot query users by their username (saschaqvortrup.alternativet)', u'code': 803, u'type': u'OAuthException', u'fbtrace_id': u'D+eLGZkbj/Q'}\n",
      "{u'message': u'(#803) Cannot query users by their username (alexander.with)', u'code': 803, u'type': u'OAuthException', u'fbtrace_id': u'DannWtKQddZ'}\n",
      "{u'message': u'(#803) Cannot query users by their username (anders.s.lind.75)', u'code': 803, u'type': u'OAuthException', u'fbtrace_id': u'Dy+91QDm+LO'}\n",
      "{u'message': u'(#803) Cannot query users by their username (jespernorgaard.kjaer)', u'code': 803, u'type': u'OAuthException', u'fbtrace_id': u'Fd+4GPzwdiG'}\n",
      "{u'message': u'(#803) Cannot query users by their username (jgrantzau)', u'code': 803, u'type': u'OAuthException', u'fbtrace_id': u'HmhPBcKtsZV'}\n",
      "{u'message': u'(#803) Cannot query users by their username (lars.pallesen.35)', u'code': 803, u'type': u'OAuthException', u'fbtrace_id': u'CAOtNVFanGB'}\n",
      "{u'message': u'(#803) Cannot query users by their username (lena.agger)', u'code': 803, u'type': u'OAuthException', u'fbtrace_id': u'AWlwS/VVfP8'}\n",
      "{u'message': u'(#803) Cannot query users by their username (steen.ragard)', u'code': 803, u'type': u'OAuthException', u'fbtrace_id': u'FEbHbqLnwXI'}\n",
      "{u'message': u'(#803) Some of the aliases you requested do not exist: Thomas.Risum.Rasmussen', u'code': 803, u'type': u'OAuthException', u'fbtrace_id': u'GY+PBKDvGEZ'}\n",
      "{u'message': u'(#803) Some of the aliases you requested do not exist: vibeke.genefke', u'code': 803, u'type': u'OAuthException', u'fbtrace_id': u'DZRwKqU5Ybp'}\n",
      "{u'message': u'(#803) Cannot query users by their username (elsemereteknoop.politik)', u'code': 803, u'type': u'OAuthException', u'fbtrace_id': u'GnY4L5NiCdp'}\n",
      "{u'message': u'(#803) Cannot query users by their username (peter.juel.jensen)', u'code': 803, u'type': u'OAuthException', u'fbtrace_id': u'GyA1lmHDBm5'}\n",
      "{u'message': u'(#803) Cannot query users by their username (anne.melvig)', u'code': 803, u'type': u'OAuthException', u'fbtrace_id': u'EQrlQtaBRip'}\n",
      "{u'message': u'(#803) Cannot query users by their username (claus.houden)', u'code': 803, u'type': u'OAuthException', u'fbtrace_id': u'A5g3QFeGUYi'}\n",
      "{u'message': u'(#803) Cannot query users by their username (jane.heitmann)', u'code': 803, u'type': u'OAuthException', u'fbtrace_id': u'CD/H7BIDsyD'}\n",
      "{u'message': u'(#803) Cannot query users by their username (marlene.amborasmussen)', u'code': 803, u'type': u'OAuthException', u'fbtrace_id': u'GHnAH4MBWLJ'}\n",
      "{u'message': u'(#803) Some of the aliases you requested do not exist: profile.php', u'code': 803, u'type': u'OAuthException', u'fbtrace_id': u'EO/UjVRUKP/'}\n",
      "{u'message': u'(#803) Cannot query users by their username (karlerik.jensen)', u'code': 803, u'type': u'OAuthException', u'fbtrace_id': u'H1ijkoB76A4'}\n",
      "{u'message': u'(#803) Cannot query users by their username (mortenmunk.ebbesen)', u'code': 803, u'type': u'OAuthException', u'fbtrace_id': u'HqvBt7TZB8i'}\n",
      "{u'message': u\"Unsupported get request. Object with ID '782955565102811' does not exist, cannot be loaded due to missing permissions, or does not support this operation. Please read the Graph API documentation at https://developers.facebook.com/docs/graph-api\", u'code': 100, u'type': u'GraphMethodException', u'fbtrace_id': u'A3cwICj2UYr'}\n",
      "{u'message': u'(#803) Cannot query users by their username (omer.ciftci2)', u'code': 803, u'type': u'OAuthException', u'fbtrace_id': u'AlS9DJwfsH0'}\n",
      "{u'message': u'(#803) Cannot query users by their username (jan.e.venstre)', u'code': 803, u'type': u'OAuthException', u'fbtrace_id': u'BwqtAQ+D1JZ'}\n",
      "{u'message': u'(#803) Some of the aliases you requested do not exist: kaaretrabergsmid', u'code': 803, u'type': u'OAuthException', u'fbtrace_id': u'GOEWLLqSR0g'}\n",
      "{u'message': u'(#803) Cannot query users by their username (michael.jellesmark)', u'code': 803, u'type': u'OAuthException', u'fbtrace_id': u'AKgF+qZqCsv'}\n",
      "{u'message': u'(#803) Cannot query users by their username (michael.lange.3939)', u'code': 803, u'type': u'OAuthException', u'fbtrace_id': u'AiDE5LEkmQd'}\n",
      "{u'message': u'(#803) Cannot query users by their username (svenaage.schlosrich)', u'code': 803, u'type': u'OAuthException', u'fbtrace_id': u'EF1MuZ8kgDP'}\n",
      "{u'message': u\"Unsupported get request. Object with ID 'vsorenpind' does not exist, cannot be loaded due to missing permissions, or does not support this operation. Please read the Graph API documentation at https://developers.facebook.com/docs/graph-api\", u'code': 100, u'type': u'GraphMethodException', u'fbtrace_id': u'BFYjDNxQlT+'}\n",
      "{u'message': u'(#803) Cannot query users by their username (SoerenSoerensen)', u'code': 803, u'type': u'OAuthException', u'fbtrace_id': u'FIjWPEo7KiD'}\n",
      "{u'message': u'(#803) Cannot query users by their username (mogens.brag)', u'code': 803, u'type': u'OAuthException', u'fbtrace_id': u'FGHGoJfAv+o'}\n",
      "{u'message': u'(#803) Cannot query users by their username (per.d.bisgaard)', u'code': 803, u'type': u'OAuthException', u'fbtrace_id': u'GPZmTAvtkmg'}\n",
      "{u'message': u'(#803) Cannot query users by their username (klausmarkussen)', u'code': 803, u'type': u'OAuthException', u'fbtrace_id': u'Gpx4hkgEwZA'}\n",
      "{u'message': u'(#803) Cannot query users by their username (soren.hyldgaard1)', u'code': 803, u'type': u'OAuthException', u'fbtrace_id': u'FOuMzBL/lhx'}\n",
      "{u'message': u'(#803) Cannot query users by their username (fdlarsen)', u'code': 803, u'type': u'OAuthException', u'fbtrace_id': u'E15k+JJS04I'}\n",
      "{u'message': u'(#803) Cannot query users by their username (jens.hald.5)', u'code': 803, u'type': u'OAuthException', u'fbtrace_id': u'DjYC7Jb1wMG'}\n",
      "{u'message': u'(#803) Some of the aliases you requested do not exist: marcusknuth100', u'code': 803, u'type': u'OAuthException', u'fbtrace_id': u'EAhQABQ/3Z7'}\n",
      "{u'message': u'(#803) Cannot query users by their username (anni.matthiesen.3)', u'code': 803, u'type': u'OAuthException', u'fbtrace_id': u'AVQvJzBRLNX'}\n",
      "{u'message': u\"Unsupported get request. Object with ID 'carlholstvenstre' does not exist, cannot be loaded due to missing permissions, or does not support this operation. Please read the Graph API documentation at https://developers.facebook.com/docs/graph-api\", u'code': 100, u'type': u'GraphMethodException', u'fbtrace_id': u'E0b365pEaHI'}\n",
      "{u'message': u'(#803) Some of the aliases you requested do not exist: profile.php', u'code': 803, u'type': u'OAuthException', u'fbtrace_id': u'Cjk3C52q1d4'}\n",
      "{u'message': u'(#803) Cannot query users by their username (hans.thoning)', u'code': 803, u'type': u'OAuthException', u'fbtrace_id': u'BQUfozL67gP'}\n",
      "{u'message': u'(#803) Cannot query users by their username (jensejner)', u'code': 803, u'type': u'OAuthException', u'fbtrace_id': u'H6b97M+nQ/e'}\n",
      "{u'message': u'Invalid token: \"profile.php\".  An ID has already been specified.', u'code': 2500, u'type': u'OAuthException', u'fbtrace_id': u'DQkLOytcXIz'}\n",
      "{u'message': u'(#803) Cannot query users by their username (karlvh.plougstruppetersen)', u'code': 803, u'type': u'OAuthException', u'fbtrace_id': u'GDi/950ifjH'}\n",
      "{u'message': u'(#803) Cannot query users by their username (lennarth.j.hansen)', u'code': 803, u'type': u'OAuthException', u'fbtrace_id': u'FqnGlGSafpV'}\n",
      "{u'message': u'(#803) Some of the aliases you requested do not exist: peterchristensen.dk', u'code': 803, u'type': u'OAuthException', u'fbtrace_id': u'ECcYHeDG92V'}\n",
      "{u'message': u'(#803) Cannot query users by their username (carsten.kissmeyer)', u'code': 803, u'type': u'OAuthException', u'fbtrace_id': u'F3mhxdDoD9U'}\n",
      "{u'message': u\"Unsupported get request. Object with ID '1442954625922140' does not exist, cannot be loaded due to missing permissions, or does not support this operation. Please read the Graph API documentation at https://developers.facebook.com/docs/graph-api\", u'code': 100, u'type': u'GraphMethodException', u'fbtrace_id': u'HexkvWeimZ4'}\n",
      "{u'message': u'(#803) Cannot query users by their username (kristian.p.lorentzen)', u'code': 803, u'type': u'OAuthException', u'fbtrace_id': u'DYTKtNPmKtQ'}\n",
      "{u'message': u\"Unsupported get request. Object with ID 'madsrorvig.dk' does not exist, cannot be loaded due to missing permissions, or does not support this operation. Please read the Graph API documentation at https://developers.facebook.com/docs/graph-api\", u'code': 100, u'type': u'GraphMethodException', u'fbtrace_id': u'BqfPwEiM7aJ'}\n",
      "{u'message': u'(#803) Cannot query users by their username (marianne.bredal)', u'code': 803, u'type': u'OAuthException', u'fbtrace_id': u'DHZuz+kp8l5'}\n",
      "{u'message': u'(#803) Some of the aliases you requested do not exist: profile.php', u'code': 803, u'type': u'OAuthException', u'fbtrace_id': u'Fv0AzxG7JC5'}\n",
      "{u'message': u'(#803) Cannot query users by their username (anders.buhlchristensen)', u'code': 803, u'type': u'OAuthException', u'fbtrace_id': u'E46PfMPXBsF'}\n",
      "{u'message': u'(#803) Cannot query users by their username (annemette.w.christiansen)', u'code': 803, u'type': u'OAuthException', u'fbtrace_id': u'EuUJ7EPiyOk'}\n",
      "{u'message': u'(#803) Cannot query users by their username (fatmaoektem)', u'code': 803, u'type': u'OAuthException', u'fbtrace_id': u'BW6OsfJioR2'}\n",
      "{u'message': u'(#803) Cannot query users by their username (finn.thranum)', u'code': 803, u'type': u'OAuthException', u'fbtrace_id': u'B2LdVUdPyef'}\n",
      "{u'message': u'(#803) Cannot query users by their username (gert.bjerregaard.9)', u'code': 803, u'type': u'OAuthException', u'fbtrace_id': u'HfVPqrWBf1d'}\n",
      "{u'message': u'(#803) Cannot query users by their username (Ellemann)', u'code': 803, u'type': u'OAuthException', u'fbtrace_id': u'CTyz5mQY2va'}\n",
      "{u'message': u'(#803) Cannot query users by their username (kim.andersen.venstre)', u'code': 803, u'type': u'OAuthException', u'fbtrace_id': u'Fbjcf8RqpIs'}\n",
      "{u'message': u'(#803) Some of the aliases you requested do not exist: BjornBjerreho', u'code': 803, u'type': u'OAuthException', u'fbtrace_id': u'C4QF6HTmfMN'}\n",
      "{u'message': u'(#803) Some of the aliases you requested do not exist: cheri.mae.m.williamsom', u'code': 803, u'type': u'OAuthException', u'fbtrace_id': u'FahluG74wBd'}\n",
      "{u'message': u\"Unsupported get request. Object with ID 'jjpedersen' does not exist, cannot be loaded due to missing permissions, or does not support this operation. Please read the Graph API documentation at https://developers.facebook.com/docs/graph-api\", u'code': 100, u'type': u'GraphMethodException', u'fbtrace_id': u'GmabQeRbegW'}\n",
      "{u'message': u'(#803) Cannot query users by their username (karsten.lauritsen.3)', u'code': 803, u'type': u'OAuthException', u'fbtrace_id': u'Dyxn9pDFMv5'}\n",
      "{u'message': u\"Unsupported get request. Object with ID 'niels.wanning' does not exist, cannot be loaded due to missing permissions, or does not support this operation. Please read the Graph API documentation at https://developers.facebook.com/docs/graph-api\", u'code': 100, u'type': u'GraphMethodException', u'fbtrace_id': u'DcUalxImA4Z'}\n",
      "{u'message': u'(#803) Cannot query users by their username (pernille.boyekoch.7)', u'code': 803, u'type': u'OAuthException', u'fbtrace_id': u'FEHz4SUWtYr'}\n",
      "{u'message': u'(#803) Cannot query users by their username (Kjeld.Lundager.Jorgensen)', u'code': 803, u'type': u'OAuthException', u'fbtrace_id': u'By34bff5s+t'}\n",
      "{u'message': u'(#803) Cannot query users by their username (anne.marie.geisler.andersen)', u'code': 803, u'type': u'OAuthException', u'fbtrace_id': u'ENO0Eq5IR7L'}\n",
      "{u'message': u'(#803) Cannot query users by their username (camilla.kampmann)', u'code': 803, u'type': u'OAuthException', u'fbtrace_id': u'EKIM0MCR31T'}\n",
      "{u'message': u'(#803) Cannot query users by their username (sannebjoern)', u'code': 803, u'type': u'OAuthException', u'fbtrace_id': u'HUQC3LGok0x'}\n",
      "{u'message': u'Page ID 762253443888376 was migrated to page ID 813408925503835.  Please update your API calls to the new ID', u'code': 21, u'type': u'OAuthException', u'fbtrace_id': u'CYgpfApWu1J'}\n",
      "{u'message': u'(#803) Cannot query users by their username (thorhauge)', u'code': 803, u'type': u'OAuthException', u'fbtrace_id': u'DvW9Le12d9+'}\n",
      "{u'message': u'(#803) Cannot query users by their username (ClausBedstforBornholm)', u'code': 803, u'type': u'OAuthException', u'fbtrace_id': u'EKrIkyx/5j4'}\n",
      "{u'message': u'(#803) Cannot query users by their username (lars.goldschmidt.3)', u'code': 803, u'type': u'OAuthException', u'fbtrace_id': u'GSC75FXIhEW'}\n",
      "{u'message': u'(#803) Cannot query users by their username (lea.wermelin)', u'code': 803, u'type': u'OAuthException', u'fbtrace_id': u'DV8ma3AR+lU'}\n",
      "{u'message': u\"Unsupported get request. Object with ID 'frede.skaaning' does not exist, cannot be loaded due to missing permissions, or does not support this operation. Please read the Graph API documentation at https://developers.facebook.com/docs/graph-api\", u'code': 100, u'type': u'GraphMethodException', u'fbtrace_id': u'BTQhizwxvPR'}\n",
      "{u'message': u\"Unsupported get request. Object with ID '480141232035843' does not exist, cannot be loaded due to missing permissions, or does not support this operation. Please read the Graph API documentation at https://developers.facebook.com/docs/graph-api\", u'code': 100, u'type': u'GraphMethodException', u'fbtrace_id': u'G4cnyRv/vEK'}\n",
      "{u'message': u'(#803) Some of the aliases you requested do not exist: jesperhostruppilitiker', u'code': 803, u'type': u'OAuthException', u'fbtrace_id': u'Etl5KnjiyVz'}\n",
      "{u'message': u'(#803) Cannot query users by their username (kennethfc1976)', u'code': 803, u'type': u'OAuthException', u'fbtrace_id': u'CyK9VCVsrJ6'}\n",
      "{u'message': u'(#803) Cannot query users by their username (SimonPihlSorensen)', u'code': 803, u'type': u'OAuthException', u'fbtrace_id': u'AnUC6No3xvW'}\n",
      "{u'message': u'(#803) Cannot query users by their username (bokomler)', u'code': 803, u'type': u'OAuthException', u'fbtrace_id': u'G8UsJdtvPp3'}\n",
      "{u'message': u'(#803) Cannot query users by their username (ditte.brondum)', u'code': 803, u'type': u'OAuthException', u'fbtrace_id': u'ADSBuocq3Y1'}\n",
      "{u'message': u\"Unsupported get request. Object with ID 'kristian.w.jensen' does not exist, cannot be loaded due to missing permissions, or does not support this operation. Please read the Graph API documentation at https://developers.facebook.com/docs/graph-api\", u'code': 100, u'type': u'GraphMethodException', u'fbtrace_id': u'BZwU/eiAbRG'}\n",
      "{u'message': u'(#803) Some of the aliases you requested do not exist: lars.a.rasmussen.9', u'code': 803, u'type': u'OAuthException', u'fbtrace_id': u'DPFBiBQFA49'}\n",
      "{u'message': u'(#803) Cannot query users by their username (simonsjoerupsimonsen)', u'code': 803, u'type': u'OAuthException', u'fbtrace_id': u'EXD6CRzogl1'}\n",
      "{u'message': u'(#803) Cannot query users by their username (YildizAkdogan)', u'code': 803, u'type': u'OAuthException', u'fbtrace_id': u'BH83bzj7fFO'}\n",
      "{u'message': u'(#803) Cannot query users by their username (bjarne.laustsen.5)', u'code': 803, u'type': u'OAuthException', u'fbtrace_id': u'HNb/obNYo19'}\n",
      "{u'message': u'Invalid token: \"profile.php\".  An ID has already been specified.', u'code': 2500, u'type': u'OAuthException', u'fbtrace_id': u'GtJuPzOwcN2'}\n",
      "{u'message': u'(#803) Cannot query users by their username (peter.duetoft)', u'code': 803, u'type': u'OAuthException', u'fbtrace_id': u'CInmxpT6eXl'}\n",
      "{u'message': u'(#803) Cannot query users by their username (antorini)', u'code': 803, u'type': u'OAuthException', u'fbtrace_id': u'EgepBJA9VB/'}\n",
      "{u'message': u'(#803) Cannot query users by their username (pschnoor)', u'code': 803, u'type': u'OAuthException', u'fbtrace_id': u'Bcst8c75tgU'}\n",
      "{u'message': u'(#803) Cannot query users by their username (jeanniethorvinghansen)', u'code': 803, u'type': u'OAuthException', u'fbtrace_id': u'Bb3OkCvBsZp'}\n",
      "{u'message': u'(#803) Some of the aliases you requested do not exist: tom.block.larsen', u'code': 803, u'type': u'OAuthException', u'fbtrace_id': u'EnQmT+AMvmz'}\n",
      "{u'message': u'(#803) Cannot query users by their username (annesina)', u'code': 803, u'type': u'OAuthException', u'fbtrace_id': u'DdoKUWfm2E9'}\n",
      "{u'message': u'(#803) Some of the aliases you requested do not exist: corydonbjarne', u'code': 803, u'type': u'OAuthException', u'fbtrace_id': u'Ab0RC7RXi8y'}\n",
      "{u'message': u'(#803) Cannot query users by their username (frank.mosegaard)', u'code': 803, u'type': u'OAuthException', u'fbtrace_id': u'HU+Pr/YFivn'}\n",
      "{u'message': u\"Unsupported get request. Object with ID '676680495744670' does not exist, cannot be loaded due to missing permissions, or does not support this operation. Please read the Graph API documentation at https://developers.facebook.com/docs/graph-api\", u'code': 100, u'type': u'GraphMethodException', u'fbtrace_id': u'AWchSK0Q6GP'}\n",
      "{u'message': u'(#803) Some of the aliases you requested do not exist: JanSalskoviFolketinget', u'code': 803, u'type': u'OAuthException', u'fbtrace_id': u'E48YhqSza9O'}\n",
      "{u'message': u'(#803) Cannot query users by their username (karenjklint)', u'code': 803, u'type': u'OAuthException', u'fbtrace_id': u'F0lz8g4TuOI'}\n",
      "{u'message': u'(#803) Cannot query users by their username (nielsolebeck)', u'code': 803, u'type': u'OAuthException', u'fbtrace_id': u'G0a/1qI7a/d'}\n",
      "{u'message': u'(#803) Some of the aliases you requested do not exist: AnnetteLindMF', u'code': 803, u'type': u'OAuthException', u'fbtrace_id': u'Czhd3/oqPRb'}\n",
      "{u'message': u'Invalid token: \"profile.php\".  An ID has already been specified.', u'code': 2500, u'type': u'OAuthException', u'fbtrace_id': u'C5nN3QcCd8H'}\n",
      "{u'message': u\"Unsupported get request. Object with ID 'HelleDamSocialdemokrat.' does not exist, cannot be loaded due to missing permissions, or does not support this operation. Please read the Graph API documentation at https://developers.facebook.com/docs/graph-api\", u'code': 100, u'type': u'GraphMethodException', u'fbtrace_id': u'FxOKqC/U2jT'}\n",
      "{u'message': u\"Unsupported get request. Object with ID 'KarinG' does not exist, cannot be loaded due to missing permissions, or does not support this operation. Please read the Graph API documentation at https://developers.facebook.com/docs/graph-api\", u'code': 100, u'type': u'GraphMethodException', u'fbtrace_id': u'H1T25eFRy/I'}\n",
      "{u'message': u'(#803) Cannot query users by their username (Kasper.skov.andersen.1)', u'code': 803, u'type': u'OAuthException', u'fbtrace_id': u'AUGkVxbcm4H'}\n",
      "{u'message': u'(#803) Some of the aliases you requested do not exist: christensoerensen45', u'code': 803, u'type': u'OAuthException', u'fbtrace_id': u'Ei0AVeQg3d4'}\n",
      "{u'message': u'(#803) Cannot query users by their username (thyge.r.hansen)', u'code': 803, u'type': u'OAuthException', u'fbtrace_id': u'B8ueGFZT/QT'}\n",
      "{u'message': u'(#803) Cannot query users by their username (johnerik.wagner)', u'code': 803, u'type': u'OAuthException', u'fbtrace_id': u'Bg1GNf1rOgG'}\n",
      "{u'message': u'(#803) Cannot query users by their username (lassenshop)', u'code': 803, u'type': u'OAuthException', u'fbtrace_id': u'GMMyc0B05Du'}\n",
      "{u'message': u'(#803) Cannot query users by their username (betina.s.stick)', u'code': 803, u'type': u'OAuthException', u'fbtrace_id': u'FrgE70UBJqp'}\n",
      "{u'message': u'(#803) Cannot query users by their username (carsten.kudsk)', u'code': 803, u'type': u'OAuthException', u'fbtrace_id': u'E+xhPuvxg5w'}\n",
      "{u'message': u\"Unsupported get request. Object with ID '130545526988567' does not exist, cannot be loaded due to missing permissions, or does not support this operation. Please read the Graph API documentation at https://developers.facebook.com/docs/graph-api\", u'code': 100, u'type': u'GraphMethodException', u'fbtrace_id': u'B8z9bC2KkZ6'}\n",
      "{u'message': u'(#803) Cannot query users by their username (agehansen.priisholm)', u'code': 803, u'type': u'OAuthException', u'fbtrace_id': u'CaFaxzHO/jI'}\n",
      "{u'message': u'(#803) Cannot query users by their username (aia.fog)', u'code': 803, u'type': u'OAuthException', u'fbtrace_id': u'Eay0tALM85X'}\n",
      "{u'message': u'Invalid token: \"profile.php\".  An ID has already been specified.', u'code': 2500, u'type': u'OAuthException', u'fbtrace_id': u'GcV4BQG/HTX'}\n",
      "{u'message': u'(#803) Cannot query users by their username (jette.dali)', u'code': 803, u'type': u'OAuthException', u'fbtrace_id': u'BLofgouWDJv'}\n",
      "{u'message': u\"Unsupported get request. Object with ID 'DFValby' does not exist, cannot be loaded due to missing permissions, or does not support this operation. Please read the Graph API documentation at https://developers.facebook.com/docs/graph-api\", u'code': 100, u'type': u'GraphMethodException', u'fbtrace_id': u'COtPCyfK4nP'}\n",
      "{u'message': u\"Unsupported get request. Object with ID 'gertingolfjohansen' does not exist, cannot be loaded due to missing permissions, or does not support this operation. Please read the Graph API documentation at https://developers.facebook.com/docs/graph-api\", u'code': 100, u'type': u'GraphMethodException', u'fbtrace_id': u'FtwwN5jPKVH'}\n",
      "{u'message': u'Invalid token: \"profile.php\".  An ID has already been specified.', u'code': 2500, u'type': u'OAuthException', u'fbtrace_id': u'EO34Q3Wgqnu'}\n",
      "{u'message': u'(#803) Some of the aliases you requested do not exist: jeppepaaborgen', u'code': 803, u'type': u'OAuthException', u'fbtrace_id': u'EFX6J/Ql/LA'}\n",
      "{u'message': u'(#803) Cannot query users by their username (callesenjan)', u'code': 803, u'type': u'OAuthException', u'fbtrace_id': u'HZnF9Hn+hcS'}\n",
      "{u'message': u'(#803) Cannot query users by their username (jesper.strom)', u'code': 803, u'type': u'OAuthException', u'fbtrace_id': u'FBKrkUWuhy8'}\n",
      "{u'message': u'Invalid token: \"profile.php\".  An ID has already been specified.', u'code': 2500, u'type': u'OAuthException', u'fbtrace_id': u'CIegj+LgNEd'}\n",
      "{u'message': u'(#803) Some of the aliases you requested do not exist: martinlangedf', u'code': 803, u'type': u'OAuthException', u'fbtrace_id': u'FfSDFaWisZ6'}\n",
      "{u'message': u'(#803) Cannot query users by their username (mette.h.dencker)', u'code': 803, u'type': u'OAuthException', u'fbtrace_id': u'A3y+l4SlRWn'}\n",
      "{u'message': u'(#803) Cannot query users by their username (Ianto.t.d.gerdes)', u'code': 803, u'type': u'OAuthException', u'fbtrace_id': u'BFU0Pfs0dZA'}\n",
      "{u'message': u'(#803) Cannot query users by their username (peter.kaasclaesson)', u'code': 803, u'type': u'OAuthException', u'fbtrace_id': u'Cjf2h7Q0uie'}\n",
      "{u'message': u\"Unsupported get request. Object with ID 'cstrunge' does not exist, cannot be loaded due to missing permissions, or does not support this operation. Please read the Graph API documentation at https://developers.facebook.com/docs/graph-api\", u'code': 100, u'type': u'GraphMethodException', u'fbtrace_id': u'C0FWw2olRm5'}\n",
      "{u'message': u'(#803) Cannot query users by their username (madsholger)', u'code': 803, u'type': u'OAuthException', u'fbtrace_id': u'B0OksQSS/it'}\n",
      "{u'message': u'(#803) Cannot query users by their username (merete.scheelsbeck.7)', u'code': 803, u'type': u'OAuthException', u'fbtrace_id': u'BKm3jNdDBLy'}\n",
      "{u'message': u'(#803) Some of the aliases you requested do not exist: profile.php', u'code': 803, u'type': u'OAuthException', u'fbtrace_id': u'Ch1gjex0TSW'}\n",
      "{u'message': u'(#803) Some of the aliases you requested do not exist: josefine.kofoed.christiansen', u'code': 803, u'type': u'OAuthException', u'fbtrace_id': u'GyzsqsfO/+z'}\n",
      "{u'message': u\"Unsupported get request. Object with ID 'MindreStatMereMenneske' does not exist, cannot be loaded due to missing permissions, or does not support this operation. Please read the Graph API documentation at https://developers.facebook.com/docs/graph-api\", u'code': 100, u'type': u'GraphMethodException', u'fbtrace_id': u'FGfJHVhp3bH'}\n",
      "{u'message': u'(#803) Cannot query users by their username (brigitte.jerkel)', u'code': 803, u'type': u'OAuthException', u'fbtrace_id': u'FwpFq7FEWyI'}\n",
      "{u'message': u'(#803) Cannot query users by their username (marielouise.friderichsen)', u'code': 803, u'type': u'OAuthException', u'fbtrace_id': u'GnYBj874kO9'}\n",
      "{u'message': u'(#803) Cannot query users by their username (arnloev)', u'code': 803, u'type': u'OAuthException', u'fbtrace_id': u'F27jMQI+N6Y'}\n",
      "{u'message': u\"Unsupported get request. Object with ID '419200721571789' does not exist, cannot be loaded due to missing permissions, or does not support this operation. Please read the Graph API documentation at https://developers.facebook.com/docs/graph-api\", u'code': 100, u'type': u'GraphMethodException', u'fbtrace_id': u'B23ap2jO5jT'}\n",
      "Now 49 pages left to collect.\n",
      "234 Errors\t199 Done\n",
      "{u'message': u'(#803) Cannot query users by their username (bjarne.lundgaard.3)', u'code': 803, u'type': u'OAuthException', u'fbtrace_id': u'CEsuTRh7PIt'}\n",
      "{u'message': u'Invalid token: \"profile.php\".  An ID has already been specified.', u'code': 2500, u'type': u'OAuthException', u'fbtrace_id': u'CQX7taNMVjt'}\n",
      "{u'message': u'(#803) Cannot query users by their username (JensSpaabaek)', u'code': 803, u'type': u'OAuthException', u'fbtrace_id': u'DXbBICgGYuq'}\n",
      "{u'message': u'(#803) Cannot query users by their username (karstenk)', u'code': 803, u'type': u'OAuthException', u'fbtrace_id': u'CIi/v74dpq5'}\n",
      "{u'message': u'(#803) Some of the aliases you requested do not exist: naser.khader.39', u'code': 803, u'type': u'OAuthException', u'fbtrace_id': u'F9Wk1ngdqj6'}\n",
      "{u'message': u'(#803) Some of the aliases you requested do not exist: plokken', u'code': 803, u'type': u'OAuthException', u'fbtrace_id': u'CvNu/ft9kQ8'}\n",
      "{u'message': u'(#803) Cannot query users by their username (samina.shah.944)', u'code': 803, u'type': u'OAuthException', u'fbtrace_id': u'FY7wLy5qA9M'}\n",
      "{u'message': u'(#803) Cannot query users by their username (paintshooter)', u'code': 803, u'type': u'OAuthException', u'fbtrace_id': u'Ed7pTLlQG13'}\n",
      "{u'message': u'(#803) Cannot query users by their username (anders.kirkeby)', u'code': 803, u'type': u'OAuthException', u'fbtrace_id': u'GENHAGBYpvh'}\n",
      "{u'message': u'(#803) Some of the aliases you requested do not exist: mads.norgaard1', u'code': 803, u'type': u'OAuthException', u'fbtrace_id': u'Hg8VZzcEsfm'}\n",
      "{u'message': u'(#803) Cannot query users by their username (ostergaard.peter)', u'code': 803, u'type': u'OAuthException', u'fbtrace_id': u'BNf7lwHV/6n'}\n",
      "{u'message': u'(#803) Cannot query users by their username (frank.dahlgaard)', u'code': 803, u'type': u'OAuthException', u'fbtrace_id': u'AK/1H2cK9Pa'}\n",
      "{u'message': u'(#803) Cannot query users by their username (sahar.aslani.9)', u'code': 803, u'type': u'OAuthException', u'fbtrace_id': u'EXY6z05ZzUe'}\n",
      "{u'message': u'Invalid token: \"profile.php\".  An ID has already been specified.', u'code': 2500, u'type': u'OAuthException', u'fbtrace_id': u'BxvGHkvif2Z'}\n",
      "{u'message': u'(#803) Cannot query users by their username (tine.noerrekaer.sahlholt)', u'code': 803, u'type': u'OAuthException', u'fbtrace_id': u'E70IrZnDpU2'}\n",
      "Now 24 pages left to collect.\n",
      "249 Errors\t204 Done\n",
      "{u'message': u'(#803) Cannot query users by their username (jonathannielsen)', u'code': 803, u'type': u'OAuthException', u'fbtrace_id': u'ALM8XJ96BWz'}\n",
      "Now 19 pages left to collect.\n",
      "250 Errors\t208 Done\n",
      "{u'message': u'(#803) Some of the aliases you requested do not exist: KisserLA', u'code': 803, u'type': u'OAuthException', u'fbtrace_id': u'D+FigEErID1'}\n",
      "{u'message': u'(#803) Cannot query users by their username (rikke.jakobsen)', u'code': 803, u'type': u'OAuthException', u'fbtrace_id': u'H/V7/6PGbOP'}\n",
      "Now 14 pages left to collect.\n",
      "252 Errors\t211 Done\n",
      "{u'message': u\"Unsupported get request. Object with ID '105492282867515' does not exist, cannot be loaded due to missing permissions, or does not support this operation. Please read the Graph API documentation at https://developers.facebook.com/docs/graph-api\", u'code': 100, u'type': u'GraphMethodException', u'fbtrace_id': u'CnoYPaUShyR'}\n",
      "{u'message': u'(#803) Cannot query users by their username (frank.wichmann.39)', u'code': 803, u'type': u'OAuthException', u'fbtrace_id': u'GDLCXw8hx97'}\n",
      "{u'message': u'(#803) Cannot query users by their username (malene.neumann)', u'code': 803, u'type': u'OAuthException', u'fbtrace_id': u'ERnP3veiskw'}\n",
      "{u'message': u'(#803) Some of the aliases you requested do not exist: emiliaifolketinget', u'code': 803, u'type': u'OAuthException', u'fbtrace_id': u'BoVvbpO3P4f'}\n",
      "{u'message': u'(#803) Some of the aliases you requested do not exist: hejhejhejllll', u'code': 803, u'type': u'OAuthException', u'fbtrace_id': u'BOM+Zx6U010'}\n",
      "{u'message': u'(#803) Cannot query users by their username (johnny.heinmann)', u'code': 803, u'type': u'OAuthException', u'fbtrace_id': u'FhMErxYc9lr'}\n",
      "{u'message': u'(#803) Cannot query users by their username (kjeldaak)', u'code': 803, u'type': u'OAuthException', u'fbtrace_id': u'AeY7pfKO+zB'}\n",
      "{u'message': u'(#803) Cannot query users by their username (lene.foged.10)', u'code': 803, u'type': u'OAuthException', u'fbtrace_id': u'ELJUqrQVM+Q'}\n",
      "{u'message': u'(#803) Some of the aliases you requested do not exist: LASteffenTroldtoft', u'code': 803, u'type': u'OAuthException', u'fbtrace_id': u'HKLsgRLCZef'}\n",
      "{u'message': u'(#803) Cannot query users by their username (per.zeidler)', u'code': 803, u'type': u'OAuthException', u'fbtrace_id': u'DbWzoI0wJhB'}\n"
     ]
    }
   ],
   "source": [
    "\n",
    "for num,pageid in enumerate(subdf.facebook_identifier):\n",
    "    if pageid in (done or errors): # if we were to run it more than once.\n",
    "        continue\n",
    "    q = base_url%pageid+fields+authentification\n",
    "    response = get(q)\n",
    "    if response==None: # connection errors\n",
    "        retries.append(pageid) \n",
    "        continue # Go to the next pageid\n",
    "    if 'error' in response: # error message from facebook\n",
    "        errors[pageid] = response # keep the error message\n",
    "        print(response['error'])\n",
    "        continue # Go to the next pageid\n",
    "    filename = path+pageid\n",
    "    json.dump(response,open(filename,'w'))\n",
    "    done.add(pageid)\n",
    "    if num%5==0:\n",
    "        print('Now %d pages left to collect.\\n%d Errors\\t%d Done'%(len(subdf)-num,len(errors),len(done)))\n",
    "\n",
    "    "
   ]
  },
  {
   "cell_type": "code",
   "execution_count": 129,
   "metadata": {},
   "outputs": [
    {
     "name": "stdout",
     "output_type": "stream",
     "text": [
      "262 Errors\t214 Done\n"
     ]
    }
   ],
   "source": [
    "print('%d Errors\\t%d Done'%(len(errors),len(done)))"
   ]
  },
  {
   "cell_type": "code",
   "execution_count": null,
   "metadata": {
    "collapsed": true
   },
   "outputs": [],
   "source": [
    "# find the migrated ones in the error message\n",
    "\n",
    "# find the ids that didn't work, "
   ]
  },
  {
   "cell_type": "code",
   "execution_count": 130,
   "metadata": {
    "collapsed": true
   },
   "outputs": [],
   "source": [
    "ids = {}\n",
    "for i in done:\n",
    "    filename = path+i\n",
    "    try:\n",
    "        response = json.load(open(filename,'r'))\n",
    "    except:\n",
    "        print('-'),\n",
    "        continue\n",
    "    \n",
    "    ids[i] = response['id']\n"
   ]
  },
  {
   "cell_type": "code",
   "execution_count": 131,
   "metadata": {},
   "outputs": [
    {
     "data": {
      "text/html": [
       "<div>\n",
       "<style>\n",
       "    .dataframe thead tr:only-child th {\n",
       "        text-align: right;\n",
       "    }\n",
       "\n",
       "    .dataframe thead th {\n",
       "        text-align: left;\n",
       "    }\n",
       "\n",
       "    .dataframe tbody tr th {\n",
       "        vertical-align: top;\n",
       "    }\n",
       "</style>\n",
       "<table border=\"1\" class=\"dataframe\">\n",
       "  <thead>\n",
       "    <tr style=\"text-align: right;\">\n",
       "      <th></th>\n",
       "      <th>Alder</th>\n",
       "      <th>Altinget</th>\n",
       "      <th>Bopæl</th>\n",
       "      <th>Bornholms storkreds</th>\n",
       "      <th>Danmarks Radio</th>\n",
       "      <th>DanskePolitikere.dk</th>\n",
       "      <th>Erik Lund</th>\n",
       "      <th>Facebook</th>\n",
       "      <th>Fyns storkreds</th>\n",
       "      <th>Google+</th>\n",
       "      <th>...</th>\n",
       "      <th>Twitter</th>\n",
       "      <th>Twitter Facebook    Snapchat</th>\n",
       "      <th>Vestjyllands storkreds</th>\n",
       "      <th>Wikipedia</th>\n",
       "      <th>link</th>\n",
       "      <th>name</th>\n",
       "      <th>party</th>\n",
       "      <th>Østjyllands storkreds</th>\n",
       "      <th>facebook_identifier</th>\n",
       "      <th>fb_id</th>\n",
       "    </tr>\n",
       "  </thead>\n",
       "  <tbody>\n",
       "    <tr>\n",
       "      <th>0</th>\n",
       "      <td>Ukendt</td>\n",
       "      <td>http://www.altinget.dk/kandidater/ft15/Birgitt...</td>\n",
       "      <td>3770 Allinge</td>\n",
       "      <td>/kreds/bornholms-storkreds</td>\n",
       "      <td>NaN</td>\n",
       "      <td>NaN</td>\n",
       "      <td>NaN</td>\n",
       "      <td>https://www.facebook.com/pages/Birgitte-Kjølle...</td>\n",
       "      <td>NaN</td>\n",
       "      <td>NaN</td>\n",
       "      <td>...</td>\n",
       "      <td>https://www.twitter.com/BirgitteKP</td>\n",
       "      <td>NaN</td>\n",
       "      <td>NaN</td>\n",
       "      <td>NaN</td>\n",
       "      <td>http://www.folketingsvalg-2015.dk/birgitte-kjo...</td>\n",
       "      <td>Birgitte Kjøller Pedersen</td>\n",
       "      <td>Socialistisk Folkeparti</td>\n",
       "      <td>NaN</td>\n",
       "      <td>123520157707593</td>\n",
       "      <td>NaN</td>\n",
       "    </tr>\n",
       "    <tr>\n",
       "      <th>1</th>\n",
       "      <td>53</td>\n",
       "      <td>http://www.altinget.dk/kandidater/ft15/Leif-Olsen</td>\n",
       "      <td>3770 Allinge</td>\n",
       "      <td>/kreds/bornholms-storkreds</td>\n",
       "      <td>NaN</td>\n",
       "      <td>NaN</td>\n",
       "      <td>NaN</td>\n",
       "      <td>NaN</td>\n",
       "      <td>NaN</td>\n",
       "      <td>NaN</td>\n",
       "      <td>...</td>\n",
       "      <td>NaN</td>\n",
       "      <td>NaN</td>\n",
       "      <td>NaN</td>\n",
       "      <td>NaN</td>\n",
       "      <td>http://www.folketingsvalg-2015.dk/leif-olsen</td>\n",
       "      <td>Leif Olsen</td>\n",
       "      <td>Socialistisk Folkeparti</td>\n",
       "      <td>NaN</td>\n",
       "      <td>no-profile</td>\n",
       "      <td>NaN</td>\n",
       "    </tr>\n",
       "    <tr>\n",
       "      <th>2</th>\n",
       "      <td>59</td>\n",
       "      <td>http://www.altinget.dk/kandidater/ft15/Poul-Ov...</td>\n",
       "      <td>3700 Rønne</td>\n",
       "      <td>/kreds/bornholms-storkreds</td>\n",
       "      <td>NaN</td>\n",
       "      <td>NaN</td>\n",
       "      <td>NaN</td>\n",
       "      <td>NaN</td>\n",
       "      <td>NaN</td>\n",
       "      <td>NaN</td>\n",
       "      <td>...</td>\n",
       "      <td>NaN</td>\n",
       "      <td>NaN</td>\n",
       "      <td>NaN</td>\n",
       "      <td>NaN</td>\n",
       "      <td>http://www.folketingsvalg-2015.dk/poul-overlun...</td>\n",
       "      <td>Poul Overlund-Sørensen</td>\n",
       "      <td>Socialistisk Folkeparti</td>\n",
       "      <td>NaN</td>\n",
       "      <td>no-profile</td>\n",
       "      <td>NaN</td>\n",
       "    </tr>\n",
       "    <tr>\n",
       "      <th>3</th>\n",
       "      <td>57</td>\n",
       "      <td>http://www.altinget.dk/kandidater/ft15/Annette...</td>\n",
       "      <td>5300 Kerteminde</td>\n",
       "      <td>NaN</td>\n",
       "      <td>NaN</td>\n",
       "      <td>http://www.danskepolitikere.dk/annette-vilhelmsen</td>\n",
       "      <td>NaN</td>\n",
       "      <td>NaN</td>\n",
       "      <td>/kreds/fyns-storkreds</td>\n",
       "      <td>NaN</td>\n",
       "      <td>...</td>\n",
       "      <td>https://www.twitter.com/a_vilhelmsen</td>\n",
       "      <td>NaN</td>\n",
       "      <td>NaN</td>\n",
       "      <td>http://da.wikipedia.org/wiki/Annette_Vilhelmsen</td>\n",
       "      <td>http://www.folketingsvalg-2015.dk/annette-vilh...</td>\n",
       "      <td>Annette Vilhelmsen</td>\n",
       "      <td>Socialistisk Folkeparti</td>\n",
       "      <td>NaN</td>\n",
       "      <td>no-profile</td>\n",
       "      <td>NaN</td>\n",
       "    </tr>\n",
       "    <tr>\n",
       "      <th>4</th>\n",
       "      <td>Ukendt</td>\n",
       "      <td>http://www.altinget.dk/kandidater/ft15/Carl-Va...</td>\n",
       "      <td>2450 København NV</td>\n",
       "      <td>NaN</td>\n",
       "      <td>NaN</td>\n",
       "      <td>NaN</td>\n",
       "      <td>NaN</td>\n",
       "      <td>https://www.facebook.com/CarlValentinSF</td>\n",
       "      <td>/kreds/fyns-storkreds</td>\n",
       "      <td>NaN</td>\n",
       "      <td>...</td>\n",
       "      <td>https://www.twitter.com/Carl__Valentin</td>\n",
       "      <td>NaN</td>\n",
       "      <td>NaN</td>\n",
       "      <td>NaN</td>\n",
       "      <td>http://www.folketingsvalg-2015.dk/carl-valentin</td>\n",
       "      <td>Carl Valentin</td>\n",
       "      <td>Socialistisk Folkeparti</td>\n",
       "      <td>NaN</td>\n",
       "      <td>CarlValentinSF</td>\n",
       "      <td>323782467803321</td>\n",
       "    </tr>\n",
       "  </tbody>\n",
       "</table>\n",
       "<p>5 rows × 82 columns</p>\n",
       "</div>"
      ],
      "text/plain": [
       "    Alder                                           Altinget  \\\n",
       "0  Ukendt  http://www.altinget.dk/kandidater/ft15/Birgitt...   \n",
       "1      53  http://www.altinget.dk/kandidater/ft15/Leif-Olsen   \n",
       "2      59  http://www.altinget.dk/kandidater/ft15/Poul-Ov...   \n",
       "3      57  http://www.altinget.dk/kandidater/ft15/Annette...   \n",
       "4  Ukendt  http://www.altinget.dk/kandidater/ft15/Carl-Va...   \n",
       "\n",
       "               Bopæl         Bornholms storkreds Danmarks Radio  \\\n",
       "0       3770 Allinge  /kreds/bornholms-storkreds            NaN   \n",
       "1       3770 Allinge  /kreds/bornholms-storkreds            NaN   \n",
       "2         3700 Rønne  /kreds/bornholms-storkreds            NaN   \n",
       "3    5300 Kerteminde                         NaN            NaN   \n",
       "4  2450 København NV                         NaN            NaN   \n",
       "\n",
       "                                 DanskePolitikere.dk Erik Lund  \\\n",
       "0                                                NaN       NaN   \n",
       "1                                                NaN       NaN   \n",
       "2                                                NaN       NaN   \n",
       "3  http://www.danskepolitikere.dk/annette-vilhelmsen       NaN   \n",
       "4                                                NaN       NaN   \n",
       "\n",
       "                                            Facebook         Fyns storkreds  \\\n",
       "0  https://www.facebook.com/pages/Birgitte-Kjølle...                    NaN   \n",
       "1                                                NaN                    NaN   \n",
       "2                                                NaN                    NaN   \n",
       "3                                                NaN  /kreds/fyns-storkreds   \n",
       "4            https://www.facebook.com/CarlValentinSF  /kreds/fyns-storkreds   \n",
       "\n",
       "  Google+       ...                                        Twitter  \\\n",
       "0     NaN       ...             https://www.twitter.com/BirgitteKP   \n",
       "1     NaN       ...                                            NaN   \n",
       "2     NaN       ...                                            NaN   \n",
       "3     NaN       ...           https://www.twitter.com/a_vilhelmsen   \n",
       "4     NaN       ...         https://www.twitter.com/Carl__Valentin   \n",
       "\n",
       "  Twitter Facebook    Snapchat Vestjyllands storkreds  \\\n",
       "0                          NaN                    NaN   \n",
       "1                          NaN                    NaN   \n",
       "2                          NaN                    NaN   \n",
       "3                          NaN                    NaN   \n",
       "4                          NaN                    NaN   \n",
       "\n",
       "                                         Wikipedia  \\\n",
       "0                                              NaN   \n",
       "1                                              NaN   \n",
       "2                                              NaN   \n",
       "3  http://da.wikipedia.org/wiki/Annette_Vilhelmsen   \n",
       "4                                              NaN   \n",
       "\n",
       "                                                link  \\\n",
       "0  http://www.folketingsvalg-2015.dk/birgitte-kjo...   \n",
       "1       http://www.folketingsvalg-2015.dk/leif-olsen   \n",
       "2  http://www.folketingsvalg-2015.dk/poul-overlun...   \n",
       "3  http://www.folketingsvalg-2015.dk/annette-vilh...   \n",
       "4    http://www.folketingsvalg-2015.dk/carl-valentin   \n",
       "\n",
       "                        name                    party Østjyllands storkreds  \\\n",
       "0  Birgitte Kjøller Pedersen  Socialistisk Folkeparti                   NaN   \n",
       "1                 Leif Olsen  Socialistisk Folkeparti                   NaN   \n",
       "2     Poul Overlund-Sørensen  Socialistisk Folkeparti                   NaN   \n",
       "3         Annette Vilhelmsen  Socialistisk Folkeparti                   NaN   \n",
       "4              Carl Valentin  Socialistisk Folkeparti                   NaN   \n",
       "\n",
       "  facebook_identifier            fb_id  \n",
       "0     123520157707593              NaN  \n",
       "1          no-profile              NaN  \n",
       "2          no-profile              NaN  \n",
       "3          no-profile              NaN  \n",
       "4      CarlValentinSF  323782467803321  \n",
       "\n",
       "[5 rows x 82 columns]"
      ]
     },
     "execution_count": 131,
     "metadata": {},
     "output_type": "execute_result"
    }
   ],
   "source": [
    "def fb_id(identifier):\n",
    "    try:\n",
    "        return ids[identifier]\n",
    "    except:\n",
    "        return np.nan\n",
    "df['fb_id'] = df.facebook_identifier.apply(fb_id)\n",
    "df.head()"
   ]
  },
  {
   "cell_type": "code",
   "execution_count": 132,
   "metadata": {
    "collapsed": true
   },
   "outputs": [],
   "source": [
    "df.to_pickle('folketingsvalg-2015_scraped.pkl')"
   ]
  },
  {
   "cell_type": "code",
   "execution_count": 133,
   "metadata": {
    "collapsed": true
   },
   "outputs": [],
   "source": [
    "df.to_csv('folketingsvalg-2015_scraped.csv',index=False, encoding='utf-8')"
   ]
  },
  {
   "cell_type": "code",
   "execution_count": 134,
   "metadata": {
    "slideshow": {
     "slide_type": "skip"
    }
   },
   "outputs": [
    {
     "name": "stdout",
     "output_type": "stream",
     "text": [
      "214\n"
     ]
    }
   ],
   "source": [
    "print(len(ids))\n",
    "f = open('actual_politician_ids','w')\n",
    "f.write(','.join(ids.values()))\n",
    "f.close()"
   ]
  },
  {
   "cell_type": "code",
   "execution_count": null,
   "metadata": {
    "collapsed": true
   },
   "outputs": [],
   "source": [
    "import pandas as pd\n",
    "df = [zip([str(i) for i in range(10),range(10)])]\n",
    "df"
   ]
  },
  {
   "cell_type": "code",
   "execution_count": 1,
   "metadata": {
    "collapsed": true
   },
   "outputs": [],
   "source": [
    "import twitter"
   ]
  },
  {
   "cell_type": "code",
   "execution_count": 2,
   "metadata": {},
   "outputs": [
    {
     "name": "stdout",
     "output_type": "stream",
     "text": [
      "The history saving thread hit an unexpected error (OperationalError('database is locked',)).History will not be written to the database.\n"
     ]
    }
   ],
   "source": [
    "CONSUMER_KEY=\"mDHKLc1ldQig7Llj5BJkA\"\n",
    "CONSUMER_SECRET=\"MPCft5fjuVOb50XUNlzD6IIRgDhlfJz3QZTYacQVE\"\n",
    "OAUTH_TOKEN=\"1500643860-kD2jn5dQNmV5CCp7kLIOnmsHpE9FQMh52VB1fej\"\n",
    "OAUTH_TOKEN_SECRET=\"3ETsun20hwJQVKbDLflxDXUioVb5jEDYzLFNAdyCLw\"\n"
   ]
  },
  {
   "cell_type": "code",
   "execution_count": 17,
   "metadata": {},
   "outputs": [
    {
     "data": {
      "text/plain": [
       "(1592124152979842452,\n",
       " 0,\n",
       " [User(ID=3277520330, ScreenName=rajpootankush1),\n",
       "  User(ID=276426853, ScreenName=fashionizers),\n",
       "  User(ID=749896990318792704, ScreenName=KolesCoinNews),\n",
       "  User(ID=1403190542, ScreenName=divars777),\n",
       "  User(ID=1396351814, ScreenName=hbakhtiyor),\n",
       "  User(ID=961916428931629056, ScreenName=W0eaPA9SQVTUFgN),\n",
       "  User(ID=950883720885686272, ScreenName=DrHeath3),\n",
       "  User(ID=3502985008, ScreenName=mjzerah1),\n",
       "  User(ID=963366229430996992, ScreenName=ciamadziara),\n",
       "  User(ID=811556723639123968, ScreenName=CryptonomosICO),\n",
       "  User(ID=602791035, ScreenName=investor229),\n",
       "  User(ID=952819104947224576, ScreenName=codingzhou),\n",
       "  User(ID=2370259905, ScreenName=TradeGortat),\n",
       "  User(ID=944513490903031808, ScreenName=UnitedFans_co),\n",
       "  User(ID=897861355411079169, ScreenName=karannagpal788),\n",
       "  User(ID=946484362467520513, ScreenName=CoinAzo),\n",
       "  User(ID=884778625710645248, ScreenName=ant1_dur),\n",
       "  User(ID=940448897813458945, ScreenName=zigi190315),\n",
       "  User(ID=950999482501656576, ScreenName=Kashif_M84),\n",
       "  User(ID=950001390755205122, ScreenName=BoCryptoo),\n",
       "  User(ID=156911698, ScreenName=Satyansu),\n",
       "  User(ID=2962670238, ScreenName=thulynnn),\n",
       "  User(ID=955692838376824832, ScreenName=gk96423357),\n",
       "  User(ID=232472813, ScreenName=maldima),\n",
       "  User(ID=2873041746, ScreenName=jorgexlima),\n",
       "  User(ID=1511605958, ScreenName=IamDWhz),\n",
       "  User(ID=897877892151037954, ScreenName=GeorgeCoins),\n",
       "  User(ID=927389249023778816, ScreenName=JSupakrit),\n",
       "  User(ID=911681285537529857, ScreenName=Mcglryz95),\n",
       "  User(ID=52307322, ScreenName=CelinK3),\n",
       "  User(ID=266829342, ScreenName=___vadim___),\n",
       "  User(ID=3103912789, ScreenName=tenikoteniko),\n",
       "  User(ID=950729668713435137, ScreenName=colton_mw),\n",
       "  User(ID=963146134561665024, ScreenName=cerberusfund),\n",
       "  User(ID=3936691034, ScreenName=Buesi68),\n",
       "  User(ID=960414973053644801, ScreenName=Crypto_News_Net),\n",
       "  User(ID=955636804409085952, ScreenName=CryptoJonezy),\n",
       "  User(ID=2438564525, ScreenName=Jones_FBCoach),\n",
       "  User(ID=4421797102, ScreenName=alisadrock),\n",
       "  User(ID=3711517697, ScreenName=KevinClawson4),\n",
       "  User(ID=237327089, ScreenName=Ubuntufoo),\n",
       "  User(ID=557946286, ScreenName=Training4aFight),\n",
       "  User(ID=37610004, ScreenName=flowonline),\n",
       "  User(ID=755671120246935552, ScreenName=Michael_DNKR),\n",
       "  User(ID=855863060904411140, ScreenName=kailo9k),\n",
       "  User(ID=2485073736, ScreenName=kaiorofl),\n",
       "  User(ID=745994151687237632, ScreenName=SultanTrades),\n",
       "  User(ID=884914068980510720, ScreenName=JoeMccafe),\n",
       "  User(ID=961859167035129857, ScreenName=ZZoeZhang),\n",
       "  User(ID=947244426124021761, ScreenName=RealSonOfCrypto),\n",
       "  User(ID=941090778255945728, ScreenName=DigAssets01),\n",
       "  User(ID=15611631, ScreenName=RaLLyFuKiNrEd),\n",
       "  User(ID=109328837, ScreenName=ASprayz),\n",
       "  User(ID=58134760, ScreenName=portse09),\n",
       "  User(ID=911995008135368705, ScreenName=ReggieC24),\n",
       "  User(ID=937327532600430592, ScreenName=esshaman),\n",
       "  User(ID=434287584, ScreenName=CryptoAnCap),\n",
       "  User(ID=390492457, ScreenName=JeffOsment),\n",
       "  User(ID=19474671, ScreenName=leithkingsley),\n",
       "  User(ID=925518336783540224, ScreenName=realbitcoinhodl),\n",
       "  User(ID=55298237, ScreenName=rembordaje),\n",
       "  User(ID=958468323645251590, ScreenName=Denis_Semenkov),\n",
       "  User(ID=904772796617764864, ScreenName=Altexchanger),\n",
       "  User(ID=38119216, ScreenName=Tsuinashi),\n",
       "  User(ID=934061237008261120, ScreenName=sedetanos),\n",
       "  User(ID=19417432, ScreenName=troels_a),\n",
       "  User(ID=737452914264920064, ScreenName=WsdmB4Sentiment),\n",
       "  User(ID=97054599, ScreenName=germanfajardo),\n",
       "  User(ID=949595058239688706, ScreenName=Shah67632809),\n",
       "  User(ID=3846982529, ScreenName=Ningwang2008),\n",
       "  User(ID=912398541859024896, ScreenName=David_Varo__),\n",
       "  User(ID=137171892, ScreenName=legacyBorg),\n",
       "  User(ID=2362398422, ScreenName=JPSWealthManage),\n",
       "  User(ID=838035375645917184, ScreenName=StephenEllerker),\n",
       "  User(ID=2825548260, ScreenName=VallanceStephen),\n",
       "  User(ID=521949041, ScreenName=JRDN_YungKartel),\n",
       "  User(ID=961501148397129728, ScreenName=vsvsff),\n",
       "  User(ID=4191501, ScreenName=Transpersonal),\n",
       "  User(ID=279406827, ScreenName=mehmetkulu),\n",
       "  User(ID=940666937377476610, ScreenName=PetarNovoselski),\n",
       "  User(ID=879356394759004161, ScreenName=zikochuu),\n",
       "  User(ID=948937808743247872, ScreenName=UlanKek),\n",
       "  User(ID=963126288172113920, ScreenName=OneitheG),\n",
       "  User(ID=271353265, ScreenName=OskarOjaveer),\n",
       "  User(ID=874708223068180482, ScreenName=esystemskz),\n",
       "  User(ID=797492966940147713, ScreenName=monicavermont),\n",
       "  User(ID=933666299141607424, ScreenName=crypto_davino),\n",
       "  User(ID=247896425, ScreenName=andrewcoleslaw),\n",
       "  User(ID=2917812402, ScreenName=pl6689),\n",
       "  User(ID=193377493, ScreenName=thretto),\n",
       "  User(ID=9741862, ScreenName=Cobus),\n",
       "  User(ID=944229052415692800, ScreenName=crypto_nos),\n",
       "  User(ID=1229168521, ScreenName=CoinOnTheBlock),\n",
       "  User(ID=930594378883719168, ScreenName=Cryptobrotherz),\n",
       "  User(ID=820026676948140034, ScreenName=ismaylgenc),\n",
       "  User(ID=190171780, ScreenName=oldskoolfilms),\n",
       "  User(ID=191758499, ScreenName=w_matz),\n",
       "  User(ID=962942026944794624, ScreenName=Ksuksu175),\n",
       "  User(ID=920337832144711682, ScreenName=psss_n),\n",
       "  User(ID=1408460822, ScreenName=tuisuken355),\n",
       "  User(ID=948280025421373440, ScreenName=Crypto_PoS),\n",
       "  User(ID=936912551715020801, ScreenName=CryptoDream_),\n",
       "  User(ID=945657660900298752, ScreenName=Elijah_Kaminski),\n",
       "  User(ID=3285114019, ScreenName=saisaroj500),\n",
       "  User(ID=933960174976618496, ScreenName=BlockchainWolf),\n",
       "  User(ID=147912515, ScreenName=furkanbu),\n",
       "  User(ID=3363136311, ScreenName=AlmeriaFerrago),\n",
       "  User(ID=947645712073875458, ScreenName=BrentGill6),\n",
       "  User(ID=866825125, ScreenName=vlad_alonso),\n",
       "  User(ID=1605793044, ScreenName=vijay_ceo),\n",
       "  User(ID=4482143534, ScreenName=1989kt1989),\n",
       "  User(ID=933624557688229888, ScreenName=EgginkRanko),\n",
       "  User(ID=1018974673, ScreenName=75SAHNI),\n",
       "  User(ID=905593127439785984, ScreenName=nickristeski1),\n",
       "  User(ID=47756101, ScreenName=ryanjjacques),\n",
       "  User(ID=2679139040, ScreenName=Warini_5),\n",
       "  User(ID=957930246531158016, ScreenName=Meorlig),\n",
       "  User(ID=872386332, ScreenName=mhajut),\n",
       "  User(ID=949199152151371776, ScreenName=KpunToN00b),\n",
       "  User(ID=723433083781808132, ScreenName=niaga_vb),\n",
       "  User(ID=803220542945800193, ScreenName=Stevie_SFV),\n",
       "  User(ID=1602293845, ScreenName=ThorstenHellw),\n",
       "  User(ID=3038224070, ScreenName=angad1111),\n",
       "  User(ID=884053138025713665, ScreenName=JonnyCaricatura),\n",
       "  User(ID=919787636310659072, ScreenName=chukacudedibia),\n",
       "  User(ID=941938758638858240, ScreenName=vladimir_malich),\n",
       "  User(ID=888298051244220416, ScreenName=CryptoTrends52),\n",
       "  User(ID=91073905, ScreenName=ramvijji),\n",
       "  User(ID=863097062, ScreenName=BrendanFlanders),\n",
       "  User(ID=1621160209, ScreenName=NatalieVanDW),\n",
       "  User(ID=793780109526175744, ScreenName=tomeltringham23),\n",
       "  User(ID=962940418781425664, ScreenName=HoneyMoonTip),\n",
       "  User(ID=783298417720254464, ScreenName=javier_eguren),\n",
       "  User(ID=1849297219, ScreenName=ocortez83),\n",
       "  User(ID=930279210698100736, ScreenName=JvwaUbKjokidZ4v),\n",
       "  User(ID=4796544814, ScreenName=Ahmedthabet806),\n",
       "  User(ID=2904680505, ScreenName=kristopherbenko),\n",
       "  User(ID=962923923997421569, ScreenName=Lindajenny10),\n",
       "  User(ID=700591184, ScreenName=FaikAdam),\n",
       "  User(ID=336008894, ScreenName=BereLetras),\n",
       "  User(ID=16790082, ScreenName=Shakaama),\n",
       "  User(ID=877531491441487872, ScreenName=RaidZeroTV),\n",
       "  User(ID=996927722, ScreenName=whoever_you9),\n",
       "  User(ID=912524412104040448, ScreenName=BlockChainIns),\n",
       "  User(ID=11946382, ScreenName=sigurdkv),\n",
       "  User(ID=9726032, ScreenName=careyz),\n",
       "  User(ID=790490949268934656, ScreenName=seanjfox),\n",
       "  User(ID=250676333, ScreenName=aahmed1983),\n",
       "  User(ID=962870072292159489, ScreenName=KittyoftheFutu1),\n",
       "  User(ID=607772894, ScreenName=CryptoVl),\n",
       "  User(ID=2788340165, ScreenName=nbvnfobn),\n",
       "  User(ID=86187666, ScreenName=jaybergmann),\n",
       "  User(ID=783745029793873922, ScreenName=daddad211),\n",
       "  User(ID=241261193, ScreenName=Mariuszp85),\n",
       "  User(ID=755028981666185216, ScreenName=justtrading420),\n",
       "  User(ID=2428726646, ScreenName=dancook1989),\n",
       "  User(ID=856903543, ScreenName=FeitzePeenstra),\n",
       "  User(ID=870835483, ScreenName=leonbrothers26),\n",
       "  User(ID=944034477617176576, ScreenName=sasoki_99),\n",
       "  User(ID=962831684243677184, ScreenName=BurgOren),\n",
       "  User(ID=962818629505986560, ScreenName=InvestingSmall),\n",
       "  User(ID=1513586797, ScreenName=ethereumnewstx),\n",
       "  User(ID=2214868964, ScreenName=fight_that),\n",
       "  User(ID=55983427, ScreenName=cern616),\n",
       "  User(ID=908160187638468608, ScreenName=SamraniSaid),\n",
       "  User(ID=15735841, ScreenName=t4ndu),\n",
       "  User(ID=26928955, ScreenName=tvanderark),\n",
       "  User(ID=952986367524524032, ScreenName=NikolayTsvetan1),\n",
       "  User(ID=952211252352376832, ScreenName=Adaptar2050),\n",
       "  User(ID=19685142, ScreenName=Ephrimvael),\n",
       "  User(ID=929074262744424448, ScreenName=markustempl),\n",
       "  User(ID=241871949, ScreenName=ali_abdlaziz),\n",
       "  User(ID=961146888220233729, ScreenName=a_tschantz),\n",
       "  User(ID=961764169031864320, ScreenName=Interchain_V),\n",
       "  User(ID=2607704832, ScreenName=98108HI),\n",
       "  User(ID=1494245792, ScreenName=bigmoeya),\n",
       "  User(ID=882464139267977216, ScreenName=KezkoAi),\n",
       "  User(ID=962782769108672512, ScreenName=tjoepeloe),\n",
       "  User(ID=799333654124183552, ScreenName=Tandrida),\n",
       "  User(ID=806099748876853249, ScreenName=makak1987),\n",
       "  User(ID=285813689, ScreenName=egoitzaulestia),\n",
       "  User(ID=708812906293551104, ScreenName=GerhardYoung),\n",
       "  User(ID=333763275, ScreenName=benji_walton),\n",
       "  User(ID=958675582455336961, ScreenName=Crypto_Kakarrot),\n",
       "  User(ID=406635343, ScreenName=MilindMalshe),\n",
       "  User(ID=4469777135, ScreenName=DGAG03649326),\n",
       "  User(ID=43123173, ScreenName=ajdoerig),\n",
       "  User(ID=943853371513016320, ScreenName=13eyondsociety),\n",
       "  User(ID=1019998154, ScreenName=mlvora),\n",
       "  User(ID=2613895523, ScreenName=wbqng),\n",
       "  User(ID=838072984741023744, ScreenName=IoPCommunity_RU),\n",
       "  User(ID=601648398, ScreenName=johnconnjr),\n",
       "  User(ID=945755193295110145, ScreenName=KolyaSvyrydiuk),\n",
       "  User(ID=19410316, ScreenName=bojanlazar),\n",
       "  User(ID=105504039, ScreenName=TBukher),\n",
       "  User(ID=27348288, ScreenName=monkeyGeneral),\n",
       "  User(ID=22447801, ScreenName=lamerwalker),\n",
       "  User(ID=906923956837347329, ScreenName=Poppypredicts),\n",
       "  User(ID=951083666788306944, ScreenName=Turcu01706780),\n",
       "  User(ID=950271812646129664, ScreenName=Wel43863903)])"
      ]
     },
     "execution_count": 17,
     "metadata": {},
     "output_type": "execute_result"
    }
   ],
   "source": [
    "api.GetFollowersPaged(screen_name='singularity_net',cursor=-1,)"
   ]
  },
  {
   "cell_type": "code",
   "execution_count": null,
   "metadata": {
    "collapsed": true
   },
   "outputs": [],
   "source": []
  },
  {
   "cell_type": "code",
   "execution_count": 3,
   "metadata": {
    "collapsed": true
   },
   "outputs": [],
   "source": [
    "api = twitter.Api(consumer_key=CONSUMER_KEY,\n",
    "                      consumer_secret=CONSUMER_SECRET,\n",
    "                      access_token_key=OAUTH_TOKEN,\n",
    "                      access_token_secret=OAUTH_TOKEN_SECRET)"
   ]
  },
  {
   "cell_type": "code",
   "execution_count": 13,
   "metadata": {},
   "outputs": [
    {
     "ename": "NameError",
     "evalue": "name 'TwitterError' is not defined",
     "output_type": "error",
     "traceback": [
      "\u001b[0;31m---------------------------------------------------------------------------\u001b[0m",
      "\u001b[0;31mTwitterError\u001b[0m                              Traceback (most recent call last)",
      "\u001b[0;32m<ipython-input-13-a7406ab4cb2f>\u001b[0m in \u001b[0;36m<module>\u001b[0;34m()\u001b[0m\n\u001b[1;32m      6\u001b[0m     \u001b[0;32mtry\u001b[0m\u001b[0;34m:\u001b[0m\u001b[0;34m\u001b[0m\u001b[0m\n\u001b[0;32m----> 7\u001b[0;31m         \u001b[0mcursor\u001b[0m\u001b[0;34m,\u001b[0m\u001b[0mprevious\u001b[0m\u001b[0;34m,\u001b[0m \u001b[0mresponse\u001b[0m \u001b[0;34m=\u001b[0m \u001b[0mapi\u001b[0m\u001b[0;34m.\u001b[0m\u001b[0mGetFollowerIDsPaged\u001b[0m\u001b[0;34m(\u001b[0m\u001b[0;34m'singularity_net'\u001b[0m\u001b[0;34m,\u001b[0m\u001b[0mcursor\u001b[0m\u001b[0;34m=\u001b[0m\u001b[0mcursor\u001b[0m\u001b[0;34m)\u001b[0m\u001b[0;34m\u001b[0m\u001b[0m\n\u001b[0m\u001b[1;32m      8\u001b[0m     \u001b[0;32mexcept\u001b[0m \u001b[0mTwitterError\u001b[0m \u001b[0;32mas\u001b[0m \u001b[0me\u001b[0m\u001b[0;34m:\u001b[0m\u001b[0;34m\u001b[0m\u001b[0m\n",
      "\u001b[0;32m/Users/axelengbergpallesen/anaconda/lib/python3.6/site-packages/twitter/api.py\u001b[0m in \u001b[0;36mGetFollowerIDsPaged\u001b[0;34m(self, user_id, screen_name, cursor, stringify_ids, count)\u001b[0m\n\u001b[1;32m   2338\u001b[0m                                  \u001b[0mstringify_ids\u001b[0m\u001b[0;34m=\u001b[0m\u001b[0mstringify_ids\u001b[0m\u001b[0;34m,\u001b[0m\u001b[0;34m\u001b[0m\u001b[0m\n\u001b[0;32m-> 2339\u001b[0;31m                                  count=count)\n\u001b[0m\u001b[1;32m   2340\u001b[0m \u001b[0;34m\u001b[0m\u001b[0m\n",
      "\u001b[0;32m/Users/axelengbergpallesen/anaconda/lib/python3.6/site-packages/twitter/api.py\u001b[0m in \u001b[0;36m_GetIDsPaged\u001b[0;34m(self, url, user_id, screen_name, cursor, stringify_ids, count)\u001b[0m\n\u001b[1;32m   2289\u001b[0m         \u001b[0mresp\u001b[0m \u001b[0;34m=\u001b[0m \u001b[0mself\u001b[0m\u001b[0;34m.\u001b[0m\u001b[0m_RequestUrl\u001b[0m\u001b[0;34m(\u001b[0m\u001b[0murl\u001b[0m\u001b[0;34m,\u001b[0m \u001b[0;34m'GET'\u001b[0m\u001b[0;34m,\u001b[0m \u001b[0mdata\u001b[0m\u001b[0;34m=\u001b[0m\u001b[0mparameters\u001b[0m\u001b[0;34m)\u001b[0m\u001b[0;34m\u001b[0m\u001b[0m\n\u001b[0;32m-> 2290\u001b[0;31m         \u001b[0mdata\u001b[0m \u001b[0;34m=\u001b[0m \u001b[0mself\u001b[0m\u001b[0;34m.\u001b[0m\u001b[0m_ParseAndCheckTwitter\u001b[0m\u001b[0;34m(\u001b[0m\u001b[0mresp\u001b[0m\u001b[0;34m.\u001b[0m\u001b[0mcontent\u001b[0m\u001b[0;34m.\u001b[0m\u001b[0mdecode\u001b[0m\u001b[0;34m(\u001b[0m\u001b[0;34m'utf-8'\u001b[0m\u001b[0;34m)\u001b[0m\u001b[0;34m)\u001b[0m\u001b[0;34m\u001b[0m\u001b[0m\n\u001b[0m\u001b[1;32m   2291\u001b[0m \u001b[0;34m\u001b[0m\u001b[0m\n",
      "\u001b[0;32m/Users/axelengbergpallesen/anaconda/lib/python3.6/site-packages/twitter/api.py\u001b[0m in \u001b[0;36m_ParseAndCheckTwitter\u001b[0;34m(self, json_data)\u001b[0m\n\u001b[1;32m   4893\u001b[0m             \u001b[0;32mraise\u001b[0m \u001b[0mTwitterError\u001b[0m\u001b[0;34m(\u001b[0m\u001b[0;34m{\u001b[0m\u001b[0;34m'Unknown error: {0}'\u001b[0m\u001b[0;34m.\u001b[0m\u001b[0mformat\u001b[0m\u001b[0;34m(\u001b[0m\u001b[0mjson_data\u001b[0m\u001b[0;34m)\u001b[0m\u001b[0;34m}\u001b[0m\u001b[0;34m)\u001b[0m\u001b[0;34m\u001b[0m\u001b[0m\n\u001b[0;32m-> 4894\u001b[0;31m         \u001b[0mself\u001b[0m\u001b[0;34m.\u001b[0m\u001b[0m_CheckForTwitterError\u001b[0m\u001b[0;34m(\u001b[0m\u001b[0mdata\u001b[0m\u001b[0;34m)\u001b[0m\u001b[0;34m\u001b[0m\u001b[0m\n\u001b[0m\u001b[1;32m   4895\u001b[0m         \u001b[0;32mreturn\u001b[0m \u001b[0mdata\u001b[0m\u001b[0;34m\u001b[0m\u001b[0m\n",
      "\u001b[0;32m/Users/axelengbergpallesen/anaconda/lib/python3.6/site-packages/twitter/api.py\u001b[0m in \u001b[0;36m_CheckForTwitterError\u001b[0;34m(data)\u001b[0m\n\u001b[1;32m   4913\u001b[0m         \u001b[0;32mif\u001b[0m \u001b[0;34m'errors'\u001b[0m \u001b[0;32min\u001b[0m \u001b[0mdata\u001b[0m\u001b[0;34m:\u001b[0m\u001b[0;34m\u001b[0m\u001b[0m\n\u001b[0;32m-> 4914\u001b[0;31m             \u001b[0;32mraise\u001b[0m \u001b[0mTwitterError\u001b[0m\u001b[0;34m(\u001b[0m\u001b[0mdata\u001b[0m\u001b[0;34m[\u001b[0m\u001b[0;34m'errors'\u001b[0m\u001b[0;34m]\u001b[0m\u001b[0;34m)\u001b[0m\u001b[0;34m\u001b[0m\u001b[0m\n\u001b[0m\u001b[1;32m   4915\u001b[0m \u001b[0;34m\u001b[0m\u001b[0m\n",
      "\u001b[0;31mTwitterError\u001b[0m: [{'message': 'Rate limit exceeded', 'code': 88}]",
      "\nDuring handling of the above exception, another exception occurred:\n",
      "\u001b[0;31mNameError\u001b[0m                                 Traceback (most recent call last)",
      "\u001b[0;32m<ipython-input-13-a7406ab4cb2f>\u001b[0m in \u001b[0;36m<module>\u001b[0;34m()\u001b[0m\n\u001b[1;32m      6\u001b[0m     \u001b[0;32mtry\u001b[0m\u001b[0;34m:\u001b[0m\u001b[0;34m\u001b[0m\u001b[0m\n\u001b[1;32m      7\u001b[0m         \u001b[0mcursor\u001b[0m\u001b[0;34m,\u001b[0m\u001b[0mprevious\u001b[0m\u001b[0;34m,\u001b[0m \u001b[0mresponse\u001b[0m \u001b[0;34m=\u001b[0m \u001b[0mapi\u001b[0m\u001b[0;34m.\u001b[0m\u001b[0mGetFollowerIDsPaged\u001b[0m\u001b[0;34m(\u001b[0m\u001b[0;34m'singularity_net'\u001b[0m\u001b[0;34m,\u001b[0m\u001b[0mcursor\u001b[0m\u001b[0;34m=\u001b[0m\u001b[0mcursor\u001b[0m\u001b[0;34m)\u001b[0m\u001b[0;34m\u001b[0m\u001b[0m\n\u001b[0;32m----> 8\u001b[0;31m     \u001b[0;32mexcept\u001b[0m \u001b[0mTwitterError\u001b[0m \u001b[0;32mas\u001b[0m \u001b[0me\u001b[0m\u001b[0;34m:\u001b[0m\u001b[0;34m\u001b[0m\u001b[0m\n\u001b[0m\u001b[1;32m      9\u001b[0m         \u001b[0mprint\u001b[0m\u001b[0;34m(\u001b[0m\u001b[0mstr\u001b[0m\u001b[0;34m(\u001b[0m\u001b[0me\u001b[0m\u001b[0;34m)\u001b[0m\u001b[0;34m)\u001b[0m\u001b[0;34m\u001b[0m\u001b[0m\n\u001b[1;32m     10\u001b[0m         \u001b[0;32mcontinue\u001b[0m\u001b[0;34m\u001b[0m\u001b[0m\n",
      "\u001b[0;31mNameError\u001b[0m: name 'TwitterError' is not defined"
     ]
    }
   ],
   "source": [
    "import time\n",
    "responses = []\n",
    "cursor = 0\n",
    "while True:\n",
    "    time.sleep(1)\n",
    "    try:\n",
    "        cursor,previous, response = api.GetFollowerIDsPaged('singularity_net',cursor=cursor)\n",
    "    except Exception as e:\n",
    "        print(e)\n",
    "        continue\n",
    "    responses+=response\n",
    "    if cursor==-1:\n",
    "        break\n",
    "    else:\n",
    "        print(cursor)\n",
    "    "
   ]
  },
  {
   "cell_type": "code",
   "execution_count": null,
   "metadata": {
    "collapsed": true
   },
   "outputs": [],
   "source": []
  },
  {
   "cell_type": "code",
   "execution_count": null,
   "metadata": {
    "collapsed": true
   },
   "outputs": [],
   "source": []
  }
 ],
 "metadata": {
  "anaconda-cloud": {},
  "celltoolbar": "Slideshow",
  "kernelspec": {
   "display_name": "Python 3",
   "language": "python",
   "name": "python3"
  },
  "language_info": {
   "codemirror_mode": {
    "name": "ipython",
    "version": 3
   },
   "file_extension": ".py",
   "mimetype": "text/x-python",
   "name": "python",
   "nbconvert_exporter": "python",
   "pygments_lexer": "ipython3",
   "version": "3.6.1"
  },
  "latex_envs": {
   "bibliofile": "biblio.bib",
   "cite_by": "apalike",
   "current_citInitial": 1,
   "eqLabelWithNumbers": true,
   "eqNumInitial": 0
  },
  "toc": {
   "nav_menu": {
    "height": "68px",
    "width": "252px"
   },
   "navigate_menu": true,
   "number_sections": true,
   "sideBar": true,
   "threshold": 4,
   "toc_cell": false,
   "toc_section_display": "block",
   "toc_window_display": false
  }
 },
 "nbformat": 4,
 "nbformat_minor": 1
}
